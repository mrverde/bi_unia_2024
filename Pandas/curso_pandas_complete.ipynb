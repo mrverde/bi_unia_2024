{
 "cells": [
  {
   "cell_type": "markdown",
   "id": "2b18fb17",
   "metadata": {},
   "source": [
    "# 1. ¿Qué es Pandas?\n",
    "\n",
    "Pandas es una librería del lenguaje de programación Python que sirve para la manipulación y el análisis de datos. El nombre proviene de \"panel data\".\n",
    "\n",
    "Pandas tiene numerosas funcionalidades que la hacen una de las mejores opciones para trabajar con datos, entre otras:\n",
    "\n",
    "* Métodos integrados para la manipulación rápida de datos.\n",
    "* Gestión de datos incompletos\n",
    "* Segmentación\n",
    "* Inserción y eliminación de columnas\n",
    "* Mezcla y unión de datos\n",
    "* Series temporales\n",
    "\n",
    "La web del proyecto donde podremos encontrar la documentación es https://pandas.pydata.org/"
   ]
  },
  {
   "cell_type": "code",
   "execution_count": 1,
   "id": "f4b9adec",
   "metadata": {},
   "outputs": [],
   "source": [
    "# Para importar pandas en un proyecto\n",
    "\n",
    "import pandas as pd"
   ]
  },
  {
   "cell_type": "code",
   "execution_count": 2,
   "id": "cda8557c",
   "metadata": {},
   "outputs": [],
   "source": [
    "# Para importar numpy en un proyecto\n",
    "\n",
    "import numpy as np"
   ]
  },
  {
   "cell_type": "markdown",
   "id": "3fe1fb72",
   "metadata": {},
   "source": [
    "# 2. Tipos de datos en Pandas\n",
    "\n",
    "Existen dos tipos de datos dentro de pandas, las series y los dataframes.\n",
    "\n",
    "## [Series](https://pandas.pydata.org/docs/reference/api/pandas.Series.html)\n",
    "\n",
    "Una serie en Pandas es un array unidimensional. Contiene cualquier tipo de dato soportado en Python y utiliza etiquetas para localizar cada valor de datos para su recuperación. Estas etiquetas forman el índice, y pueden ser incluir cadenas o números enteros. Una Serie es la principal estructura de datos en el framework de pandas para almacenar datos unidimensionales."
   ]
  },
  {
   "cell_type": "code",
   "execution_count": 3,
   "id": "9a1cc8f0",
   "metadata": {},
   "outputs": [
    {
     "data": {
      "text/plain": [
       "Madrid       100\n",
       "Huelva        20\n",
       "Sevilla       50\n",
       "Barcelona     80\n",
       "Bilbao        44\n",
       "dtype: int64"
      ]
     },
     "execution_count": 3,
     "metadata": {},
     "output_type": "execute_result"
    }
   ],
   "source": [
    "# Para crear una serie usamos\n",
    "pd.Series\n",
    "\n",
    "# Crear serie desde un diccionario\n",
    "mi_diccionario = {\"Madrid\" : 100, \"Huelva\": 20, \"Sevilla\": 50, \"Barcelona\": 80, \"Bilbao\": 44}\n",
    "s_ciudades = pd.Series(data=mi_diccionario)\n",
    "s_ciudades"
   ]
  },
  {
   "cell_type": "code",
   "execution_count": 4,
   "id": "f7ad6274",
   "metadata": {},
   "outputs": [
    {
     "data": {
      "text/plain": [
       "0    100\n",
       "1     20\n",
       "2     50\n",
       "3     80\n",
       "4     44\n",
       "dtype: int64"
      ]
     },
     "execution_count": 4,
     "metadata": {},
     "output_type": "execute_result"
    }
   ],
   "source": [
    "# Crear serie desde listas\n",
    "mi_lista = [100, 20, 50, 80, 44]\n",
    "s_ciudades = pd.Series(data=mi_lista)\n",
    "s_ciudades"
   ]
  },
  {
   "cell_type": "code",
   "execution_count": 5,
   "id": "aba84d64",
   "metadata": {},
   "outputs": [
    {
     "data": {
      "text/plain": [
       "Madrid       100\n",
       "Huelva        20\n",
       "Sevilla       50\n",
       "Barcelona     80\n",
       "Bilbao        44\n",
       "dtype: int64"
      ]
     },
     "execution_count": 5,
     "metadata": {},
     "output_type": "execute_result"
    }
   ],
   "source": [
    "s_ciudades.index = [\"Madrid\", \"Huelva\", \"Sevilla\", \"Barcelona\", \"Bilbao\"]\n",
    "s_ciudades"
   ]
  },
  {
   "cell_type": "markdown",
   "id": "eb918d8c",
   "metadata": {},
   "source": [
    "### Atributos de la serie"
   ]
  },
  {
   "cell_type": "code",
   "execution_count": 6,
   "id": "81a53338",
   "metadata": {},
   "outputs": [
    {
     "data": {
      "text/plain": [
       "dtype('int64')"
      ]
     },
     "execution_count": 6,
     "metadata": {},
     "output_type": "execute_result"
    }
   ],
   "source": [
    "# Tipo de dato\n",
    "s_ciudades.dtype"
   ]
  },
  {
   "cell_type": "code",
   "execution_count": 7,
   "id": "a1ec4626",
   "metadata": {},
   "outputs": [
    {
     "data": {
      "text/plain": [
       "5"
      ]
     },
     "execution_count": 7,
     "metadata": {},
     "output_type": "execute_result"
    }
   ],
   "source": [
    "# Tamaño\n",
    "s_ciudades.size"
   ]
  },
  {
   "cell_type": "code",
   "execution_count": 8,
   "id": "87ff23b3",
   "metadata": {},
   "outputs": [
    {
     "data": {
      "text/plain": [
       "Index(['Madrid', 'Huelva', 'Sevilla', 'Barcelona', 'Bilbao'], dtype='object')"
      ]
     },
     "execution_count": 8,
     "metadata": {},
     "output_type": "execute_result"
    }
   ],
   "source": [
    "# Índices\n",
    "s_ciudades.index"
   ]
  },
  {
   "cell_type": "markdown",
   "id": "63e02336",
   "metadata": {},
   "source": [
    "### Acceso a los datos de la serie"
   ]
  },
  {
   "cell_type": "code",
   "execution_count": 9,
   "id": "cf2271a8",
   "metadata": {},
   "outputs": [
    {
     "name": "stderr",
     "output_type": "stream",
     "text": [
      "/var/folders/3t/d2zbs9zj1nqgx7s3vhrpvbw40000gn/T/ipykernel_4873/2693357705.py:2: FutureWarning: Series.__getitem__ treating keys as positions is deprecated. In a future version, integer keys will always be treated as labels (consistent with DataFrame behavior). To access a value by position, use `ser.iloc[pos]`\n",
      "  s_ciudades[0]\n"
     ]
    },
    {
     "data": {
      "text/plain": [
       "np.int64(100)"
      ]
     },
     "execution_count": 9,
     "metadata": {},
     "output_type": "execute_result"
    }
   ],
   "source": [
    "# Por número entero\n",
    "s_ciudades[0]"
   ]
  },
  {
   "cell_type": "code",
   "execution_count": 10,
   "id": "5348802b",
   "metadata": {},
   "outputs": [
    {
     "data": {
      "text/plain": [
       "Huelva       20\n",
       "Sevilla      50\n",
       "Barcelona    80\n",
       "dtype: int64"
      ]
     },
     "execution_count": 10,
     "metadata": {},
     "output_type": "execute_result"
    }
   ],
   "source": [
    "# Varios valores por número entero\n",
    "s_ciudades[1:4]"
   ]
  },
  {
   "cell_type": "code",
   "execution_count": 11,
   "id": "4afc5fe3",
   "metadata": {},
   "outputs": [
    {
     "data": {
      "text/plain": [
       "np.int64(20)"
      ]
     },
     "execution_count": 11,
     "metadata": {},
     "output_type": "execute_result"
    }
   ],
   "source": [
    "# Por valor del índice\n",
    "s_ciudades[\"Huelva\"]"
   ]
  },
  {
   "cell_type": "code",
   "execution_count": 12,
   "id": "2f413602",
   "metadata": {},
   "outputs": [
    {
     "data": {
      "text/plain": [
       "Huelva     20\n",
       "Madrid    100\n",
       "dtype: int64"
      ]
     },
     "execution_count": 12,
     "metadata": {},
     "output_type": "execute_result"
    }
   ],
   "source": [
    "# Varios valores por valor del índice\n",
    "s_ciudades[[\"Huelva\", \"Madrid\"]]"
   ]
  },
  {
   "cell_type": "markdown",
   "id": "31d010d4",
   "metadata": {},
   "source": [
    "### Estadísticos descriptivos de una serie"
   ]
  },
  {
   "cell_type": "code",
   "execution_count": 13,
   "id": "760d4c50",
   "metadata": {},
   "outputs": [
    {
     "data": {
      "text/plain": [
       "np.int64(5)"
      ]
     },
     "execution_count": 13,
     "metadata": {},
     "output_type": "execute_result"
    }
   ],
   "source": [
    "# Número de elementos que no son NaN\n",
    "s_ciudades.count()"
   ]
  },
  {
   "cell_type": "code",
   "execution_count": 14,
   "id": "0e130aa7",
   "metadata": {},
   "outputs": [
    {
     "data": {
      "text/plain": [
       "np.int64(294)"
      ]
     },
     "execution_count": 14,
     "metadata": {},
     "output_type": "execute_result"
    }
   ],
   "source": [
    "# Suma de los datos (datos numéricos) o concatenación (cadenas)\n",
    "s_ciudades.sum()"
   ]
  },
  {
   "cell_type": "code",
   "execution_count": 15,
   "id": "23b62e76",
   "metadata": {},
   "outputs": [
    {
     "data": {
      "text/plain": [
       "Madrid       100\n",
       "Huelva       120\n",
       "Sevilla      170\n",
       "Barcelona    250\n",
       "Bilbao       294\n",
       "dtype: int64"
      ]
     },
     "execution_count": 15,
     "metadata": {},
     "output_type": "execute_result"
    }
   ],
   "source": [
    "# Suma acumulativa (sólo datos numéricos)\n",
    "s_ciudades.cumsum()"
   ]
  },
  {
   "cell_type": "code",
   "execution_count": 16,
   "id": "1294f9ef",
   "metadata": {},
   "outputs": [
    {
     "data": {
      "text/plain": [
       "100    1\n",
       "20     1\n",
       "50     1\n",
       "80     1\n",
       "44     1\n",
       "Name: count, dtype: int64"
      ]
     },
     "execution_count": 16,
     "metadata": {},
     "output_type": "execute_result"
    }
   ],
   "source": [
    "# Obtener frecuencia de cada valor de la serie\n",
    "s_ciudades.value_counts()"
   ]
  },
  {
   "cell_type": "code",
   "execution_count": 17,
   "id": "2df2b8d3",
   "metadata": {},
   "outputs": [
    {
     "data": {
      "text/plain": [
       "np.int64(20)"
      ]
     },
     "execution_count": 17,
     "metadata": {},
     "output_type": "execute_result"
    }
   ],
   "source": [
    "# Obtener el menor valor de los datos de la serie (sólo datos numéricos)\n",
    "s_ciudades.min()"
   ]
  },
  {
   "cell_type": "code",
   "execution_count": 18,
   "id": "f4759936",
   "metadata": {},
   "outputs": [
    {
     "data": {
      "text/plain": [
       "np.int64(100)"
      ]
     },
     "execution_count": 18,
     "metadata": {},
     "output_type": "execute_result"
    }
   ],
   "source": [
    "# Obtener el mayor valor de los datos de la serie (sólo datos numéricos)\n",
    "s_ciudades.max()"
   ]
  },
  {
   "cell_type": "code",
   "execution_count": 19,
   "id": "751aa752",
   "metadata": {},
   "outputs": [
    {
     "data": {
      "text/plain": [
       "np.float64(58.8)"
      ]
     },
     "execution_count": 19,
     "metadata": {},
     "output_type": "execute_result"
    }
   ],
   "source": [
    "# Obtener la media del valor de los datos de la serie (sólo datos numéricos)\n",
    "s_ciudades.mean()"
   ]
  },
  {
   "cell_type": "code",
   "execution_count": 20,
   "id": "9173d1aa",
   "metadata": {},
   "outputs": [
    {
     "data": {
      "text/plain": [
       "np.float64(31.41973901864877)"
      ]
     },
     "execution_count": 20,
     "metadata": {},
     "output_type": "execute_result"
    }
   ],
   "source": [
    "# Obtener la desviación típica de lso datos de la serie (sólo datos numéricos)\n",
    "s_ciudades.std()"
   ]
  },
  {
   "cell_type": "code",
   "execution_count": 21,
   "id": "c5d2986c",
   "metadata": {},
   "outputs": [
    {
     "data": {
      "text/plain": [
       "count      5.000000\n",
       "mean      58.800000\n",
       "std       31.419739\n",
       "min       20.000000\n",
       "25%       44.000000\n",
       "50%       50.000000\n",
       "75%       80.000000\n",
       "max      100.000000\n",
       "dtype: float64"
      ]
     },
     "execution_count": 21,
     "metadata": {},
     "output_type": "execute_result"
    }
   ],
   "source": [
    "# Obtener estadísticos descriptivos de la serie\n",
    "s_ciudades.describe()"
   ]
  },
  {
   "cell_type": "markdown",
   "id": "24e55385",
   "metadata": {},
   "source": [
    "### Operadores\n",
    "\n",
    "Los operadores de python tanto aritméticos (+, -, *, /, **, % , y //) como relacionales (>, <, ==, >=, <= y !=) pueden usarse para hacer operaciones con una serie"
   ]
  },
  {
   "cell_type": "code",
   "execution_count": 22,
   "id": "55096ed1",
   "metadata": {},
   "outputs": [
    {
     "data": {
      "text/plain": [
       "Madrid       1100\n",
       "Huelva       1020\n",
       "Sevilla      1050\n",
       "Barcelona    1080\n",
       "Bilbao       1044\n",
       "dtype: int64"
      ]
     },
     "execution_count": 22,
     "metadata": {},
     "output_type": "execute_result"
    }
   ],
   "source": [
    "s_ciudades + 1000"
   ]
  },
  {
   "cell_type": "code",
   "execution_count": 23,
   "id": "aeb90217",
   "metadata": {},
   "outputs": [
    {
     "data": {
      "text/plain": [
       "Madrid       90\n",
       "Huelva       10\n",
       "Sevilla      40\n",
       "Barcelona    70\n",
       "Bilbao       34\n",
       "dtype: int64"
      ]
     },
     "execution_count": 23,
     "metadata": {},
     "output_type": "execute_result"
    }
   ],
   "source": [
    "s_ciudades - 10"
   ]
  },
  {
   "cell_type": "code",
   "execution_count": 24,
   "id": "64a499cf",
   "metadata": {},
   "outputs": [
    {
     "data": {
      "text/plain": [
       "Madrid       33.333333\n",
       "Huelva        6.666667\n",
       "Sevilla      16.666667\n",
       "Barcelona    26.666667\n",
       "Bilbao       14.666667\n",
       "dtype: float64"
      ]
     },
     "execution_count": 24,
     "metadata": {},
     "output_type": "execute_result"
    }
   ],
   "source": [
    "s_ciudades / 3"
   ]
  },
  {
   "cell_type": "code",
   "execution_count": 25,
   "id": "071ad776",
   "metadata": {},
   "outputs": [
    {
     "data": {
      "text/plain": [
       "Madrid       10000\n",
       "Huelva         400\n",
       "Sevilla       2500\n",
       "Barcelona     6400\n",
       "Bilbao        1936\n",
       "dtype: int64"
      ]
     },
     "execution_count": 25,
     "metadata": {},
     "output_type": "execute_result"
    }
   ],
   "source": [
    "s_ciudades ** 2"
   ]
  },
  {
   "cell_type": "code",
   "execution_count": 26,
   "id": "0352c9d6",
   "metadata": {},
   "outputs": [
    {
     "data": {
      "text/plain": [
       "Madrid        True\n",
       "Huelva       False\n",
       "Sevilla      False\n",
       "Barcelona    False\n",
       "Bilbao       False\n",
       "dtype: bool"
      ]
     },
     "execution_count": 26,
     "metadata": {},
     "output_type": "execute_result"
    }
   ],
   "source": [
    "s_ciudades > 80"
   ]
  },
  {
   "cell_type": "code",
   "execution_count": 27,
   "id": "a2072733",
   "metadata": {},
   "outputs": [
    {
     "data": {
      "text/plain": [
       "Madrid       False\n",
       "Huelva        True\n",
       "Sevilla      False\n",
       "Barcelona    False\n",
       "Bilbao       False\n",
       "dtype: bool"
      ]
     },
     "execution_count": 27,
     "metadata": {},
     "output_type": "execute_result"
    }
   ],
   "source": [
    "s_ciudades == 20"
   ]
  },
  {
   "cell_type": "markdown",
   "id": "7cbca1a5",
   "metadata": {},
   "source": [
    "### Funciones\n",
    "Se pueden aplicar funciones a cada elemento de la serie utilizando el método apply"
   ]
  },
  {
   "cell_type": "code",
   "execution_count": 28,
   "id": "4e3a34b9",
   "metadata": {},
   "outputs": [
    {
     "data": {
      "text/plain": [
       "Madrid       10.000000\n",
       "Huelva        4.472136\n",
       "Sevilla       7.071068\n",
       "Barcelona     8.944272\n",
       "Bilbao        6.633250\n",
       "dtype: float64"
      ]
     },
     "execution_count": 28,
     "metadata": {},
     "output_type": "execute_result"
    }
   ],
   "source": [
    "from math import sqrt\n",
    "s_ciudades.apply(sqrt)"
   ]
  },
  {
   "cell_type": "markdown",
   "id": "12b0dbb7",
   "metadata": {},
   "source": [
    "También podremos aplicar nuestras propias funciones"
   ]
  },
  {
   "cell_type": "code",
   "execution_count": 29,
   "id": "956d0478",
   "metadata": {},
   "outputs": [
    {
     "data": {
      "text/plain": [
       "Madrid       141.421356\n",
       "Huelva        28.284271\n",
       "Sevilla       70.710678\n",
       "Barcelona    113.137085\n",
       "Bilbao        62.225397\n",
       "dtype: float64"
      ]
     },
     "execution_count": 29,
     "metadata": {},
     "output_type": "execute_result"
    }
   ],
   "source": [
    "def get_hypotenuse_value(x):\n",
    "    return sqrt(2*x**2)\n",
    "\n",
    "s_ciudades.apply(get_hypotenuse_value)"
   ]
  },
  {
   "cell_type": "code",
   "execution_count": 30,
   "id": "83bef919",
   "metadata": {},
   "outputs": [
    {
     "data": {
      "text/plain": [
       "Madrid       141.421356\n",
       "Huelva        28.284271\n",
       "Sevilla       70.710678\n",
       "Barcelona    113.137085\n",
       "Bilbao        62.225397\n",
       "dtype: float64"
      ]
     },
     "execution_count": 30,
     "metadata": {},
     "output_type": "execute_result"
    }
   ],
   "source": [
    "s_ciudades.apply(lambda x: sqrt(2*x**2))"
   ]
  },
  {
   "cell_type": "markdown",
   "id": "122ffa12",
   "metadata": {},
   "source": [
    "### Filtrar series\n",
    "\n",
    "Podemos filtrar los valores de la serie y quedarnos con aquellos que cumplen una determinada condición"
   ]
  },
  {
   "cell_type": "code",
   "execution_count": 31,
   "id": "c52110cd",
   "metadata": {},
   "outputs": [
    {
     "data": {
      "text/plain": [
       "Huelva    20\n",
       "Bilbao    44\n",
       "dtype: int64"
      ]
     },
     "execution_count": 31,
     "metadata": {},
     "output_type": "execute_result"
    }
   ],
   "source": [
    "s_ciudades[s_ciudades < 50]"
   ]
  },
  {
   "cell_type": "markdown",
   "id": "05603686",
   "metadata": {},
   "source": [
    "### Eliminar NaNs"
   ]
  },
  {
   "cell_type": "code",
   "execution_count": 32,
   "id": "9c410fc8",
   "metadata": {},
   "outputs": [
    {
     "data": {
      "text/plain": [
       "Madrid       100.0\n",
       "Huelva        20.0\n",
       "Sevilla       50.0\n",
       "Barcelona     80.0\n",
       "Bilbao        44.0\n",
       "dtype: float64"
      ]
     },
     "execution_count": 32,
     "metadata": {},
     "output_type": "execute_result"
    }
   ],
   "source": [
    "s_ciudades = pd.Series(data={\"Madrid\" : 100, \n",
    "                             \"Huelva\": 20, \n",
    "                             \"Sevilla\": 50, \n",
    "                             \"Barcelona\": 80, \n",
    "                             \"Bilbao\": 44, \n",
    "                             \"Tarragona\": None,\n",
    "                             \"A Coruña\": np.nan\n",
    "                            }\n",
    "                      )\n",
    "s_ciudades.dropna()"
   ]
  },
  {
   "cell_type": "markdown",
   "id": "26f1b094",
   "metadata": {},
   "source": [
    "## [Dataframe](https://pandas.pydata.org/docs/reference/api/pandas.DataFrame.html)\n",
    "\n",
    "Un Dataframe es una estructura de datos bidimensional etiquetada con columnas que pueden ser de tipos diferentes. Es parecido a una hoja de cálculo o una tabla SQL. Cada una de las columnas es una Serie. Es el objeto de la librería pandas más utilizado.\n",
    "\n",
    "![Estructura Dataframe](recursos/01_dataframe.png)\n",
    "\n",
    "[Gráfico extraído del curso de pandas de Juan Barrios](https://www.juanbarrios.com/curso-de-pandas-completo-desde-cero/)"
   ]
  },
  {
   "cell_type": "markdown",
   "id": "ad6cabf6",
   "metadata": {},
   "source": [
    "### Creación de Dataframes\n",
    "\n",
    "Un Dataframe puede crearse a partir de diferentes elementos"
   ]
  },
  {
   "cell_type": "code",
   "execution_count": 33,
   "id": "76fb5026",
   "metadata": {},
   "outputs": [
    {
     "data": {
      "text/html": [
       "<div>\n",
       "<style scoped>\n",
       "    .dataframe tbody tr th:only-of-type {\n",
       "        vertical-align: middle;\n",
       "    }\n",
       "\n",
       "    .dataframe tbody tr th {\n",
       "        vertical-align: top;\n",
       "    }\n",
       "\n",
       "    .dataframe thead th {\n",
       "        text-align: right;\n",
       "    }\n",
       "</style>\n",
       "<table border=\"1\" class=\"dataframe\">\n",
       "  <thead>\n",
       "    <tr style=\"text-align: right;\">\n",
       "      <th></th>\n",
       "      <th>ciudades</th>\n",
       "      <th>n_churrerias</th>\n",
       "      <th>habitantes</th>\n",
       "    </tr>\n",
       "  </thead>\n",
       "  <tbody>\n",
       "    <tr>\n",
       "      <th>0</th>\n",
       "      <td>Madrid</td>\n",
       "      <td>100</td>\n",
       "      <td>3223000</td>\n",
       "    </tr>\n",
       "    <tr>\n",
       "      <th>1</th>\n",
       "      <td>Huelva</td>\n",
       "      <td>20</td>\n",
       "      <td>144258</td>\n",
       "    </tr>\n",
       "    <tr>\n",
       "      <th>2</th>\n",
       "      <td>Sevilla</td>\n",
       "      <td>50</td>\n",
       "      <td>688711</td>\n",
       "    </tr>\n",
       "    <tr>\n",
       "      <th>3</th>\n",
       "      <td>Barcelona</td>\n",
       "      <td>80</td>\n",
       "      <td>1620000</td>\n",
       "    </tr>\n",
       "    <tr>\n",
       "      <th>4</th>\n",
       "      <td>Bilbao</td>\n",
       "      <td>44</td>\n",
       "      <td>345821</td>\n",
       "    </tr>\n",
       "  </tbody>\n",
       "</table>\n",
       "</div>"
      ],
      "text/plain": [
       "    ciudades  n_churrerias  habitantes\n",
       "0     Madrid           100     3223000\n",
       "1     Huelva            20      144258\n",
       "2    Sevilla            50      688711\n",
       "3  Barcelona            80     1620000\n",
       "4     Bilbao            44      345821"
      ]
     },
     "execution_count": 33,
     "metadata": {},
     "output_type": "execute_result"
    }
   ],
   "source": [
    "# Para crear un dataframe usamos\n",
    "pd.DataFrame\n",
    "\n",
    "# Crear DataFrame desde un diccionario de listas\n",
    "mi_dict_l = {\"ciudades\": [\"Madrid\", \"Huelva\", \"Sevilla\", \"Barcelona\", \"Bilbao\"], \n",
    "             \"n_churrerias\": [100, 20, 50, 80, 44],\n",
    "             \"habitantes\": [3223000, 144258, 688711, 1620000, 345821]\n",
    "            }\n",
    "df_c = pd.DataFrame(mi_dict_l)\n",
    "df_c"
   ]
  },
  {
   "cell_type": "code",
   "execution_count": 34,
   "id": "339d2c91",
   "metadata": {},
   "outputs": [
    {
     "data": {
      "text/html": [
       "<div>\n",
       "<style scoped>\n",
       "    .dataframe tbody tr th:only-of-type {\n",
       "        vertical-align: middle;\n",
       "    }\n",
       "\n",
       "    .dataframe tbody tr th {\n",
       "        vertical-align: top;\n",
       "    }\n",
       "\n",
       "    .dataframe thead th {\n",
       "        text-align: right;\n",
       "    }\n",
       "</style>\n",
       "<table border=\"1\" class=\"dataframe\">\n",
       "  <thead>\n",
       "    <tr style=\"text-align: right;\">\n",
       "      <th></th>\n",
       "      <th>ciudades</th>\n",
       "      <th>n_churrerias</th>\n",
       "      <th>habitantes</th>\n",
       "    </tr>\n",
       "  </thead>\n",
       "  <tbody>\n",
       "    <tr>\n",
       "      <th>0</th>\n",
       "      <td>Madrid</td>\n",
       "      <td>100</td>\n",
       "      <td>3223000</td>\n",
       "    </tr>\n",
       "    <tr>\n",
       "      <th>1</th>\n",
       "      <td>Huelva</td>\n",
       "      <td>20</td>\n",
       "      <td>144258</td>\n",
       "    </tr>\n",
       "    <tr>\n",
       "      <th>2</th>\n",
       "      <td>Sevilla</td>\n",
       "      <td>50</td>\n",
       "      <td>688711</td>\n",
       "    </tr>\n",
       "    <tr>\n",
       "      <th>3</th>\n",
       "      <td>Barcelona</td>\n",
       "      <td>80</td>\n",
       "      <td>1620000</td>\n",
       "    </tr>\n",
       "    <tr>\n",
       "      <th>4</th>\n",
       "      <td>Bilbao</td>\n",
       "      <td>44</td>\n",
       "      <td>345821</td>\n",
       "    </tr>\n",
       "  </tbody>\n",
       "</table>\n",
       "</div>"
      ],
      "text/plain": [
       "    ciudades  n_churrerias  habitantes\n",
       "0     Madrid           100     3223000\n",
       "1     Huelva            20      144258\n",
       "2    Sevilla            50      688711\n",
       "3  Barcelona            80     1620000\n",
       "4     Bilbao            44      345821"
      ]
     },
     "execution_count": 34,
     "metadata": {},
     "output_type": "execute_result"
    }
   ],
   "source": [
    "# Crear DataFrame desde una lista de listas\n",
    "mi_ls_l = [[\"Madrid\", 100, 3223000],\n",
    "           [\"Huelva\", 20, 144258],\n",
    "           [\"Sevilla\", 50, 688711],\n",
    "           [\"Barcelona\", 80, 1620000],\n",
    "           [\"Bilbao\", 44, 345821]\n",
    "          ]\n",
    "columnas = [\"ciudades\", \"n_churrerias\", \"habitantes\"]\n",
    "df_c = pd.DataFrame(mi_ls_l, columns=columnas)\n",
    "df_c"
   ]
  },
  {
   "cell_type": "code",
   "execution_count": 35,
   "id": "46b8b26e",
   "metadata": {},
   "outputs": [
    {
     "data": {
      "text/html": [
       "<div>\n",
       "<style scoped>\n",
       "    .dataframe tbody tr th:only-of-type {\n",
       "        vertical-align: middle;\n",
       "    }\n",
       "\n",
       "    .dataframe tbody tr th {\n",
       "        vertical-align: top;\n",
       "    }\n",
       "\n",
       "    .dataframe thead th {\n",
       "        text-align: right;\n",
       "    }\n",
       "</style>\n",
       "<table border=\"1\" class=\"dataframe\">\n",
       "  <thead>\n",
       "    <tr style=\"text-align: right;\">\n",
       "      <th></th>\n",
       "      <th>ciudades</th>\n",
       "      <th>n_churrerias</th>\n",
       "      <th>habitantes</th>\n",
       "    </tr>\n",
       "  </thead>\n",
       "  <tbody>\n",
       "    <tr>\n",
       "      <th>0</th>\n",
       "      <td>Madrid</td>\n",
       "      <td>100</td>\n",
       "      <td>3223000</td>\n",
       "    </tr>\n",
       "    <tr>\n",
       "      <th>1</th>\n",
       "      <td>Huelva</td>\n",
       "      <td>20</td>\n",
       "      <td>144258</td>\n",
       "    </tr>\n",
       "    <tr>\n",
       "      <th>2</th>\n",
       "      <td>Sevilla</td>\n",
       "      <td>50</td>\n",
       "      <td>688711</td>\n",
       "    </tr>\n",
       "    <tr>\n",
       "      <th>3</th>\n",
       "      <td>Barcelona</td>\n",
       "      <td>80</td>\n",
       "      <td>1620000</td>\n",
       "    </tr>\n",
       "    <tr>\n",
       "      <th>4</th>\n",
       "      <td>Bilbao</td>\n",
       "      <td>44</td>\n",
       "      <td>345821</td>\n",
       "    </tr>\n",
       "  </tbody>\n",
       "</table>\n",
       "</div>"
      ],
      "text/plain": [
       "    ciudades  n_churrerias  habitantes\n",
       "0     Madrid           100     3223000\n",
       "1     Huelva            20      144258\n",
       "2    Sevilla            50      688711\n",
       "3  Barcelona            80     1620000\n",
       "4     Bilbao            44      345821"
      ]
     },
     "execution_count": 35,
     "metadata": {},
     "output_type": "execute_result"
    }
   ],
   "source": [
    "# Crear DataFrame desde una lista de diccionarios\n",
    "mi_ls_dict = [{\"ciudades\": \"Madrid\", \"n_churrerias\": 100, \"habitantes\": 3223000},\n",
    "              {\"ciudades\": \"Huelva\", \"n_churrerias\": 20, \"habitantes\": 144258},\n",
    "              {\"ciudades\": \"Sevilla\", \"n_churrerias\": 50, \"habitantes\": 688711},\n",
    "              {\"ciudades\": \"Barcelona\", \"n_churrerias\": 80, \"habitantes\": 1620000},\n",
    "              {\"ciudades\": \"Bilbao\", \"n_churrerias\": 44, \"habitantes\": 345821},\n",
    "             ]\n",
    "\n",
    "df_c = pd.DataFrame(mi_ls_dict)\n",
    "df_c"
   ]
  },
  {
   "cell_type": "markdown",
   "id": "9e4bc043",
   "metadata": {},
   "source": [
    "#### [Crear DataFrame a partir de un fichero CSV](https://pandas.pydata.org/docs/reference/api/pandas.read_csv.html)"
   ]
  },
  {
   "cell_type": "code",
   "execution_count": 36,
   "id": "41538cf6",
   "metadata": {},
   "outputs": [
    {
     "data": {
      "text/html": [
       "<div>\n",
       "<style scoped>\n",
       "    .dataframe tbody tr th:only-of-type {\n",
       "        vertical-align: middle;\n",
       "    }\n",
       "\n",
       "    .dataframe tbody tr th {\n",
       "        vertical-align: top;\n",
       "    }\n",
       "\n",
       "    .dataframe thead th {\n",
       "        text-align: right;\n",
       "    }\n",
       "</style>\n",
       "<table border=\"1\" class=\"dataframe\">\n",
       "  <thead>\n",
       "    <tr style=\"text-align: right;\">\n",
       "      <th></th>\n",
       "      <th>ciudades</th>\n",
       "      <th>n_churrerias</th>\n",
       "      <th>habitantes</th>\n",
       "    </tr>\n",
       "  </thead>\n",
       "  <tbody>\n",
       "    <tr>\n",
       "      <th>0</th>\n",
       "      <td>Madrid</td>\n",
       "      <td>100</td>\n",
       "      <td>3223000</td>\n",
       "    </tr>\n",
       "    <tr>\n",
       "      <th>1</th>\n",
       "      <td>Huelva</td>\n",
       "      <td>20</td>\n",
       "      <td>144258</td>\n",
       "    </tr>\n",
       "    <tr>\n",
       "      <th>2</th>\n",
       "      <td>Sevilla</td>\n",
       "      <td>50</td>\n",
       "      <td>688711</td>\n",
       "    </tr>\n",
       "    <tr>\n",
       "      <th>3</th>\n",
       "      <td>Barcelona</td>\n",
       "      <td>80</td>\n",
       "      <td>1620000</td>\n",
       "    </tr>\n",
       "    <tr>\n",
       "      <th>4</th>\n",
       "      <td>Bilbao</td>\n",
       "      <td>44</td>\n",
       "      <td>345821</td>\n",
       "    </tr>\n",
       "  </tbody>\n",
       "</table>\n",
       "</div>"
      ],
      "text/plain": [
       "    ciudades  n_churrerias  habitantes\n",
       "0     Madrid           100     3223000\n",
       "1     Huelva            20      144258\n",
       "2    Sevilla            50      688711\n",
       "3  Barcelona            80     1620000\n",
       "4     Bilbao            44      345821"
      ]
     },
     "execution_count": 36,
     "metadata": {},
     "output_type": "execute_result"
    }
   ],
   "source": [
    "df_c = pd.read_csv(\"recursos/02_city_data.csv\", sep=\";\")\n",
    "df_c"
   ]
  },
  {
   "cell_type": "markdown",
   "id": "ab723d96",
   "metadata": {},
   "source": [
    "#### [Crear DataFrame a partir de un fichero Excel](https://pandas.pydata.org/docs/reference/api/pandas.read_excel.html)"
   ]
  },
  {
   "cell_type": "code",
   "execution_count": 37,
   "id": "afa38e0f",
   "metadata": {},
   "outputs": [
    {
     "data": {
      "text/html": [
       "<div>\n",
       "<style scoped>\n",
       "    .dataframe tbody tr th:only-of-type {\n",
       "        vertical-align: middle;\n",
       "    }\n",
       "\n",
       "    .dataframe tbody tr th {\n",
       "        vertical-align: top;\n",
       "    }\n",
       "\n",
       "    .dataframe thead th {\n",
       "        text-align: right;\n",
       "    }\n",
       "</style>\n",
       "<table border=\"1\" class=\"dataframe\">\n",
       "  <thead>\n",
       "    <tr style=\"text-align: right;\">\n",
       "      <th></th>\n",
       "      <th>ciudades</th>\n",
       "      <th>n_churrerias</th>\n",
       "      <th>habitantes</th>\n",
       "    </tr>\n",
       "  </thead>\n",
       "  <tbody>\n",
       "    <tr>\n",
       "      <th>0</th>\n",
       "      <td>Madrid</td>\n",
       "      <td>100</td>\n",
       "      <td>3223000</td>\n",
       "    </tr>\n",
       "    <tr>\n",
       "      <th>1</th>\n",
       "      <td>Huelva</td>\n",
       "      <td>20</td>\n",
       "      <td>144258</td>\n",
       "    </tr>\n",
       "    <tr>\n",
       "      <th>2</th>\n",
       "      <td>Sevilla</td>\n",
       "      <td>50</td>\n",
       "      <td>688711</td>\n",
       "    </tr>\n",
       "    <tr>\n",
       "      <th>3</th>\n",
       "      <td>Barcelona</td>\n",
       "      <td>80</td>\n",
       "      <td>1620000</td>\n",
       "    </tr>\n",
       "    <tr>\n",
       "      <th>4</th>\n",
       "      <td>Bilbao</td>\n",
       "      <td>44</td>\n",
       "      <td>345821</td>\n",
       "    </tr>\n",
       "  </tbody>\n",
       "</table>\n",
       "</div>"
      ],
      "text/plain": [
       "    ciudades  n_churrerias  habitantes\n",
       "0     Madrid           100     3223000\n",
       "1     Huelva            20      144258\n",
       "2    Sevilla            50      688711\n",
       "3  Barcelona            80     1620000\n",
       "4     Bilbao            44      345821"
      ]
     },
     "execution_count": 37,
     "metadata": {},
     "output_type": "execute_result"
    }
   ],
   "source": [
    "df_c = pd.read_excel(\"recursos/03_city_data.xlsx\")\n",
    "df_c"
   ]
  },
  {
   "cell_type": "markdown",
   "id": "c46a2195",
   "metadata": {},
   "source": [
    "#### [Crear DataFrame a partir de un fichero JSON](https://pandas.pydata.org/docs/reference/api/pandas.read_json.html)"
   ]
  },
  {
   "cell_type": "code",
   "execution_count": 38,
   "id": "bf3b370a",
   "metadata": {},
   "outputs": [
    {
     "data": {
      "text/html": [
       "<div>\n",
       "<style scoped>\n",
       "    .dataframe tbody tr th:only-of-type {\n",
       "        vertical-align: middle;\n",
       "    }\n",
       "\n",
       "    .dataframe tbody tr th {\n",
       "        vertical-align: top;\n",
       "    }\n",
       "\n",
       "    .dataframe thead th {\n",
       "        text-align: right;\n",
       "    }\n",
       "</style>\n",
       "<table border=\"1\" class=\"dataframe\">\n",
       "  <thead>\n",
       "    <tr style=\"text-align: right;\">\n",
       "      <th></th>\n",
       "      <th>ciudades</th>\n",
       "      <th>n_churrerias</th>\n",
       "      <th>habitantes</th>\n",
       "    </tr>\n",
       "  </thead>\n",
       "  <tbody>\n",
       "    <tr>\n",
       "      <th>0</th>\n",
       "      <td>Madrid</td>\n",
       "      <td>100</td>\n",
       "      <td>3223000</td>\n",
       "    </tr>\n",
       "    <tr>\n",
       "      <th>1</th>\n",
       "      <td>Huelva</td>\n",
       "      <td>20</td>\n",
       "      <td>144258</td>\n",
       "    </tr>\n",
       "    <tr>\n",
       "      <th>2</th>\n",
       "      <td>Sevilla</td>\n",
       "      <td>50</td>\n",
       "      <td>688711</td>\n",
       "    </tr>\n",
       "    <tr>\n",
       "      <th>3</th>\n",
       "      <td>Barcelona</td>\n",
       "      <td>80</td>\n",
       "      <td>1620000</td>\n",
       "    </tr>\n",
       "    <tr>\n",
       "      <th>4</th>\n",
       "      <td>Bilbao</td>\n",
       "      <td>44</td>\n",
       "      <td>345821</td>\n",
       "    </tr>\n",
       "  </tbody>\n",
       "</table>\n",
       "</div>"
      ],
      "text/plain": [
       "    ciudades  n_churrerias  habitantes\n",
       "0     Madrid           100     3223000\n",
       "1     Huelva            20      144258\n",
       "2    Sevilla            50      688711\n",
       "3  Barcelona            80     1620000\n",
       "4     Bilbao            44      345821"
      ]
     },
     "execution_count": 38,
     "metadata": {},
     "output_type": "execute_result"
    }
   ],
   "source": [
    "df_c = pd.read_json(\"recursos/04_city_data.json\")\n",
    "df_c"
   ]
  },
  {
   "cell_type": "markdown",
   "id": "40227296",
   "metadata": {},
   "source": [
    "#### Exportar ficheros"
   ]
  },
  {
   "cell_type": "markdown",
   "id": "bc0e239f",
   "metadata": {},
   "source": [
    "#### [Exportar a CSV](https://pandas.pydata.org/docs/reference/api/pandas.DataFrame.to_csv.html)"
   ]
  },
  {
   "cell_type": "code",
   "execution_count": 39,
   "id": "c202522c",
   "metadata": {},
   "outputs": [],
   "source": [
    "df_c.to_csv(\"output.csv\", sep=\"|\", index=False)"
   ]
  },
  {
   "cell_type": "markdown",
   "id": "5a6b0e7a",
   "metadata": {},
   "source": [
    "#### [Exportar a Excel](https://pandas.pydata.org/docs/reference/api/pandas.DataFrame.to_excel.html)"
   ]
  },
  {
   "cell_type": "code",
   "execution_count": 40,
   "id": "e450dc6a",
   "metadata": {},
   "outputs": [],
   "source": [
    "df_c.to_excel(\"output.xlsx\", index=False)"
   ]
  },
  {
   "cell_type": "markdown",
   "id": "09592eb2",
   "metadata": {},
   "source": [
    "#### [Exportar a JSON](https://pandas.pydata.org/docs/reference/api/pandas.DataFrame.to_json.html)"
   ]
  },
  {
   "cell_type": "code",
   "execution_count": 41,
   "id": "4cadf884",
   "metadata": {},
   "outputs": [],
   "source": [
    "df_c.to_json(\"output.json\", orient=\"split\", index=False)"
   ]
  },
  {
   "cell_type": "markdown",
   "id": "95b97dbe",
   "metadata": {},
   "source": [
    "### Atributos del DataFrame"
   ]
  },
  {
   "cell_type": "code",
   "execution_count": 42,
   "id": "bb3771b1",
   "metadata": {},
   "outputs": [
    {
     "name": "stdout",
     "output_type": "stream",
     "text": [
      "<class 'pandas.core.frame.DataFrame'>\n",
      "RangeIndex: 5 entries, 0 to 4\n",
      "Data columns (total 3 columns):\n",
      " #   Column        Non-Null Count  Dtype \n",
      "---  ------        --------------  ----- \n",
      " 0   ciudades      5 non-null      object\n",
      " 1   n_churrerias  5 non-null      int64 \n",
      " 2   habitantes    5 non-null      int64 \n",
      "dtypes: int64(2), object(1)\n",
      "memory usage: 252.0+ bytes\n"
     ]
    }
   ],
   "source": [
    "# Información del DataFrame\n",
    "df_c.info()"
   ]
  },
  {
   "cell_type": "code",
   "execution_count": 43,
   "id": "784349a7",
   "metadata": {},
   "outputs": [
    {
     "data": {
      "text/plain": [
       "(5, 3)"
      ]
     },
     "execution_count": 43,
     "metadata": {},
     "output_type": "execute_result"
    }
   ],
   "source": [
    "# Número de filas y columnas\n",
    "df_c.shape"
   ]
  },
  {
   "cell_type": "code",
   "execution_count": 44,
   "id": "5ff463f2",
   "metadata": {},
   "outputs": [
    {
     "data": {
      "text/plain": [
       "15"
      ]
     },
     "execution_count": 44,
     "metadata": {},
     "output_type": "execute_result"
    }
   ],
   "source": [
    "# Número de elementos\n",
    "df_c.size"
   ]
  },
  {
   "cell_type": "code",
   "execution_count": 45,
   "id": "5e3aae94",
   "metadata": {},
   "outputs": [
    {
     "data": {
      "text/plain": [
       "Index(['ciudades', 'n_churrerias', 'habitantes'], dtype='object')"
      ]
     },
     "execution_count": 45,
     "metadata": {},
     "output_type": "execute_result"
    }
   ],
   "source": [
    "# Nombre de las columnas\n",
    "df_c.columns"
   ]
  },
  {
   "cell_type": "code",
   "execution_count": 46,
   "id": "16b1cb9e",
   "metadata": {},
   "outputs": [
    {
     "data": {
      "text/plain": [
       "RangeIndex(start=0, stop=5, step=1)"
      ]
     },
     "execution_count": 46,
     "metadata": {},
     "output_type": "execute_result"
    }
   ],
   "source": [
    "# Nombre de las filas\n",
    "df_c.index"
   ]
  },
  {
   "cell_type": "code",
   "execution_count": 47,
   "id": "7f1f47dd",
   "metadata": {},
   "outputs": [
    {
     "data": {
      "text/plain": [
       "ciudades        object\n",
       "n_churrerias     int64\n",
       "habitantes       int64\n",
       "dtype: object"
      ]
     },
     "execution_count": 47,
     "metadata": {},
     "output_type": "execute_result"
    }
   ],
   "source": [
    "# Tipos de las columnas\n",
    "df_c.dtypes"
   ]
  },
  {
   "cell_type": "code",
   "execution_count": 48,
   "id": "b5f6ac04",
   "metadata": {},
   "outputs": [
    {
     "data": {
      "text/html": [
       "<div>\n",
       "<style scoped>\n",
       "    .dataframe tbody tr th:only-of-type {\n",
       "        vertical-align: middle;\n",
       "    }\n",
       "\n",
       "    .dataframe tbody tr th {\n",
       "        vertical-align: top;\n",
       "    }\n",
       "\n",
       "    .dataframe thead th {\n",
       "        text-align: right;\n",
       "    }\n",
       "</style>\n",
       "<table border=\"1\" class=\"dataframe\">\n",
       "  <thead>\n",
       "    <tr style=\"text-align: right;\">\n",
       "      <th></th>\n",
       "      <th>ciudades</th>\n",
       "      <th>n_churrerias</th>\n",
       "      <th>habitantes</th>\n",
       "    </tr>\n",
       "  </thead>\n",
       "  <tbody>\n",
       "    <tr>\n",
       "      <th>0</th>\n",
       "      <td>Madrid</td>\n",
       "      <td>100</td>\n",
       "      <td>3223000</td>\n",
       "    </tr>\n",
       "    <tr>\n",
       "      <th>1</th>\n",
       "      <td>Huelva</td>\n",
       "      <td>20</td>\n",
       "      <td>144258</td>\n",
       "    </tr>\n",
       "  </tbody>\n",
       "</table>\n",
       "</div>"
      ],
      "text/plain": [
       "  ciudades  n_churrerias  habitantes\n",
       "0   Madrid           100     3223000\n",
       "1   Huelva            20      144258"
      ]
     },
     "execution_count": 48,
     "metadata": {},
     "output_type": "execute_result"
    }
   ],
   "source": [
    "# Devuelve las n primeras filas\n",
    "df_c.head(2)"
   ]
  },
  {
   "cell_type": "code",
   "execution_count": 49,
   "id": "4333f866",
   "metadata": {},
   "outputs": [
    {
     "data": {
      "text/html": [
       "<div>\n",
       "<style scoped>\n",
       "    .dataframe tbody tr th:only-of-type {\n",
       "        vertical-align: middle;\n",
       "    }\n",
       "\n",
       "    .dataframe tbody tr th {\n",
       "        vertical-align: top;\n",
       "    }\n",
       "\n",
       "    .dataframe thead th {\n",
       "        text-align: right;\n",
       "    }\n",
       "</style>\n",
       "<table border=\"1\" class=\"dataframe\">\n",
       "  <thead>\n",
       "    <tr style=\"text-align: right;\">\n",
       "      <th></th>\n",
       "      <th>ciudades</th>\n",
       "      <th>n_churrerias</th>\n",
       "      <th>habitantes</th>\n",
       "    </tr>\n",
       "  </thead>\n",
       "  <tbody>\n",
       "    <tr>\n",
       "      <th>3</th>\n",
       "      <td>Barcelona</td>\n",
       "      <td>80</td>\n",
       "      <td>1620000</td>\n",
       "    </tr>\n",
       "    <tr>\n",
       "      <th>4</th>\n",
       "      <td>Bilbao</td>\n",
       "      <td>44</td>\n",
       "      <td>345821</td>\n",
       "    </tr>\n",
       "  </tbody>\n",
       "</table>\n",
       "</div>"
      ],
      "text/plain": [
       "    ciudades  n_churrerias  habitantes\n",
       "3  Barcelona            80     1620000\n",
       "4     Bilbao            44      345821"
      ]
     },
     "execution_count": 49,
     "metadata": {},
     "output_type": "execute_result"
    }
   ],
   "source": [
    "# Devuelve las n últimas filas\n",
    "df_c.tail(2)"
   ]
  },
  {
   "cell_type": "markdown",
   "id": "54c6a2e9",
   "metadata": {},
   "source": [
    "### Renombrar filas y columnas"
   ]
  },
  {
   "cell_type": "markdown",
   "id": "142e36ce",
   "metadata": {},
   "source": [
    "#### [pd.rename](https://pandas.pydata.org/docs/reference/api/pandas.DataFrame.rename.html)\n",
    "\n",
    "Podemos usar un diccionario y el método de pandas rename para cambiar el nombre de las filas o columnas"
   ]
  },
  {
   "cell_type": "code",
   "execution_count": 50,
   "id": "6cd8b6df",
   "metadata": {},
   "outputs": [
    {
     "data": {
      "text/html": [
       "<div>\n",
       "<style scoped>\n",
       "    .dataframe tbody tr th:only-of-type {\n",
       "        vertical-align: middle;\n",
       "    }\n",
       "\n",
       "    .dataframe tbody tr th {\n",
       "        vertical-align: top;\n",
       "    }\n",
       "\n",
       "    .dataframe thead th {\n",
       "        text-align: right;\n",
       "    }\n",
       "</style>\n",
       "<table border=\"1\" class=\"dataframe\">\n",
       "  <thead>\n",
       "    <tr style=\"text-align: right;\">\n",
       "      <th></th>\n",
       "      <th>cities</th>\n",
       "      <th>n_churrerias</th>\n",
       "      <th>habitantes</th>\n",
       "    </tr>\n",
       "  </thead>\n",
       "  <tbody>\n",
       "    <tr>\n",
       "      <th>0</th>\n",
       "      <td>Madrid</td>\n",
       "      <td>100</td>\n",
       "      <td>3223000</td>\n",
       "    </tr>\n",
       "    <tr>\n",
       "      <th>1</th>\n",
       "      <td>Huelva</td>\n",
       "      <td>20</td>\n",
       "      <td>144258</td>\n",
       "    </tr>\n",
       "    <tr>\n",
       "      <th>2</th>\n",
       "      <td>Sevilla</td>\n",
       "      <td>50</td>\n",
       "      <td>688711</td>\n",
       "    </tr>\n",
       "    <tr>\n",
       "      <th>3</th>\n",
       "      <td>Barcelona</td>\n",
       "      <td>80</td>\n",
       "      <td>1620000</td>\n",
       "    </tr>\n",
       "    <tr>\n",
       "      <th>4</th>\n",
       "      <td>Bilbao</td>\n",
       "      <td>44</td>\n",
       "      <td>345821</td>\n",
       "    </tr>\n",
       "  </tbody>\n",
       "</table>\n",
       "</div>"
      ],
      "text/plain": [
       "      cities  n_churrerias  habitantes\n",
       "0     Madrid           100     3223000\n",
       "1     Huelva            20      144258\n",
       "2    Sevilla            50      688711\n",
       "3  Barcelona            80     1620000\n",
       "4     Bilbao            44      345821"
      ]
     },
     "execution_count": 50,
     "metadata": {},
     "output_type": "execute_result"
    }
   ],
   "source": [
    "df_c.rename(columns= {\"ciudades\": \"cities\"})"
   ]
  },
  {
   "cell_type": "code",
   "execution_count": 51,
   "id": "1b6fc5fd",
   "metadata": {},
   "outputs": [
    {
     "data": {
      "text/html": [
       "<div>\n",
       "<style scoped>\n",
       "    .dataframe tbody tr th:only-of-type {\n",
       "        vertical-align: middle;\n",
       "    }\n",
       "\n",
       "    .dataframe tbody tr th {\n",
       "        vertical-align: top;\n",
       "    }\n",
       "\n",
       "    .dataframe thead th {\n",
       "        text-align: right;\n",
       "    }\n",
       "</style>\n",
       "<table border=\"1\" class=\"dataframe\">\n",
       "  <thead>\n",
       "    <tr style=\"text-align: right;\">\n",
       "      <th></th>\n",
       "      <th>CIUDADES</th>\n",
       "      <th>N_CHURRERIAS</th>\n",
       "      <th>HABITANTES</th>\n",
       "    </tr>\n",
       "  </thead>\n",
       "  <tbody>\n",
       "    <tr>\n",
       "      <th>0</th>\n",
       "      <td>Madrid</td>\n",
       "      <td>100</td>\n",
       "      <td>3223000</td>\n",
       "    </tr>\n",
       "    <tr>\n",
       "      <th>1</th>\n",
       "      <td>Huelva</td>\n",
       "      <td>20</td>\n",
       "      <td>144258</td>\n",
       "    </tr>\n",
       "    <tr>\n",
       "      <th>2</th>\n",
       "      <td>Sevilla</td>\n",
       "      <td>50</td>\n",
       "      <td>688711</td>\n",
       "    </tr>\n",
       "    <tr>\n",
       "      <th>3</th>\n",
       "      <td>Barcelona</td>\n",
       "      <td>80</td>\n",
       "      <td>1620000</td>\n",
       "    </tr>\n",
       "    <tr>\n",
       "      <th>4</th>\n",
       "      <td>Bilbao</td>\n",
       "      <td>44</td>\n",
       "      <td>345821</td>\n",
       "    </tr>\n",
       "  </tbody>\n",
       "</table>\n",
       "</div>"
      ],
      "text/plain": [
       "    CIUDADES  N_CHURRERIAS  HABITANTES\n",
       "0     Madrid           100     3223000\n",
       "1     Huelva            20      144258\n",
       "2    Sevilla            50      688711\n",
       "3  Barcelona            80     1620000\n",
       "4     Bilbao            44      345821"
      ]
     },
     "execution_count": 51,
     "metadata": {},
     "output_type": "execute_result"
    }
   ],
   "source": [
    "df_c.rename(str.upper, axis=\"columns\")"
   ]
  },
  {
   "cell_type": "code",
   "execution_count": 52,
   "id": "4d3284d0",
   "metadata": {},
   "outputs": [
    {
     "data": {
      "text/html": [
       "<div>\n",
       "<style scoped>\n",
       "    .dataframe tbody tr th:only-of-type {\n",
       "        vertical-align: middle;\n",
       "    }\n",
       "\n",
       "    .dataframe tbody tr th {\n",
       "        vertical-align: top;\n",
       "    }\n",
       "\n",
       "    .dataframe thead th {\n",
       "        text-align: right;\n",
       "    }\n",
       "</style>\n",
       "<table border=\"1\" class=\"dataframe\">\n",
       "  <thead>\n",
       "    <tr style=\"text-align: right;\">\n",
       "      <th></th>\n",
       "      <th>ciudades</th>\n",
       "      <th>n_churrerias</th>\n",
       "      <th>habitantes</th>\n",
       "    </tr>\n",
       "  </thead>\n",
       "  <tbody>\n",
       "    <tr>\n",
       "      <th>M</th>\n",
       "      <td>Madrid</td>\n",
       "      <td>100</td>\n",
       "      <td>3223000</td>\n",
       "    </tr>\n",
       "    <tr>\n",
       "      <th>HU</th>\n",
       "      <td>Huelva</td>\n",
       "      <td>20</td>\n",
       "      <td>144258</td>\n",
       "    </tr>\n",
       "    <tr>\n",
       "      <th>SE</th>\n",
       "      <td>Sevilla</td>\n",
       "      <td>50</td>\n",
       "      <td>688711</td>\n",
       "    </tr>\n",
       "    <tr>\n",
       "      <th>B</th>\n",
       "      <td>Barcelona</td>\n",
       "      <td>80</td>\n",
       "      <td>1620000</td>\n",
       "    </tr>\n",
       "    <tr>\n",
       "      <th>BI</th>\n",
       "      <td>Bilbao</td>\n",
       "      <td>44</td>\n",
       "      <td>345821</td>\n",
       "    </tr>\n",
       "  </tbody>\n",
       "</table>\n",
       "</div>"
      ],
      "text/plain": [
       "     ciudades  n_churrerias  habitantes\n",
       "M      Madrid           100     3223000\n",
       "HU     Huelva            20      144258\n",
       "SE    Sevilla            50      688711\n",
       "B   Barcelona            80     1620000\n",
       "BI     Bilbao            44      345821"
      ]
     },
     "execution_count": 52,
     "metadata": {},
     "output_type": "execute_result"
    }
   ],
   "source": [
    "df_c.rename({0: \"M\", 1:\"HU\", 2:\"SE\", 3:\"B\", 4:\"BI\"})"
   ]
  },
  {
   "cell_type": "markdown",
   "id": "e89cb242",
   "metadata": {},
   "source": [
    "#### Utilizando una lista para renombrar columnas e indices"
   ]
  },
  {
   "cell_type": "code",
   "execution_count": 53,
   "id": "87316d47",
   "metadata": {},
   "outputs": [
    {
     "data": {
      "text/html": [
       "<div>\n",
       "<style scoped>\n",
       "    .dataframe tbody tr th:only-of-type {\n",
       "        vertical-align: middle;\n",
       "    }\n",
       "\n",
       "    .dataframe tbody tr th {\n",
       "        vertical-align: top;\n",
       "    }\n",
       "\n",
       "    .dataframe thead th {\n",
       "        text-align: right;\n",
       "    }\n",
       "</style>\n",
       "<table border=\"1\" class=\"dataframe\">\n",
       "  <thead>\n",
       "    <tr style=\"text-align: right;\">\n",
       "      <th></th>\n",
       "      <th>ciudades</th>\n",
       "      <th>n_churrerias</th>\n",
       "      <th>poblacion</th>\n",
       "    </tr>\n",
       "  </thead>\n",
       "  <tbody>\n",
       "    <tr>\n",
       "      <th>0</th>\n",
       "      <td>Madrid</td>\n",
       "      <td>100</td>\n",
       "      <td>3223000</td>\n",
       "    </tr>\n",
       "    <tr>\n",
       "      <th>1</th>\n",
       "      <td>Huelva</td>\n",
       "      <td>20</td>\n",
       "      <td>144258</td>\n",
       "    </tr>\n",
       "    <tr>\n",
       "      <th>2</th>\n",
       "      <td>Sevilla</td>\n",
       "      <td>50</td>\n",
       "      <td>688711</td>\n",
       "    </tr>\n",
       "    <tr>\n",
       "      <th>3</th>\n",
       "      <td>Barcelona</td>\n",
       "      <td>80</td>\n",
       "      <td>1620000</td>\n",
       "    </tr>\n",
       "    <tr>\n",
       "      <th>4</th>\n",
       "      <td>Bilbao</td>\n",
       "      <td>44</td>\n",
       "      <td>345821</td>\n",
       "    </tr>\n",
       "  </tbody>\n",
       "</table>\n",
       "</div>"
      ],
      "text/plain": [
       "    ciudades  n_churrerias  poblacion\n",
       "0     Madrid           100    3223000\n",
       "1     Huelva            20     144258\n",
       "2    Sevilla            50     688711\n",
       "3  Barcelona            80    1620000\n",
       "4     Bilbao            44     345821"
      ]
     },
     "execution_count": 53,
     "metadata": {},
     "output_type": "execute_result"
    }
   ],
   "source": [
    "df_c.columns = [\"ciudades\", \"n_churrerias\", \"poblacion\"]\n",
    "df_c"
   ]
  },
  {
   "cell_type": "code",
   "execution_count": 54,
   "id": "a6346db5",
   "metadata": {},
   "outputs": [
    {
     "data": {
      "text/html": [
       "<div>\n",
       "<style scoped>\n",
       "    .dataframe tbody tr th:only-of-type {\n",
       "        vertical-align: middle;\n",
       "    }\n",
       "\n",
       "    .dataframe tbody tr th {\n",
       "        vertical-align: top;\n",
       "    }\n",
       "\n",
       "    .dataframe thead th {\n",
       "        text-align: right;\n",
       "    }\n",
       "</style>\n",
       "<table border=\"1\" class=\"dataframe\">\n",
       "  <thead>\n",
       "    <tr style=\"text-align: right;\">\n",
       "      <th></th>\n",
       "      <th>ciudades</th>\n",
       "      <th>n_churrerias</th>\n",
       "      <th>poblacion</th>\n",
       "    </tr>\n",
       "  </thead>\n",
       "  <tbody>\n",
       "    <tr>\n",
       "      <th>M</th>\n",
       "      <td>Madrid</td>\n",
       "      <td>100</td>\n",
       "      <td>3223000</td>\n",
       "    </tr>\n",
       "    <tr>\n",
       "      <th>HU</th>\n",
       "      <td>Huelva</td>\n",
       "      <td>20</td>\n",
       "      <td>144258</td>\n",
       "    </tr>\n",
       "    <tr>\n",
       "      <th>SE</th>\n",
       "      <td>Sevilla</td>\n",
       "      <td>50</td>\n",
       "      <td>688711</td>\n",
       "    </tr>\n",
       "    <tr>\n",
       "      <th>B</th>\n",
       "      <td>Barcelona</td>\n",
       "      <td>80</td>\n",
       "      <td>1620000</td>\n",
       "    </tr>\n",
       "    <tr>\n",
       "      <th>BI</th>\n",
       "      <td>Bilbao</td>\n",
       "      <td>44</td>\n",
       "      <td>345821</td>\n",
       "    </tr>\n",
       "  </tbody>\n",
       "</table>\n",
       "</div>"
      ],
      "text/plain": [
       "     ciudades  n_churrerias  poblacion\n",
       "M      Madrid           100    3223000\n",
       "HU     Huelva            20     144258\n",
       "SE    Sevilla            50     688711\n",
       "B   Barcelona            80    1620000\n",
       "BI     Bilbao            44     345821"
      ]
     },
     "execution_count": 54,
     "metadata": {},
     "output_type": "execute_result"
    }
   ],
   "source": [
    "df_c.index = [\"M\", \"HU\", \"SE\", \"B\", \"BI\"]\n",
    "df_c"
   ]
  },
  {
   "cell_type": "markdown",
   "id": "35578eb9",
   "metadata": {},
   "source": [
    "### Acceder a los elementos de un DataFrame"
   ]
  },
  {
   "cell_type": "markdown",
   "id": "1d0f790e",
   "metadata": {},
   "source": [
    "#### Por número entero"
   ]
  },
  {
   "cell_type": "code",
   "execution_count": 55,
   "id": "10c16c2b",
   "metadata": {},
   "outputs": [
    {
     "data": {
      "text/plain": [
       "'Bilbao'"
      ]
     },
     "execution_count": 55,
     "metadata": {},
     "output_type": "execute_result"
    }
   ],
   "source": [
    "df_c.iloc[4,0]"
   ]
  },
  {
   "cell_type": "code",
   "execution_count": 56,
   "id": "cc6ffb38",
   "metadata": {},
   "outputs": [
    {
     "data": {
      "text/plain": [
       "HU     144258\n",
       "SE     688711\n",
       "B     1620000\n",
       "BI     345821\n",
       "Name: poblacion, dtype: int64"
      ]
     },
     "execution_count": 56,
     "metadata": {},
     "output_type": "execute_result"
    }
   ],
   "source": [
    "df_c.iloc[1:, 2]"
   ]
  },
  {
   "cell_type": "code",
   "execution_count": 57,
   "id": "f33573cb",
   "metadata": {},
   "outputs": [
    {
     "data": {
      "text/plain": [
       "ciudades        Sevilla\n",
       "n_churrerias         50\n",
       "poblacion        688711\n",
       "Name: SE, dtype: object"
      ]
     },
     "execution_count": 57,
     "metadata": {},
     "output_type": "execute_result"
    }
   ],
   "source": [
    "df_c.iloc[2]"
   ]
  },
  {
   "cell_type": "markdown",
   "id": "f42c2215",
   "metadata": {},
   "source": [
    "#### Por nombres"
   ]
  },
  {
   "cell_type": "code",
   "execution_count": 58,
   "id": "03f9f199",
   "metadata": {},
   "outputs": [
    {
     "data": {
      "text/html": [
       "<div>\n",
       "<style scoped>\n",
       "    .dataframe tbody tr th:only-of-type {\n",
       "        vertical-align: middle;\n",
       "    }\n",
       "\n",
       "    .dataframe tbody tr th {\n",
       "        vertical-align: top;\n",
       "    }\n",
       "\n",
       "    .dataframe thead th {\n",
       "        text-align: right;\n",
       "    }\n",
       "</style>\n",
       "<table border=\"1\" class=\"dataframe\">\n",
       "  <thead>\n",
       "    <tr style=\"text-align: right;\">\n",
       "      <th></th>\n",
       "      <th>poblacion</th>\n",
       "    </tr>\n",
       "  </thead>\n",
       "  <tbody>\n",
       "    <tr>\n",
       "      <th>SE</th>\n",
       "      <td>688711</td>\n",
       "    </tr>\n",
       "    <tr>\n",
       "      <th>B</th>\n",
       "      <td>1620000</td>\n",
       "    </tr>\n",
       "  </tbody>\n",
       "</table>\n",
       "</div>"
      ],
      "text/plain": [
       "    poblacion\n",
       "SE     688711\n",
       "B     1620000"
      ]
     },
     "execution_count": 58,
     "metadata": {},
     "output_type": "execute_result"
    }
   ],
   "source": [
    "df_c.loc[[\"SE\",\"B\"], [\"poblacion\"]]"
   ]
  },
  {
   "cell_type": "code",
   "execution_count": 59,
   "id": "2fa96a2d",
   "metadata": {},
   "outputs": [
    {
     "data": {
      "text/plain": [
       "M     100\n",
       "HU     20\n",
       "SE     50\n",
       "B      80\n",
       "BI     44\n",
       "Name: n_churrerias, dtype: int64"
      ]
     },
     "execution_count": 59,
     "metadata": {},
     "output_type": "execute_result"
    }
   ],
   "source": [
    "df_c[\"n_churrerias\"]"
   ]
  },
  {
   "cell_type": "markdown",
   "id": "0d305397",
   "metadata": {},
   "source": [
    "### Añadir columnas"
   ]
  },
  {
   "cell_type": "code",
   "execution_count": 60,
   "id": "6ee3c28e",
   "metadata": {},
   "outputs": [
    {
     "data": {
      "text/html": [
       "<div>\n",
       "<style scoped>\n",
       "    .dataframe tbody tr th:only-of-type {\n",
       "        vertical-align: middle;\n",
       "    }\n",
       "\n",
       "    .dataframe tbody tr th {\n",
       "        vertical-align: top;\n",
       "    }\n",
       "\n",
       "    .dataframe thead th {\n",
       "        text-align: right;\n",
       "    }\n",
       "</style>\n",
       "<table border=\"1\" class=\"dataframe\">\n",
       "  <thead>\n",
       "    <tr style=\"text-align: right;\">\n",
       "      <th></th>\n",
       "      <th>ciudades</th>\n",
       "      <th>n_churrerias</th>\n",
       "      <th>poblacion</th>\n",
       "      <th>rios</th>\n",
       "    </tr>\n",
       "  </thead>\n",
       "  <tbody>\n",
       "    <tr>\n",
       "      <th>M</th>\n",
       "      <td>Madrid</td>\n",
       "      <td>100</td>\n",
       "      <td>3223000</td>\n",
       "      <td>1.0</td>\n",
       "    </tr>\n",
       "    <tr>\n",
       "      <th>HU</th>\n",
       "      <td>Huelva</td>\n",
       "      <td>20</td>\n",
       "      <td>144258</td>\n",
       "      <td>2.0</td>\n",
       "    </tr>\n",
       "    <tr>\n",
       "      <th>SE</th>\n",
       "      <td>Sevilla</td>\n",
       "      <td>50</td>\n",
       "      <td>688711</td>\n",
       "      <td>1.0</td>\n",
       "    </tr>\n",
       "    <tr>\n",
       "      <th>B</th>\n",
       "      <td>Barcelona</td>\n",
       "      <td>80</td>\n",
       "      <td>1620000</td>\n",
       "      <td>0.0</td>\n",
       "    </tr>\n",
       "    <tr>\n",
       "      <th>BI</th>\n",
       "      <td>Bilbao</td>\n",
       "      <td>44</td>\n",
       "      <td>345821</td>\n",
       "      <td>NaN</td>\n",
       "    </tr>\n",
       "  </tbody>\n",
       "</table>\n",
       "</div>"
      ],
      "text/plain": [
       "     ciudades  n_churrerias  poblacion  rios\n",
       "M      Madrid           100    3223000   1.0\n",
       "HU     Huelva            20     144258   2.0\n",
       "SE    Sevilla            50     688711   1.0\n",
       "B   Barcelona            80    1620000   0.0\n",
       "BI     Bilbao            44     345821   NaN"
      ]
     },
     "execution_count": 60,
     "metadata": {},
     "output_type": "execute_result"
    }
   ],
   "source": [
    "df_c[\"rios\"] = [1, 2, 1, 0, np.nan]\n",
    "df_c"
   ]
  },
  {
   "cell_type": "markdown",
   "id": "6dc16d4d",
   "metadata": {},
   "source": [
    "### Operaciones con columnas\n",
    "Como las columnas de un DataFrame son series, podremos aplicar las mismas operaciones que con las series"
   ]
  },
  {
   "cell_type": "code",
   "execution_count": 61,
   "id": "140f04b3",
   "metadata": {},
   "outputs": [
    {
     "data": {
      "text/plain": [
       "M     200\n",
       "HU     40\n",
       "SE    100\n",
       "B     160\n",
       "BI     88\n",
       "Name: n_churrerias, dtype: int64"
      ]
     },
     "execution_count": 61,
     "metadata": {},
     "output_type": "execute_result"
    }
   ],
   "source": [
    "df_c[\"n_churrerias\"] * 2"
   ]
  },
  {
   "cell_type": "code",
   "execution_count": 62,
   "id": "3c3ccb86",
   "metadata": {},
   "outputs": [
    {
     "data": {
      "text/plain": [
       "M     False\n",
       "HU     True\n",
       "SE    False\n",
       "B     False\n",
       "BI    False\n",
       "Name: rios, dtype: bool"
      ]
     },
     "execution_count": 62,
     "metadata": {},
     "output_type": "execute_result"
    }
   ],
   "source": [
    "df_c[\"rios\"] > 1"
   ]
  },
  {
   "cell_type": "markdown",
   "id": "bc89ad90",
   "metadata": {},
   "source": [
    "También podremos hacer operaciones con varias columnas"
   ]
  },
  {
   "cell_type": "code",
   "execution_count": 63,
   "id": "69572516",
   "metadata": {},
   "outputs": [
    {
     "data": {
      "text/plain": [
       "M     0.000031\n",
       "HU    0.000139\n",
       "SE    0.000073\n",
       "B     0.000049\n",
       "BI    0.000127\n",
       "dtype: float64"
      ]
     },
     "execution_count": 63,
     "metadata": {},
     "output_type": "execute_result"
    }
   ],
   "source": [
    "# Obtener churrerías per cápita\n",
    "df_c[\"n_churrerias\"] / df_c[\"poblacion\"]"
   ]
  },
  {
   "cell_type": "markdown",
   "id": "14e84e54",
   "metadata": {},
   "source": [
    "### Funciones\n",
    "Se pueden aplicar funciones a un DataFrame usando las funciones apply y applymap"
   ]
  },
  {
   "cell_type": "markdown",
   "id": "2c524bb1",
   "metadata": {},
   "source": [
    "#### [pd.apply](https://pandas.pydata.org/docs/reference/api/pandas.DataFrame.apply.html)\n",
    "\n",
    "Para aplicar una función a un DataFrame. Tienen varias opciones, como por ejemplo si se quiere aplicar por filas o columnas..."
   ]
  },
  {
   "cell_type": "code",
   "execution_count": 64,
   "id": "01fa2fa8",
   "metadata": {},
   "outputs": [
    {
     "data": {
      "text/plain": [
       "M     1795.271567\n",
       "HU     379.813112\n",
       "SE     829.886137\n",
       "B     1272.792206\n",
       "BI     588.065473\n",
       "Name: poblacion, dtype: float64"
      ]
     },
     "execution_count": 64,
     "metadata": {},
     "output_type": "execute_result"
    }
   ],
   "source": [
    "df_c[\"poblacion\"].apply(np.sqrt)"
   ]
  },
  {
   "cell_type": "markdown",
   "id": "3a24a666",
   "metadata": {},
   "source": [
    "#### [pd.applymap](https://pandas.pydata.org/docs/reference/api/pandas.DataFrame.apply.html)\n",
    "Para aplicar una función a un DataFrame entero."
   ]
  },
  {
   "cell_type": "code",
   "execution_count": 65,
   "id": "1a681a4e",
   "metadata": {},
   "outputs": [
    {
     "name": "stderr",
     "output_type": "stream",
     "text": [
      "/var/folders/3t/d2zbs9zj1nqgx7s3vhrpvbw40000gn/T/ipykernel_4873/3297657524.py:1: FutureWarning: DataFrame.applymap has been deprecated. Use DataFrame.map instead.\n",
      "  df_c[[\"poblacion\", \"n_churrerias\"]].applymap(sqrt)\n"
     ]
    },
    {
     "data": {
      "text/html": [
       "<div>\n",
       "<style scoped>\n",
       "    .dataframe tbody tr th:only-of-type {\n",
       "        vertical-align: middle;\n",
       "    }\n",
       "\n",
       "    .dataframe tbody tr th {\n",
       "        vertical-align: top;\n",
       "    }\n",
       "\n",
       "    .dataframe thead th {\n",
       "        text-align: right;\n",
       "    }\n",
       "</style>\n",
       "<table border=\"1\" class=\"dataframe\">\n",
       "  <thead>\n",
       "    <tr style=\"text-align: right;\">\n",
       "      <th></th>\n",
       "      <th>poblacion</th>\n",
       "      <th>n_churrerias</th>\n",
       "    </tr>\n",
       "  </thead>\n",
       "  <tbody>\n",
       "    <tr>\n",
       "      <th>M</th>\n",
       "      <td>1795.271567</td>\n",
       "      <td>10.000000</td>\n",
       "    </tr>\n",
       "    <tr>\n",
       "      <th>HU</th>\n",
       "      <td>379.813112</td>\n",
       "      <td>4.472136</td>\n",
       "    </tr>\n",
       "    <tr>\n",
       "      <th>SE</th>\n",
       "      <td>829.886137</td>\n",
       "      <td>7.071068</td>\n",
       "    </tr>\n",
       "    <tr>\n",
       "      <th>B</th>\n",
       "      <td>1272.792206</td>\n",
       "      <td>8.944272</td>\n",
       "    </tr>\n",
       "    <tr>\n",
       "      <th>BI</th>\n",
       "      <td>588.065473</td>\n",
       "      <td>6.633250</td>\n",
       "    </tr>\n",
       "  </tbody>\n",
       "</table>\n",
       "</div>"
      ],
      "text/plain": [
       "      poblacion  n_churrerias\n",
       "M   1795.271567     10.000000\n",
       "HU   379.813112      4.472136\n",
       "SE   829.886137      7.071068\n",
       "B   1272.792206      8.944272\n",
       "BI   588.065473      6.633250"
      ]
     },
     "execution_count": 65,
     "metadata": {},
     "output_type": "execute_result"
    }
   ],
   "source": [
    "df_c[[\"poblacion\", \"n_churrerias\"]].applymap(sqrt)"
   ]
  },
  {
   "cell_type": "markdown",
   "id": "eed6b71e",
   "metadata": {},
   "source": [
    "### Estadísticos descriptivos de un DataFrame"
   ]
  },
  {
   "cell_type": "code",
   "execution_count": 66,
   "id": "5481ca90",
   "metadata": {},
   "outputs": [
    {
     "data": {
      "text/plain": [
       "ciudades        5\n",
       "n_churrerias    5\n",
       "poblacion       5\n",
       "rios            4\n",
       "dtype: int64"
      ]
     },
     "execution_count": 66,
     "metadata": {},
     "output_type": "execute_result"
    }
   ],
   "source": [
    "# Número de elementos del df que no son NaN\n",
    "df_c.count()"
   ]
  },
  {
   "cell_type": "code",
   "execution_count": 67,
   "id": "e445611f",
   "metadata": {
    "scrolled": true
   },
   "outputs": [
    {
     "data": {
      "text/plain": [
       "ciudades        MadridHuelvaSevillaBarcelonaBilbao\n",
       "n_churrerias                                   294\n",
       "poblacion                                  6021790\n",
       "rios                                           4.0\n",
       "dtype: object"
      ]
     },
     "execution_count": 67,
     "metadata": {},
     "output_type": "execute_result"
    }
   ],
   "source": [
    "# Suma de los datos del df\n",
    "df_c.sum()"
   ]
  },
  {
   "cell_type": "code",
   "execution_count": 68,
   "id": "3051d0dd",
   "metadata": {},
   "outputs": [
    {
     "data": {
      "text/html": [
       "<div>\n",
       "<style scoped>\n",
       "    .dataframe tbody tr th:only-of-type {\n",
       "        vertical-align: middle;\n",
       "    }\n",
       "\n",
       "    .dataframe tbody tr th {\n",
       "        vertical-align: top;\n",
       "    }\n",
       "\n",
       "    .dataframe thead th {\n",
       "        text-align: right;\n",
       "    }\n",
       "</style>\n",
       "<table border=\"1\" class=\"dataframe\">\n",
       "  <thead>\n",
       "    <tr style=\"text-align: right;\">\n",
       "      <th></th>\n",
       "      <th>ciudades</th>\n",
       "      <th>n_churrerias</th>\n",
       "      <th>poblacion</th>\n",
       "      <th>rios</th>\n",
       "    </tr>\n",
       "  </thead>\n",
       "  <tbody>\n",
       "    <tr>\n",
       "      <th>M</th>\n",
       "      <td>Madrid</td>\n",
       "      <td>100</td>\n",
       "      <td>3223000</td>\n",
       "      <td>1.0</td>\n",
       "    </tr>\n",
       "    <tr>\n",
       "      <th>HU</th>\n",
       "      <td>MadridHuelva</td>\n",
       "      <td>120</td>\n",
       "      <td>3367258</td>\n",
       "      <td>3.0</td>\n",
       "    </tr>\n",
       "    <tr>\n",
       "      <th>SE</th>\n",
       "      <td>MadridHuelvaSevilla</td>\n",
       "      <td>170</td>\n",
       "      <td>4055969</td>\n",
       "      <td>4.0</td>\n",
       "    </tr>\n",
       "    <tr>\n",
       "      <th>B</th>\n",
       "      <td>MadridHuelvaSevillaBarcelona</td>\n",
       "      <td>250</td>\n",
       "      <td>5675969</td>\n",
       "      <td>4.0</td>\n",
       "    </tr>\n",
       "    <tr>\n",
       "      <th>BI</th>\n",
       "      <td>MadridHuelvaSevillaBarcelonaBilbao</td>\n",
       "      <td>294</td>\n",
       "      <td>6021790</td>\n",
       "      <td>NaN</td>\n",
       "    </tr>\n",
       "  </tbody>\n",
       "</table>\n",
       "</div>"
      ],
      "text/plain": [
       "                              ciudades  n_churrerias  poblacion  rios\n",
       "M                               Madrid           100    3223000   1.0\n",
       "HU                        MadridHuelva           120    3367258   3.0\n",
       "SE                 MadridHuelvaSevilla           170    4055969   4.0\n",
       "B         MadridHuelvaSevillaBarcelona           250    5675969   4.0\n",
       "BI  MadridHuelvaSevillaBarcelonaBilbao           294    6021790   NaN"
      ]
     },
     "execution_count": 68,
     "metadata": {},
     "output_type": "execute_result"
    }
   ],
   "source": [
    "# Suma acumulativa del df\n",
    "df_c.cumsum()"
   ]
  },
  {
   "cell_type": "code",
   "execution_count": 69,
   "id": "f1f39f8f",
   "metadata": {},
   "outputs": [
    {
     "data": {
      "text/plain": [
       "ciudades   n_churrerias  poblacion  rios\n",
       "Barcelona  80            1620000    0.0     1\n",
       "Huelva     20            144258     2.0     1\n",
       "Madrid     100           3223000    1.0     1\n",
       "Sevilla    50            688711     1.0     1\n",
       "Name: count, dtype: int64"
      ]
     },
     "execution_count": 69,
     "metadata": {},
     "output_type": "execute_result"
    }
   ],
   "source": [
    "# Obtener frecuencia de cada valor del df\n",
    "df_c.value_counts()"
   ]
  },
  {
   "cell_type": "code",
   "execution_count": 70,
   "id": "1a524e92",
   "metadata": {},
   "outputs": [
    {
     "data": {
      "text/plain": [
       "ciudades        Barcelona\n",
       "n_churrerias           20\n",
       "poblacion          144258\n",
       "rios                  0.0\n",
       "dtype: object"
      ]
     },
     "execution_count": 70,
     "metadata": {},
     "output_type": "execute_result"
    }
   ],
   "source": [
    "# Obtener el menor valor de los datos del df\n",
    "df_c.min()"
   ]
  },
  {
   "cell_type": "code",
   "execution_count": 71,
   "id": "43be4ac8",
   "metadata": {},
   "outputs": [
    {
     "data": {
      "text/plain": [
       "ciudades        Sevilla\n",
       "n_churrerias        100\n",
       "poblacion       3223000\n",
       "rios                2.0\n",
       "dtype: object"
      ]
     },
     "execution_count": 71,
     "metadata": {},
     "output_type": "execute_result"
    }
   ],
   "source": [
    "# Obtener el mayor valor de los datos del df\n",
    "df_c.max()"
   ]
  },
  {
   "cell_type": "code",
   "execution_count": 72,
   "id": "1345c4ed",
   "metadata": {},
   "outputs": [
    {
     "data": {
      "text/plain": [
       "poblacion       1204358.0\n",
       "n_churrerias         58.8\n",
       "dtype: float64"
      ]
     },
     "execution_count": 72,
     "metadata": {},
     "output_type": "execute_result"
    }
   ],
   "source": [
    "# Obtener la media del valor de los datos numéricos del df\n",
    "df_c[[\"poblacion\", \"n_churrerias\"]].mean()"
   ]
  },
  {
   "cell_type": "code",
   "execution_count": 73,
   "id": "b33b5263",
   "metadata": {},
   "outputs": [
    {
     "data": {
      "text/plain": [
       "poblacion       1.262385e+06\n",
       "n_churrerias    3.141974e+01\n",
       "dtype: float64"
      ]
     },
     "execution_count": 73,
     "metadata": {},
     "output_type": "execute_result"
    }
   ],
   "source": [
    "# Obtener la desviación típica de los datos númericos del df\n",
    "df_c[[\"poblacion\", \"n_churrerias\"]].std()"
   ]
  },
  {
   "cell_type": "code",
   "execution_count": 74,
   "id": "2fd7d43d",
   "metadata": {},
   "outputs": [
    {
     "data": {
      "text/html": [
       "<div>\n",
       "<style scoped>\n",
       "    .dataframe tbody tr th:only-of-type {\n",
       "        vertical-align: middle;\n",
       "    }\n",
       "\n",
       "    .dataframe tbody tr th {\n",
       "        vertical-align: top;\n",
       "    }\n",
       "\n",
       "    .dataframe thead th {\n",
       "        text-align: right;\n",
       "    }\n",
       "</style>\n",
       "<table border=\"1\" class=\"dataframe\">\n",
       "  <thead>\n",
       "    <tr style=\"text-align: right;\">\n",
       "      <th></th>\n",
       "      <th>n_churrerias</th>\n",
       "      <th>poblacion</th>\n",
       "      <th>rios</th>\n",
       "    </tr>\n",
       "  </thead>\n",
       "  <tbody>\n",
       "    <tr>\n",
       "      <th>count</th>\n",
       "      <td>5.000000</td>\n",
       "      <td>5.000000e+00</td>\n",
       "      <td>4.000000</td>\n",
       "    </tr>\n",
       "    <tr>\n",
       "      <th>mean</th>\n",
       "      <td>58.800000</td>\n",
       "      <td>1.204358e+06</td>\n",
       "      <td>1.000000</td>\n",
       "    </tr>\n",
       "    <tr>\n",
       "      <th>std</th>\n",
       "      <td>31.419739</td>\n",
       "      <td>1.262385e+06</td>\n",
       "      <td>0.816497</td>\n",
       "    </tr>\n",
       "    <tr>\n",
       "      <th>min</th>\n",
       "      <td>20.000000</td>\n",
       "      <td>1.442580e+05</td>\n",
       "      <td>0.000000</td>\n",
       "    </tr>\n",
       "    <tr>\n",
       "      <th>25%</th>\n",
       "      <td>44.000000</td>\n",
       "      <td>3.458210e+05</td>\n",
       "      <td>0.750000</td>\n",
       "    </tr>\n",
       "    <tr>\n",
       "      <th>50%</th>\n",
       "      <td>50.000000</td>\n",
       "      <td>6.887110e+05</td>\n",
       "      <td>1.000000</td>\n",
       "    </tr>\n",
       "    <tr>\n",
       "      <th>75%</th>\n",
       "      <td>80.000000</td>\n",
       "      <td>1.620000e+06</td>\n",
       "      <td>1.250000</td>\n",
       "    </tr>\n",
       "    <tr>\n",
       "      <th>max</th>\n",
       "      <td>100.000000</td>\n",
       "      <td>3.223000e+06</td>\n",
       "      <td>2.000000</td>\n",
       "    </tr>\n",
       "  </tbody>\n",
       "</table>\n",
       "</div>"
      ],
      "text/plain": [
       "       n_churrerias     poblacion      rios\n",
       "count      5.000000  5.000000e+00  4.000000\n",
       "mean      58.800000  1.204358e+06  1.000000\n",
       "std       31.419739  1.262385e+06  0.816497\n",
       "min       20.000000  1.442580e+05  0.000000\n",
       "25%       44.000000  3.458210e+05  0.750000\n",
       "50%       50.000000  6.887110e+05  1.000000\n",
       "75%       80.000000  1.620000e+06  1.250000\n",
       "max      100.000000  3.223000e+06  2.000000"
      ]
     },
     "execution_count": 74,
     "metadata": {},
     "output_type": "execute_result"
    }
   ],
   "source": [
    "# Obtener estadísticos descriptivos del df\n",
    "df_c.describe()"
   ]
  },
  {
   "cell_type": "markdown",
   "id": "cf8e3ba0",
   "metadata": {},
   "source": [
    "### Eliminar columnas"
   ]
  },
  {
   "cell_type": "code",
   "execution_count": 75,
   "id": "4444ef3b",
   "metadata": {},
   "outputs": [
    {
     "data": {
      "text/html": [
       "<div>\n",
       "<style scoped>\n",
       "    .dataframe tbody tr th:only-of-type {\n",
       "        vertical-align: middle;\n",
       "    }\n",
       "\n",
       "    .dataframe tbody tr th {\n",
       "        vertical-align: top;\n",
       "    }\n",
       "\n",
       "    .dataframe thead th {\n",
       "        text-align: right;\n",
       "    }\n",
       "</style>\n",
       "<table border=\"1\" class=\"dataframe\">\n",
       "  <thead>\n",
       "    <tr style=\"text-align: right;\">\n",
       "      <th></th>\n",
       "      <th>ciudades</th>\n",
       "      <th>n_churrerias</th>\n",
       "      <th>poblacion</th>\n",
       "      <th>rios</th>\n",
       "      <th>dummy_col1</th>\n",
       "      <th>dummy_col2</th>\n",
       "    </tr>\n",
       "  </thead>\n",
       "  <tbody>\n",
       "    <tr>\n",
       "      <th>M</th>\n",
       "      <td>Madrid</td>\n",
       "      <td>100</td>\n",
       "      <td>3223000</td>\n",
       "      <td>1.0</td>\n",
       "      <td>0</td>\n",
       "      <td>a</td>\n",
       "    </tr>\n",
       "    <tr>\n",
       "      <th>HU</th>\n",
       "      <td>Huelva</td>\n",
       "      <td>20</td>\n",
       "      <td>144258</td>\n",
       "      <td>2.0</td>\n",
       "      <td>0</td>\n",
       "      <td>a</td>\n",
       "    </tr>\n",
       "    <tr>\n",
       "      <th>SE</th>\n",
       "      <td>Sevilla</td>\n",
       "      <td>50</td>\n",
       "      <td>688711</td>\n",
       "      <td>1.0</td>\n",
       "      <td>0</td>\n",
       "      <td>a</td>\n",
       "    </tr>\n",
       "    <tr>\n",
       "      <th>B</th>\n",
       "      <td>Barcelona</td>\n",
       "      <td>80</td>\n",
       "      <td>1620000</td>\n",
       "      <td>0.0</td>\n",
       "      <td>0</td>\n",
       "      <td>a</td>\n",
       "    </tr>\n",
       "    <tr>\n",
       "      <th>BI</th>\n",
       "      <td>Bilbao</td>\n",
       "      <td>44</td>\n",
       "      <td>345821</td>\n",
       "      <td>NaN</td>\n",
       "      <td>0</td>\n",
       "      <td>a</td>\n",
       "    </tr>\n",
       "  </tbody>\n",
       "</table>\n",
       "</div>"
      ],
      "text/plain": [
       "     ciudades  n_churrerias  poblacion  rios  dummy_col1 dummy_col2\n",
       "M      Madrid           100    3223000   1.0           0          a\n",
       "HU     Huelva            20     144258   2.0           0          a\n",
       "SE    Sevilla            50     688711   1.0           0          a\n",
       "B   Barcelona            80    1620000   0.0           0          a\n",
       "BI     Bilbao            44     345821   NaN           0          a"
      ]
     },
     "execution_count": 75,
     "metadata": {},
     "output_type": "execute_result"
    }
   ],
   "source": [
    "df_c[\"dummy_col1\"] = 0\n",
    "df_c[\"dummy_col2\"] = \"a\"\n",
    "df_c"
   ]
  },
  {
   "cell_type": "code",
   "execution_count": 76,
   "id": "742d78bb",
   "metadata": {},
   "outputs": [
    {
     "data": {
      "text/html": [
       "<div>\n",
       "<style scoped>\n",
       "    .dataframe tbody tr th:only-of-type {\n",
       "        vertical-align: middle;\n",
       "    }\n",
       "\n",
       "    .dataframe tbody tr th {\n",
       "        vertical-align: top;\n",
       "    }\n",
       "\n",
       "    .dataframe thead th {\n",
       "        text-align: right;\n",
       "    }\n",
       "</style>\n",
       "<table border=\"1\" class=\"dataframe\">\n",
       "  <thead>\n",
       "    <tr style=\"text-align: right;\">\n",
       "      <th></th>\n",
       "      <th>ciudades</th>\n",
       "      <th>n_churrerias</th>\n",
       "      <th>poblacion</th>\n",
       "      <th>rios</th>\n",
       "      <th>dummy_col2</th>\n",
       "    </tr>\n",
       "  </thead>\n",
       "  <tbody>\n",
       "    <tr>\n",
       "      <th>M</th>\n",
       "      <td>Madrid</td>\n",
       "      <td>100</td>\n",
       "      <td>3223000</td>\n",
       "      <td>1.0</td>\n",
       "      <td>a</td>\n",
       "    </tr>\n",
       "    <tr>\n",
       "      <th>HU</th>\n",
       "      <td>Huelva</td>\n",
       "      <td>20</td>\n",
       "      <td>144258</td>\n",
       "      <td>2.0</td>\n",
       "      <td>a</td>\n",
       "    </tr>\n",
       "    <tr>\n",
       "      <th>SE</th>\n",
       "      <td>Sevilla</td>\n",
       "      <td>50</td>\n",
       "      <td>688711</td>\n",
       "      <td>1.0</td>\n",
       "      <td>a</td>\n",
       "    </tr>\n",
       "    <tr>\n",
       "      <th>B</th>\n",
       "      <td>Barcelona</td>\n",
       "      <td>80</td>\n",
       "      <td>1620000</td>\n",
       "      <td>0.0</td>\n",
       "      <td>a</td>\n",
       "    </tr>\n",
       "    <tr>\n",
       "      <th>BI</th>\n",
       "      <td>Bilbao</td>\n",
       "      <td>44</td>\n",
       "      <td>345821</td>\n",
       "      <td>NaN</td>\n",
       "      <td>a</td>\n",
       "    </tr>\n",
       "  </tbody>\n",
       "</table>\n",
       "</div>"
      ],
      "text/plain": [
       "     ciudades  n_churrerias  poblacion  rios dummy_col2\n",
       "M      Madrid           100    3223000   1.0          a\n",
       "HU     Huelva            20     144258   2.0          a\n",
       "SE    Sevilla            50     688711   1.0          a\n",
       "B   Barcelona            80    1620000   0.0          a\n",
       "BI     Bilbao            44     345821   NaN          a"
      ]
     },
     "execution_count": 76,
     "metadata": {},
     "output_type": "execute_result"
    }
   ],
   "source": [
    "del df_c[\"dummy_col1\"]\n",
    "df_c"
   ]
  },
  {
   "cell_type": "code",
   "execution_count": 77,
   "id": "eb5cb1b2",
   "metadata": {},
   "outputs": [
    {
     "data": {
      "text/plain": [
       "M     a\n",
       "HU    a\n",
       "SE    a\n",
       "B     a\n",
       "BI    a\n",
       "Name: dummy_col2, dtype: object"
      ]
     },
     "execution_count": 77,
     "metadata": {},
     "output_type": "execute_result"
    }
   ],
   "source": [
    "df_c.pop(\"dummy_col2\")"
   ]
  },
  {
   "cell_type": "markdown",
   "id": "7499abb6",
   "metadata": {},
   "source": [
    "### Eliminar filas/Columnas "
   ]
  },
  {
   "cell_type": "markdown",
   "id": "928c08d7",
   "metadata": {},
   "source": [
    "#### [pd.drop](https://pandas.pydata.org/docs/reference/api/pandas.DataFrame.drop.html)"
   ]
  },
  {
   "cell_type": "code",
   "execution_count": 78,
   "id": "4005d651",
   "metadata": {},
   "outputs": [
    {
     "data": {
      "text/html": [
       "<div>\n",
       "<style scoped>\n",
       "    .dataframe tbody tr th:only-of-type {\n",
       "        vertical-align: middle;\n",
       "    }\n",
       "\n",
       "    .dataframe tbody tr th {\n",
       "        vertical-align: top;\n",
       "    }\n",
       "\n",
       "    .dataframe thead th {\n",
       "        text-align: right;\n",
       "    }\n",
       "</style>\n",
       "<table border=\"1\" class=\"dataframe\">\n",
       "  <thead>\n",
       "    <tr style=\"text-align: right;\">\n",
       "      <th></th>\n",
       "      <th>ciudades</th>\n",
       "      <th>n_churrerias</th>\n",
       "      <th>poblacion</th>\n",
       "      <th>rios</th>\n",
       "    </tr>\n",
       "  </thead>\n",
       "  <tbody>\n",
       "    <tr>\n",
       "      <th>HU</th>\n",
       "      <td>Huelva</td>\n",
       "      <td>20</td>\n",
       "      <td>144258</td>\n",
       "      <td>2.0</td>\n",
       "    </tr>\n",
       "    <tr>\n",
       "      <th>SE</th>\n",
       "      <td>Sevilla</td>\n",
       "      <td>50</td>\n",
       "      <td>688711</td>\n",
       "      <td>1.0</td>\n",
       "    </tr>\n",
       "    <tr>\n",
       "      <th>BI</th>\n",
       "      <td>Bilbao</td>\n",
       "      <td>44</td>\n",
       "      <td>345821</td>\n",
       "      <td>NaN</td>\n",
       "    </tr>\n",
       "  </tbody>\n",
       "</table>\n",
       "</div>"
      ],
      "text/plain": [
       "   ciudades  n_churrerias  poblacion  rios\n",
       "HU   Huelva            20     144258   2.0\n",
       "SE  Sevilla            50     688711   1.0\n",
       "BI   Bilbao            44     345821   NaN"
      ]
     },
     "execution_count": 78,
     "metadata": {},
     "output_type": "execute_result"
    }
   ],
   "source": [
    "df_c.drop([\"M\", \"B\"])"
   ]
  },
  {
   "cell_type": "code",
   "execution_count": 79,
   "id": "11edcd64",
   "metadata": {},
   "outputs": [
    {
     "data": {
      "text/html": [
       "<div>\n",
       "<style scoped>\n",
       "    .dataframe tbody tr th:only-of-type {\n",
       "        vertical-align: middle;\n",
       "    }\n",
       "\n",
       "    .dataframe tbody tr th {\n",
       "        vertical-align: top;\n",
       "    }\n",
       "\n",
       "    .dataframe thead th {\n",
       "        text-align: right;\n",
       "    }\n",
       "</style>\n",
       "<table border=\"1\" class=\"dataframe\">\n",
       "  <thead>\n",
       "    <tr style=\"text-align: right;\">\n",
       "      <th></th>\n",
       "      <th>ciudades</th>\n",
       "      <th>n_churrerias</th>\n",
       "      <th>poblacion</th>\n",
       "    </tr>\n",
       "  </thead>\n",
       "  <tbody>\n",
       "    <tr>\n",
       "      <th>M</th>\n",
       "      <td>Madrid</td>\n",
       "      <td>100</td>\n",
       "      <td>3223000</td>\n",
       "    </tr>\n",
       "    <tr>\n",
       "      <th>HU</th>\n",
       "      <td>Huelva</td>\n",
       "      <td>20</td>\n",
       "      <td>144258</td>\n",
       "    </tr>\n",
       "    <tr>\n",
       "      <th>SE</th>\n",
       "      <td>Sevilla</td>\n",
       "      <td>50</td>\n",
       "      <td>688711</td>\n",
       "    </tr>\n",
       "    <tr>\n",
       "      <th>B</th>\n",
       "      <td>Barcelona</td>\n",
       "      <td>80</td>\n",
       "      <td>1620000</td>\n",
       "    </tr>\n",
       "    <tr>\n",
       "      <th>BI</th>\n",
       "      <td>Bilbao</td>\n",
       "      <td>44</td>\n",
       "      <td>345821</td>\n",
       "    </tr>\n",
       "  </tbody>\n",
       "</table>\n",
       "</div>"
      ],
      "text/plain": [
       "     ciudades  n_churrerias  poblacion\n",
       "M      Madrid           100    3223000\n",
       "HU     Huelva            20     144258\n",
       "SE    Sevilla            50     688711\n",
       "B   Barcelona            80    1620000\n",
       "BI     Bilbao            44     345821"
      ]
     },
     "execution_count": 79,
     "metadata": {},
     "output_type": "execute_result"
    }
   ],
   "source": [
    "df_c.drop(\"rios\", axis=1)"
   ]
  },
  {
   "cell_type": "markdown",
   "id": "d0dcdc40",
   "metadata": {},
   "source": [
    "### Filtrar filas\n",
    "\n",
    "Para filtrar filas se le pasa una lista o serie con booleanos al dataframe. También pueden ponerse las condiciones directamente y poner varias condiciones. En este último caso cada condición hay que ponerla entre corchetes."
   ]
  },
  {
   "cell_type": "code",
   "execution_count": 80,
   "id": "6fa548c0",
   "metadata": {},
   "outputs": [
    {
     "data": {
      "text/html": [
       "<div>\n",
       "<style scoped>\n",
       "    .dataframe tbody tr th:only-of-type {\n",
       "        vertical-align: middle;\n",
       "    }\n",
       "\n",
       "    .dataframe tbody tr th {\n",
       "        vertical-align: top;\n",
       "    }\n",
       "\n",
       "    .dataframe thead th {\n",
       "        text-align: right;\n",
       "    }\n",
       "</style>\n",
       "<table border=\"1\" class=\"dataframe\">\n",
       "  <thead>\n",
       "    <tr style=\"text-align: right;\">\n",
       "      <th></th>\n",
       "      <th>ciudades</th>\n",
       "      <th>n_churrerias</th>\n",
       "      <th>poblacion</th>\n",
       "      <th>rios</th>\n",
       "    </tr>\n",
       "  </thead>\n",
       "  <tbody>\n",
       "    <tr>\n",
       "      <th>HU</th>\n",
       "      <td>Huelva</td>\n",
       "      <td>20</td>\n",
       "      <td>144258</td>\n",
       "      <td>2.0</td>\n",
       "    </tr>\n",
       "    <tr>\n",
       "      <th>SE</th>\n",
       "      <td>Sevilla</td>\n",
       "      <td>50</td>\n",
       "      <td>688711</td>\n",
       "      <td>1.0</td>\n",
       "    </tr>\n",
       "    <tr>\n",
       "      <th>BI</th>\n",
       "      <td>Bilbao</td>\n",
       "      <td>44</td>\n",
       "      <td>345821</td>\n",
       "      <td>NaN</td>\n",
       "    </tr>\n",
       "  </tbody>\n",
       "</table>\n",
       "</div>"
      ],
      "text/plain": [
       "   ciudades  n_churrerias  poblacion  rios\n",
       "HU   Huelva            20     144258   2.0\n",
       "SE  Sevilla            50     688711   1.0\n",
       "BI   Bilbao            44     345821   NaN"
      ]
     },
     "execution_count": 80,
     "metadata": {},
     "output_type": "execute_result"
    }
   ],
   "source": [
    "df_c[df_c[\"n_churrerias\"] <= 50]"
   ]
  },
  {
   "cell_type": "code",
   "execution_count": 81,
   "id": "201a1c4c",
   "metadata": {},
   "outputs": [
    {
     "data": {
      "text/html": [
       "<div>\n",
       "<style scoped>\n",
       "    .dataframe tbody tr th:only-of-type {\n",
       "        vertical-align: middle;\n",
       "    }\n",
       "\n",
       "    .dataframe tbody tr th {\n",
       "        vertical-align: top;\n",
       "    }\n",
       "\n",
       "    .dataframe thead th {\n",
       "        text-align: right;\n",
       "    }\n",
       "</style>\n",
       "<table border=\"1\" class=\"dataframe\">\n",
       "  <thead>\n",
       "    <tr style=\"text-align: right;\">\n",
       "      <th></th>\n",
       "      <th>ciudades</th>\n",
       "      <th>n_churrerias</th>\n",
       "      <th>poblacion</th>\n",
       "      <th>rios</th>\n",
       "    </tr>\n",
       "  </thead>\n",
       "  <tbody>\n",
       "    <tr>\n",
       "      <th>HU</th>\n",
       "      <td>Huelva</td>\n",
       "      <td>20</td>\n",
       "      <td>144258</td>\n",
       "      <td>2.0</td>\n",
       "    </tr>\n",
       "    <tr>\n",
       "      <th>SE</th>\n",
       "      <td>Sevilla</td>\n",
       "      <td>50</td>\n",
       "      <td>688711</td>\n",
       "      <td>1.0</td>\n",
       "    </tr>\n",
       "  </tbody>\n",
       "</table>\n",
       "</div>"
      ],
      "text/plain": [
       "   ciudades  n_churrerias  poblacion  rios\n",
       "HU   Huelva            20     144258   2.0\n",
       "SE  Sevilla            50     688711   1.0"
      ]
     },
     "execution_count": 81,
     "metadata": {},
     "output_type": "execute_result"
    }
   ],
   "source": [
    "df_c[(df_c[\"n_churrerias\"] <= 50) & (df_c[\"rios\"] > 0)]"
   ]
  },
  {
   "cell_type": "code",
   "execution_count": 82,
   "id": "3f66ecd4",
   "metadata": {},
   "outputs": [
    {
     "data": {
      "text/html": [
       "<div>\n",
       "<style scoped>\n",
       "    .dataframe tbody tr th:only-of-type {\n",
       "        vertical-align: middle;\n",
       "    }\n",
       "\n",
       "    .dataframe tbody tr th {\n",
       "        vertical-align: top;\n",
       "    }\n",
       "\n",
       "    .dataframe thead th {\n",
       "        text-align: right;\n",
       "    }\n",
       "</style>\n",
       "<table border=\"1\" class=\"dataframe\">\n",
       "  <thead>\n",
       "    <tr style=\"text-align: right;\">\n",
       "      <th></th>\n",
       "      <th>ciudades</th>\n",
       "      <th>n_churrerias</th>\n",
       "      <th>poblacion</th>\n",
       "      <th>rios</th>\n",
       "    </tr>\n",
       "  </thead>\n",
       "  <tbody>\n",
       "    <tr>\n",
       "      <th>HU</th>\n",
       "      <td>Huelva</td>\n",
       "      <td>20</td>\n",
       "      <td>144258</td>\n",
       "      <td>2.0</td>\n",
       "    </tr>\n",
       "    <tr>\n",
       "      <th>B</th>\n",
       "      <td>Barcelona</td>\n",
       "      <td>80</td>\n",
       "      <td>1620000</td>\n",
       "      <td>0.0</td>\n",
       "    </tr>\n",
       "    <tr>\n",
       "      <th>BI</th>\n",
       "      <td>Bilbao</td>\n",
       "      <td>44</td>\n",
       "      <td>345821</td>\n",
       "      <td>NaN</td>\n",
       "    </tr>\n",
       "  </tbody>\n",
       "</table>\n",
       "</div>"
      ],
      "text/plain": [
       "     ciudades  n_churrerias  poblacion  rios\n",
       "HU     Huelva            20     144258   2.0\n",
       "B   Barcelona            80    1620000   0.0\n",
       "BI     Bilbao            44     345821   NaN"
      ]
     },
     "execution_count": 82,
     "metadata": {},
     "output_type": "execute_result"
    }
   ],
   "source": [
    "df_c[(df_c[\"ciudades\"].str[0] == \"B\") | (df_c[\"rios\"] >= 2)]"
   ]
  },
  {
   "cell_type": "markdown",
   "id": "1d542133",
   "metadata": {},
   "source": [
    "### Ordenar filas"
   ]
  },
  {
   "cell_type": "markdown",
   "id": "4e3a53a5",
   "metadata": {},
   "source": [
    "#### [pd.sort_values](https://pandas.pydata.org/docs/reference/api/pandas.DataFrame.sort_values.html)\n",
    "Sirve para ordenar los valores del df en función de una columna"
   ]
  },
  {
   "cell_type": "code",
   "execution_count": 83,
   "id": "97b9e9b2",
   "metadata": {},
   "outputs": [
    {
     "data": {
      "text/html": [
       "<div>\n",
       "<style scoped>\n",
       "    .dataframe tbody tr th:only-of-type {\n",
       "        vertical-align: middle;\n",
       "    }\n",
       "\n",
       "    .dataframe tbody tr th {\n",
       "        vertical-align: top;\n",
       "    }\n",
       "\n",
       "    .dataframe thead th {\n",
       "        text-align: right;\n",
       "    }\n",
       "</style>\n",
       "<table border=\"1\" class=\"dataframe\">\n",
       "  <thead>\n",
       "    <tr style=\"text-align: right;\">\n",
       "      <th></th>\n",
       "      <th>ciudades</th>\n",
       "      <th>n_churrerias</th>\n",
       "      <th>poblacion</th>\n",
       "      <th>rios</th>\n",
       "    </tr>\n",
       "  </thead>\n",
       "  <tbody>\n",
       "    <tr>\n",
       "      <th>B</th>\n",
       "      <td>Barcelona</td>\n",
       "      <td>80</td>\n",
       "      <td>1620000</td>\n",
       "      <td>0.0</td>\n",
       "    </tr>\n",
       "    <tr>\n",
       "      <th>BI</th>\n",
       "      <td>Bilbao</td>\n",
       "      <td>44</td>\n",
       "      <td>345821</td>\n",
       "      <td>NaN</td>\n",
       "    </tr>\n",
       "    <tr>\n",
       "      <th>HU</th>\n",
       "      <td>Huelva</td>\n",
       "      <td>20</td>\n",
       "      <td>144258</td>\n",
       "      <td>2.0</td>\n",
       "    </tr>\n",
       "    <tr>\n",
       "      <th>M</th>\n",
       "      <td>Madrid</td>\n",
       "      <td>100</td>\n",
       "      <td>3223000</td>\n",
       "      <td>1.0</td>\n",
       "    </tr>\n",
       "    <tr>\n",
       "      <th>SE</th>\n",
       "      <td>Sevilla</td>\n",
       "      <td>50</td>\n",
       "      <td>688711</td>\n",
       "      <td>1.0</td>\n",
       "    </tr>\n",
       "  </tbody>\n",
       "</table>\n",
       "</div>"
      ],
      "text/plain": [
       "     ciudades  n_churrerias  poblacion  rios\n",
       "B   Barcelona            80    1620000   0.0\n",
       "BI     Bilbao            44     345821   NaN\n",
       "HU     Huelva            20     144258   2.0\n",
       "M      Madrid           100    3223000   1.0\n",
       "SE    Sevilla            50     688711   1.0"
      ]
     },
     "execution_count": 83,
     "metadata": {},
     "output_type": "execute_result"
    }
   ],
   "source": [
    "df_c.sort_values(\"ciudades\", ascending=True)"
   ]
  },
  {
   "cell_type": "code",
   "execution_count": 84,
   "id": "48931997",
   "metadata": {},
   "outputs": [
    {
     "data": {
      "text/html": [
       "<div>\n",
       "<style scoped>\n",
       "    .dataframe tbody tr th:only-of-type {\n",
       "        vertical-align: middle;\n",
       "    }\n",
       "\n",
       "    .dataframe tbody tr th {\n",
       "        vertical-align: top;\n",
       "    }\n",
       "\n",
       "    .dataframe thead th {\n",
       "        text-align: right;\n",
       "    }\n",
       "</style>\n",
       "<table border=\"1\" class=\"dataframe\">\n",
       "  <thead>\n",
       "    <tr style=\"text-align: right;\">\n",
       "      <th></th>\n",
       "      <th>ciudades</th>\n",
       "      <th>n_churrerias</th>\n",
       "      <th>poblacion</th>\n",
       "      <th>rios</th>\n",
       "    </tr>\n",
       "  </thead>\n",
       "  <tbody>\n",
       "    <tr>\n",
       "      <th>M</th>\n",
       "      <td>Madrid</td>\n",
       "      <td>100</td>\n",
       "      <td>3223000</td>\n",
       "      <td>1.0</td>\n",
       "    </tr>\n",
       "    <tr>\n",
       "      <th>B</th>\n",
       "      <td>Barcelona</td>\n",
       "      <td>80</td>\n",
       "      <td>1620000</td>\n",
       "      <td>0.0</td>\n",
       "    </tr>\n",
       "    <tr>\n",
       "      <th>SE</th>\n",
       "      <td>Sevilla</td>\n",
       "      <td>50</td>\n",
       "      <td>688711</td>\n",
       "      <td>1.0</td>\n",
       "    </tr>\n",
       "    <tr>\n",
       "      <th>BI</th>\n",
       "      <td>Bilbao</td>\n",
       "      <td>44</td>\n",
       "      <td>345821</td>\n",
       "      <td>NaN</td>\n",
       "    </tr>\n",
       "    <tr>\n",
       "      <th>HU</th>\n",
       "      <td>Huelva</td>\n",
       "      <td>20</td>\n",
       "      <td>144258</td>\n",
       "      <td>2.0</td>\n",
       "    </tr>\n",
       "  </tbody>\n",
       "</table>\n",
       "</div>"
      ],
      "text/plain": [
       "     ciudades  n_churrerias  poblacion  rios\n",
       "M      Madrid           100    3223000   1.0\n",
       "B   Barcelona            80    1620000   0.0\n",
       "SE    Sevilla            50     688711   1.0\n",
       "BI     Bilbao            44     345821   NaN\n",
       "HU     Huelva            20     144258   2.0"
      ]
     },
     "execution_count": 84,
     "metadata": {},
     "output_type": "execute_result"
    }
   ],
   "source": [
    "df_c.sort_values(\"poblacion\", ascending=False)"
   ]
  },
  {
   "cell_type": "markdown",
   "id": "dcaa511f",
   "metadata": {},
   "source": [
    "#### [pd.sort_index](https://pandas.pydata.org/docs/reference/api/pandas.DataFrame.sort_index.html)\n",
    "Sirve para ordenar los valores del df en función del índice"
   ]
  },
  {
   "cell_type": "code",
   "execution_count": 85,
   "id": "a6241e07",
   "metadata": {},
   "outputs": [
    {
     "data": {
      "text/html": [
       "<div>\n",
       "<style scoped>\n",
       "    .dataframe tbody tr th:only-of-type {\n",
       "        vertical-align: middle;\n",
       "    }\n",
       "\n",
       "    .dataframe tbody tr th {\n",
       "        vertical-align: top;\n",
       "    }\n",
       "\n",
       "    .dataframe thead th {\n",
       "        text-align: right;\n",
       "    }\n",
       "</style>\n",
       "<table border=\"1\" class=\"dataframe\">\n",
       "  <thead>\n",
       "    <tr style=\"text-align: right;\">\n",
       "      <th></th>\n",
       "      <th>ciudades</th>\n",
       "      <th>n_churrerias</th>\n",
       "      <th>poblacion</th>\n",
       "      <th>rios</th>\n",
       "    </tr>\n",
       "  </thead>\n",
       "  <tbody>\n",
       "    <tr>\n",
       "      <th>SE</th>\n",
       "      <td>Sevilla</td>\n",
       "      <td>50</td>\n",
       "      <td>688711</td>\n",
       "      <td>1.0</td>\n",
       "    </tr>\n",
       "    <tr>\n",
       "      <th>M</th>\n",
       "      <td>Madrid</td>\n",
       "      <td>100</td>\n",
       "      <td>3223000</td>\n",
       "      <td>1.0</td>\n",
       "    </tr>\n",
       "    <tr>\n",
       "      <th>HU</th>\n",
       "      <td>Huelva</td>\n",
       "      <td>20</td>\n",
       "      <td>144258</td>\n",
       "      <td>2.0</td>\n",
       "    </tr>\n",
       "    <tr>\n",
       "      <th>BI</th>\n",
       "      <td>Bilbao</td>\n",
       "      <td>44</td>\n",
       "      <td>345821</td>\n",
       "      <td>NaN</td>\n",
       "    </tr>\n",
       "    <tr>\n",
       "      <th>B</th>\n",
       "      <td>Barcelona</td>\n",
       "      <td>80</td>\n",
       "      <td>1620000</td>\n",
       "      <td>0.0</td>\n",
       "    </tr>\n",
       "  </tbody>\n",
       "</table>\n",
       "</div>"
      ],
      "text/plain": [
       "     ciudades  n_churrerias  poblacion  rios\n",
       "SE    Sevilla            50     688711   1.0\n",
       "M      Madrid           100    3223000   1.0\n",
       "HU     Huelva            20     144258   2.0\n",
       "BI     Bilbao            44     345821   NaN\n",
       "B   Barcelona            80    1620000   0.0"
      ]
     },
     "execution_count": 85,
     "metadata": {},
     "output_type": "execute_result"
    }
   ],
   "source": [
    "df_c.sort_index(ascending=False)"
   ]
  },
  {
   "cell_type": "markdown",
   "id": "d70894ee",
   "metadata": {},
   "source": [
    "### Usar una lista para Ordenar/Eliminar columnas \n",
    "\n",
    "Puede ordenarse o eliminarse las columnas de un df pasándole una lista con los nombres de las columnas "
   ]
  },
  {
   "cell_type": "code",
   "execution_count": 86,
   "id": "cb37cfe7",
   "metadata": {},
   "outputs": [
    {
     "data": {
      "text/html": [
       "<div>\n",
       "<style scoped>\n",
       "    .dataframe tbody tr th:only-of-type {\n",
       "        vertical-align: middle;\n",
       "    }\n",
       "\n",
       "    .dataframe tbody tr th {\n",
       "        vertical-align: top;\n",
       "    }\n",
       "\n",
       "    .dataframe thead th {\n",
       "        text-align: right;\n",
       "    }\n",
       "</style>\n",
       "<table border=\"1\" class=\"dataframe\">\n",
       "  <thead>\n",
       "    <tr style=\"text-align: right;\">\n",
       "      <th></th>\n",
       "      <th>poblacion</th>\n",
       "      <th>n_churrerias</th>\n",
       "      <th>rios</th>\n",
       "    </tr>\n",
       "  </thead>\n",
       "  <tbody>\n",
       "    <tr>\n",
       "      <th>M</th>\n",
       "      <td>3223000</td>\n",
       "      <td>100</td>\n",
       "      <td>1.0</td>\n",
       "    </tr>\n",
       "    <tr>\n",
       "      <th>HU</th>\n",
       "      <td>144258</td>\n",
       "      <td>20</td>\n",
       "      <td>2.0</td>\n",
       "    </tr>\n",
       "    <tr>\n",
       "      <th>SE</th>\n",
       "      <td>688711</td>\n",
       "      <td>50</td>\n",
       "      <td>1.0</td>\n",
       "    </tr>\n",
       "    <tr>\n",
       "      <th>B</th>\n",
       "      <td>1620000</td>\n",
       "      <td>80</td>\n",
       "      <td>0.0</td>\n",
       "    </tr>\n",
       "    <tr>\n",
       "      <th>BI</th>\n",
       "      <td>345821</td>\n",
       "      <td>44</td>\n",
       "      <td>NaN</td>\n",
       "    </tr>\n",
       "  </tbody>\n",
       "</table>\n",
       "</div>"
      ],
      "text/plain": [
       "    poblacion  n_churrerias  rios\n",
       "M     3223000           100   1.0\n",
       "HU     144258            20   2.0\n",
       "SE     688711            50   1.0\n",
       "B     1620000            80   0.0\n",
       "BI     345821            44   NaN"
      ]
     },
     "execution_count": 86,
     "metadata": {},
     "output_type": "execute_result"
    }
   ],
   "source": [
    "df_c[['poblacion', 'n_churrerias', 'rios']]"
   ]
  },
  {
   "cell_type": "markdown",
   "id": "568bf26c",
   "metadata": {},
   "source": [
    "### Eliminar NaNs"
   ]
  },
  {
   "cell_type": "markdown",
   "id": "5360e29a",
   "metadata": {},
   "source": [
    "#### [pd.dropna](https://pandas.pydata.org/docs/reference/api/pandas.DataFrame.dropna.html)"
   ]
  },
  {
   "cell_type": "code",
   "execution_count": 87,
   "id": "4521e75d",
   "metadata": {},
   "outputs": [
    {
     "data": {
      "text/html": [
       "<div>\n",
       "<style scoped>\n",
       "    .dataframe tbody tr th:only-of-type {\n",
       "        vertical-align: middle;\n",
       "    }\n",
       "\n",
       "    .dataframe tbody tr th {\n",
       "        vertical-align: top;\n",
       "    }\n",
       "\n",
       "    .dataframe thead th {\n",
       "        text-align: right;\n",
       "    }\n",
       "</style>\n",
       "<table border=\"1\" class=\"dataframe\">\n",
       "  <thead>\n",
       "    <tr style=\"text-align: right;\">\n",
       "      <th></th>\n",
       "      <th>ciudades</th>\n",
       "      <th>n_churrerias</th>\n",
       "      <th>poblacion</th>\n",
       "      <th>rios</th>\n",
       "    </tr>\n",
       "  </thead>\n",
       "  <tbody>\n",
       "    <tr>\n",
       "      <th>M</th>\n",
       "      <td>Madrid</td>\n",
       "      <td>100</td>\n",
       "      <td>3223000</td>\n",
       "      <td>1.0</td>\n",
       "    </tr>\n",
       "    <tr>\n",
       "      <th>HU</th>\n",
       "      <td>Huelva</td>\n",
       "      <td>20</td>\n",
       "      <td>144258</td>\n",
       "      <td>2.0</td>\n",
       "    </tr>\n",
       "    <tr>\n",
       "      <th>SE</th>\n",
       "      <td>Sevilla</td>\n",
       "      <td>50</td>\n",
       "      <td>688711</td>\n",
       "      <td>1.0</td>\n",
       "    </tr>\n",
       "    <tr>\n",
       "      <th>B</th>\n",
       "      <td>Barcelona</td>\n",
       "      <td>80</td>\n",
       "      <td>1620000</td>\n",
       "      <td>0.0</td>\n",
       "    </tr>\n",
       "  </tbody>\n",
       "</table>\n",
       "</div>"
      ],
      "text/plain": [
       "     ciudades  n_churrerias  poblacion  rios\n",
       "M      Madrid           100    3223000   1.0\n",
       "HU     Huelva            20     144258   2.0\n",
       "SE    Sevilla            50     688711   1.0\n",
       "B   Barcelona            80    1620000   0.0"
      ]
     },
     "execution_count": 87,
     "metadata": {},
     "output_type": "execute_result"
    }
   ],
   "source": [
    "df_c.dropna()"
   ]
  },
  {
   "cell_type": "code",
   "execution_count": 88,
   "id": "7c3528df",
   "metadata": {},
   "outputs": [
    {
     "data": {
      "text/html": [
       "<div>\n",
       "<style scoped>\n",
       "    .dataframe tbody tr th:only-of-type {\n",
       "        vertical-align: middle;\n",
       "    }\n",
       "\n",
       "    .dataframe tbody tr th {\n",
       "        vertical-align: top;\n",
       "    }\n",
       "\n",
       "    .dataframe thead th {\n",
       "        text-align: right;\n",
       "    }\n",
       "</style>\n",
       "<table border=\"1\" class=\"dataframe\">\n",
       "  <thead>\n",
       "    <tr style=\"text-align: right;\">\n",
       "      <th></th>\n",
       "      <th>ciudades</th>\n",
       "      <th>n_churrerias</th>\n",
       "      <th>poblacion</th>\n",
       "    </tr>\n",
       "  </thead>\n",
       "  <tbody>\n",
       "    <tr>\n",
       "      <th>M</th>\n",
       "      <td>Madrid</td>\n",
       "      <td>100</td>\n",
       "      <td>3223000</td>\n",
       "    </tr>\n",
       "    <tr>\n",
       "      <th>HU</th>\n",
       "      <td>Huelva</td>\n",
       "      <td>20</td>\n",
       "      <td>144258</td>\n",
       "    </tr>\n",
       "    <tr>\n",
       "      <th>SE</th>\n",
       "      <td>Sevilla</td>\n",
       "      <td>50</td>\n",
       "      <td>688711</td>\n",
       "    </tr>\n",
       "    <tr>\n",
       "      <th>B</th>\n",
       "      <td>Barcelona</td>\n",
       "      <td>80</td>\n",
       "      <td>1620000</td>\n",
       "    </tr>\n",
       "    <tr>\n",
       "      <th>BI</th>\n",
       "      <td>Bilbao</td>\n",
       "      <td>44</td>\n",
       "      <td>345821</td>\n",
       "    </tr>\n",
       "  </tbody>\n",
       "</table>\n",
       "</div>"
      ],
      "text/plain": [
       "     ciudades  n_churrerias  poblacion\n",
       "M      Madrid           100    3223000\n",
       "HU     Huelva            20     144258\n",
       "SE    Sevilla            50     688711\n",
       "B   Barcelona            80    1620000\n",
       "BI     Bilbao            44     345821"
      ]
     },
     "execution_count": 88,
     "metadata": {},
     "output_type": "execute_result"
    }
   ],
   "source": [
    "df_c.dropna(axis=1)"
   ]
  },
  {
   "cell_type": "code",
   "execution_count": 89,
   "id": "8e671ef9",
   "metadata": {},
   "outputs": [
    {
     "data": {
      "text/html": [
       "<div>\n",
       "<style scoped>\n",
       "    .dataframe tbody tr th:only-of-type {\n",
       "        vertical-align: middle;\n",
       "    }\n",
       "\n",
       "    .dataframe tbody tr th {\n",
       "        vertical-align: top;\n",
       "    }\n",
       "\n",
       "    .dataframe thead th {\n",
       "        text-align: right;\n",
       "    }\n",
       "</style>\n",
       "<table border=\"1\" class=\"dataframe\">\n",
       "  <thead>\n",
       "    <tr style=\"text-align: right;\">\n",
       "      <th></th>\n",
       "      <th>ciudades</th>\n",
       "      <th>n_churrerias</th>\n",
       "      <th>poblacion</th>\n",
       "      <th>rios</th>\n",
       "    </tr>\n",
       "  </thead>\n",
       "  <tbody>\n",
       "    <tr>\n",
       "      <th>M</th>\n",
       "      <td>Madrid</td>\n",
       "      <td>100</td>\n",
       "      <td>3223000</td>\n",
       "      <td>1.0</td>\n",
       "    </tr>\n",
       "    <tr>\n",
       "      <th>HU</th>\n",
       "      <td>Huelva</td>\n",
       "      <td>20</td>\n",
       "      <td>144258</td>\n",
       "      <td>2.0</td>\n",
       "    </tr>\n",
       "    <tr>\n",
       "      <th>SE</th>\n",
       "      <td>Sevilla</td>\n",
       "      <td>50</td>\n",
       "      <td>688711</td>\n",
       "      <td>1.0</td>\n",
       "    </tr>\n",
       "    <tr>\n",
       "      <th>B</th>\n",
       "      <td>Barcelona</td>\n",
       "      <td>80</td>\n",
       "      <td>1620000</td>\n",
       "      <td>0.0</td>\n",
       "    </tr>\n",
       "    <tr>\n",
       "      <th>BI</th>\n",
       "      <td>Bilbao</td>\n",
       "      <td>44</td>\n",
       "      <td>345821</td>\n",
       "      <td>NaN</td>\n",
       "    </tr>\n",
       "  </tbody>\n",
       "</table>\n",
       "</div>"
      ],
      "text/plain": [
       "     ciudades  n_churrerias  poblacion  rios\n",
       "M      Madrid           100    3223000   1.0\n",
       "HU     Huelva            20     144258   2.0\n",
       "SE    Sevilla            50     688711   1.0\n",
       "B   Barcelona            80    1620000   0.0\n",
       "BI     Bilbao            44     345821   NaN"
      ]
     },
     "execution_count": 89,
     "metadata": {},
     "output_type": "execute_result"
    }
   ],
   "source": [
    "df_c.dropna(subset=[\"ciudades\", \"n_churrerias\"], axis=0)"
   ]
  },
  {
   "cell_type": "markdown",
   "id": "243f4c0d",
   "metadata": {},
   "source": [
    "### Rellenar NaNs"
   ]
  },
  {
   "cell_type": "markdown",
   "id": "055a8229",
   "metadata": {},
   "source": [
    "#### [pd.fillna](https://pandas.pydata.org/docs/reference/api/pandas.DataFrame.fillna.html)"
   ]
  },
  {
   "cell_type": "code",
   "execution_count": 90,
   "id": "114043b3",
   "metadata": {},
   "outputs": [
    {
     "data": {
      "text/html": [
       "<div>\n",
       "<style scoped>\n",
       "    .dataframe tbody tr th:only-of-type {\n",
       "        vertical-align: middle;\n",
       "    }\n",
       "\n",
       "    .dataframe tbody tr th {\n",
       "        vertical-align: top;\n",
       "    }\n",
       "\n",
       "    .dataframe thead th {\n",
       "        text-align: right;\n",
       "    }\n",
       "</style>\n",
       "<table border=\"1\" class=\"dataframe\">\n",
       "  <thead>\n",
       "    <tr style=\"text-align: right;\">\n",
       "      <th></th>\n",
       "      <th>ciudades</th>\n",
       "      <th>n_churrerias</th>\n",
       "      <th>poblacion</th>\n",
       "      <th>rios</th>\n",
       "    </tr>\n",
       "  </thead>\n",
       "  <tbody>\n",
       "    <tr>\n",
       "      <th>M</th>\n",
       "      <td>Madrid</td>\n",
       "      <td>100</td>\n",
       "      <td>3223000</td>\n",
       "      <td>1.0</td>\n",
       "    </tr>\n",
       "    <tr>\n",
       "      <th>HU</th>\n",
       "      <td>Huelva</td>\n",
       "      <td>20</td>\n",
       "      <td>144258</td>\n",
       "      <td>2.0</td>\n",
       "    </tr>\n",
       "    <tr>\n",
       "      <th>SE</th>\n",
       "      <td>Sevilla</td>\n",
       "      <td>50</td>\n",
       "      <td>688711</td>\n",
       "      <td>1.0</td>\n",
       "    </tr>\n",
       "    <tr>\n",
       "      <th>B</th>\n",
       "      <td>Barcelona</td>\n",
       "      <td>80</td>\n",
       "      <td>1620000</td>\n",
       "      <td>0.0</td>\n",
       "    </tr>\n",
       "    <tr>\n",
       "      <th>BI</th>\n",
       "      <td>Bilbao</td>\n",
       "      <td>44</td>\n",
       "      <td>345821</td>\n",
       "      <td>4.0</td>\n",
       "    </tr>\n",
       "  </tbody>\n",
       "</table>\n",
       "</div>"
      ],
      "text/plain": [
       "     ciudades  n_churrerias  poblacion  rios\n",
       "M      Madrid           100    3223000   1.0\n",
       "HU     Huelva            20     144258   2.0\n",
       "SE    Sevilla            50     688711   1.0\n",
       "B   Barcelona            80    1620000   0.0\n",
       "BI     Bilbao            44     345821   4.0"
      ]
     },
     "execution_count": 90,
     "metadata": {},
     "output_type": "execute_result"
    }
   ],
   "source": [
    "df_c.fillna(4)"
   ]
  },
  {
   "cell_type": "code",
   "execution_count": 91,
   "id": "9f8d28f1",
   "metadata": {},
   "outputs": [
    {
     "name": "stderr",
     "output_type": "stream",
     "text": [
      "/var/folders/3t/d2zbs9zj1nqgx7s3vhrpvbw40000gn/T/ipykernel_4873/3968144071.py:1: FutureWarning: DataFrame.fillna with 'method' is deprecated and will raise in a future version. Use obj.ffill() or obj.bfill() instead.\n",
      "  df_c.fillna(method=\"ffill\")\n"
     ]
    },
    {
     "data": {
      "text/html": [
       "<div>\n",
       "<style scoped>\n",
       "    .dataframe tbody tr th:only-of-type {\n",
       "        vertical-align: middle;\n",
       "    }\n",
       "\n",
       "    .dataframe tbody tr th {\n",
       "        vertical-align: top;\n",
       "    }\n",
       "\n",
       "    .dataframe thead th {\n",
       "        text-align: right;\n",
       "    }\n",
       "</style>\n",
       "<table border=\"1\" class=\"dataframe\">\n",
       "  <thead>\n",
       "    <tr style=\"text-align: right;\">\n",
       "      <th></th>\n",
       "      <th>ciudades</th>\n",
       "      <th>n_churrerias</th>\n",
       "      <th>poblacion</th>\n",
       "      <th>rios</th>\n",
       "    </tr>\n",
       "  </thead>\n",
       "  <tbody>\n",
       "    <tr>\n",
       "      <th>M</th>\n",
       "      <td>Madrid</td>\n",
       "      <td>100</td>\n",
       "      <td>3223000</td>\n",
       "      <td>1.0</td>\n",
       "    </tr>\n",
       "    <tr>\n",
       "      <th>HU</th>\n",
       "      <td>Huelva</td>\n",
       "      <td>20</td>\n",
       "      <td>144258</td>\n",
       "      <td>2.0</td>\n",
       "    </tr>\n",
       "    <tr>\n",
       "      <th>SE</th>\n",
       "      <td>Sevilla</td>\n",
       "      <td>50</td>\n",
       "      <td>688711</td>\n",
       "      <td>1.0</td>\n",
       "    </tr>\n",
       "    <tr>\n",
       "      <th>B</th>\n",
       "      <td>Barcelona</td>\n",
       "      <td>80</td>\n",
       "      <td>1620000</td>\n",
       "      <td>0.0</td>\n",
       "    </tr>\n",
       "    <tr>\n",
       "      <th>BI</th>\n",
       "      <td>Bilbao</td>\n",
       "      <td>44</td>\n",
       "      <td>345821</td>\n",
       "      <td>0.0</td>\n",
       "    </tr>\n",
       "  </tbody>\n",
       "</table>\n",
       "</div>"
      ],
      "text/plain": [
       "     ciudades  n_churrerias  poblacion  rios\n",
       "M      Madrid           100    3223000   1.0\n",
       "HU     Huelva            20     144258   2.0\n",
       "SE    Sevilla            50     688711   1.0\n",
       "B   Barcelona            80    1620000   0.0\n",
       "BI     Bilbao            44     345821   0.0"
      ]
     },
     "execution_count": 91,
     "metadata": {},
     "output_type": "execute_result"
    }
   ],
   "source": [
    "df_c.fillna(method=\"ffill\")"
   ]
  },
  {
   "cell_type": "code",
   "execution_count": 92,
   "id": "6ee543de",
   "metadata": {},
   "outputs": [
    {
     "name": "stderr",
     "output_type": "stream",
     "text": [
      "/var/folders/3t/d2zbs9zj1nqgx7s3vhrpvbw40000gn/T/ipykernel_4873/3916731963.py:1: FutureWarning: DataFrame.fillna with 'method' is deprecated and will raise in a future version. Use obj.ffill() or obj.bfill() instead.\n",
      "  df_c.fillna(method=\"bfill\")\n"
     ]
    },
    {
     "data": {
      "text/html": [
       "<div>\n",
       "<style scoped>\n",
       "    .dataframe tbody tr th:only-of-type {\n",
       "        vertical-align: middle;\n",
       "    }\n",
       "\n",
       "    .dataframe tbody tr th {\n",
       "        vertical-align: top;\n",
       "    }\n",
       "\n",
       "    .dataframe thead th {\n",
       "        text-align: right;\n",
       "    }\n",
       "</style>\n",
       "<table border=\"1\" class=\"dataframe\">\n",
       "  <thead>\n",
       "    <tr style=\"text-align: right;\">\n",
       "      <th></th>\n",
       "      <th>ciudades</th>\n",
       "      <th>n_churrerias</th>\n",
       "      <th>poblacion</th>\n",
       "      <th>rios</th>\n",
       "    </tr>\n",
       "  </thead>\n",
       "  <tbody>\n",
       "    <tr>\n",
       "      <th>M</th>\n",
       "      <td>Madrid</td>\n",
       "      <td>100</td>\n",
       "      <td>3223000</td>\n",
       "      <td>1.0</td>\n",
       "    </tr>\n",
       "    <tr>\n",
       "      <th>HU</th>\n",
       "      <td>Huelva</td>\n",
       "      <td>20</td>\n",
       "      <td>144258</td>\n",
       "      <td>2.0</td>\n",
       "    </tr>\n",
       "    <tr>\n",
       "      <th>SE</th>\n",
       "      <td>Sevilla</td>\n",
       "      <td>50</td>\n",
       "      <td>688711</td>\n",
       "      <td>1.0</td>\n",
       "    </tr>\n",
       "    <tr>\n",
       "      <th>B</th>\n",
       "      <td>Barcelona</td>\n",
       "      <td>80</td>\n",
       "      <td>1620000</td>\n",
       "      <td>0.0</td>\n",
       "    </tr>\n",
       "    <tr>\n",
       "      <th>BI</th>\n",
       "      <td>Bilbao</td>\n",
       "      <td>44</td>\n",
       "      <td>345821</td>\n",
       "      <td>NaN</td>\n",
       "    </tr>\n",
       "  </tbody>\n",
       "</table>\n",
       "</div>"
      ],
      "text/plain": [
       "     ciudades  n_churrerias  poblacion  rios\n",
       "M      Madrid           100    3223000   1.0\n",
       "HU     Huelva            20     144258   2.0\n",
       "SE    Sevilla            50     688711   1.0\n",
       "B   Barcelona            80    1620000   0.0\n",
       "BI     Bilbao            44     345821   NaN"
      ]
     },
     "execution_count": 92,
     "metadata": {},
     "output_type": "execute_result"
    }
   ],
   "source": [
    "df_c.fillna(method=\"bfill\")"
   ]
  },
  {
   "cell_type": "markdown",
   "id": "771de010",
   "metadata": {},
   "source": [
    "### Concatenar DataFrames"
   ]
  },
  {
   "cell_type": "markdown",
   "id": "27d36fc5",
   "metadata": {},
   "source": [
    "#### [pd.concat](https://pandas.pydata.org/docs/reference/api/pandas.concat.html)"
   ]
  },
  {
   "cell_type": "code",
   "execution_count": 93,
   "id": "d7f8de8d",
   "metadata": {},
   "outputs": [
    {
     "data": {
      "text/html": [
       "<div>\n",
       "<style scoped>\n",
       "    .dataframe tbody tr th:only-of-type {\n",
       "        vertical-align: middle;\n",
       "    }\n",
       "\n",
       "    .dataframe tbody tr th {\n",
       "        vertical-align: top;\n",
       "    }\n",
       "\n",
       "    .dataframe thead th {\n",
       "        text-align: right;\n",
       "    }\n",
       "</style>\n",
       "<table border=\"1\" class=\"dataframe\">\n",
       "  <thead>\n",
       "    <tr style=\"text-align: right;\">\n",
       "      <th></th>\n",
       "      <th>ciudades</th>\n",
       "      <th>n_churrerias</th>\n",
       "      <th>poblacion</th>\n",
       "      <th>rios</th>\n",
       "    </tr>\n",
       "  </thead>\n",
       "  <tbody>\n",
       "    <tr>\n",
       "      <th>M</th>\n",
       "      <td>Madrid</td>\n",
       "      <td>100</td>\n",
       "      <td>3223000</td>\n",
       "      <td>1.0</td>\n",
       "    </tr>\n",
       "    <tr>\n",
       "      <th>HU</th>\n",
       "      <td>Huelva</td>\n",
       "      <td>20</td>\n",
       "      <td>144258</td>\n",
       "      <td>2.0</td>\n",
       "    </tr>\n",
       "    <tr>\n",
       "      <th>SE</th>\n",
       "      <td>Sevilla</td>\n",
       "      <td>50</td>\n",
       "      <td>688711</td>\n",
       "      <td>1.0</td>\n",
       "    </tr>\n",
       "    <tr>\n",
       "      <th>B</th>\n",
       "      <td>Barcelona</td>\n",
       "      <td>80</td>\n",
       "      <td>1620000</td>\n",
       "      <td>0.0</td>\n",
       "    </tr>\n",
       "    <tr>\n",
       "      <th>BI</th>\n",
       "      <td>Bilbao</td>\n",
       "      <td>44</td>\n",
       "      <td>345821</td>\n",
       "      <td>NaN</td>\n",
       "    </tr>\n",
       "    <tr>\n",
       "      <th>CO</th>\n",
       "      <td>Cordoba</td>\n",
       "      <td>10</td>\n",
       "      <td>325708</td>\n",
       "      <td>1.0</td>\n",
       "    </tr>\n",
       "    <tr>\n",
       "      <th>V</th>\n",
       "      <td>Valencia</td>\n",
       "      <td>67</td>\n",
       "      <td>791413</td>\n",
       "      <td>1.0</td>\n",
       "    </tr>\n",
       "  </tbody>\n",
       "</table>\n",
       "</div>"
      ],
      "text/plain": [
       "     ciudades  n_churrerias  poblacion  rios\n",
       "M      Madrid           100    3223000   1.0\n",
       "HU     Huelva            20     144258   2.0\n",
       "SE    Sevilla            50     688711   1.0\n",
       "B   Barcelona            80    1620000   0.0\n",
       "BI     Bilbao            44     345821   NaN\n",
       "CO    Cordoba            10     325708   1.0\n",
       "V    Valencia            67     791413   1.0"
      ]
     },
     "execution_count": 93,
     "metadata": {},
     "output_type": "execute_result"
    }
   ],
   "source": [
    "df_c2 = pd.DataFrame({\"ciudades\": [\"Cordoba\", \"Valencia\"], \n",
    "                      \"n_churrerias\": [10, 67],\n",
    "                      \"poblacion\": [325708, 791413],\n",
    "                      \"rios\" : [1, 1]\n",
    "                     }, index=[\"CO\", \"V\"])\n",
    "\n",
    "df_c = pd.concat([df_c, df_c2])\n",
    "df_c"
   ]
  },
  {
   "cell_type": "markdown",
   "id": "c38d412b",
   "metadata": {},
   "source": [
    "### Eliminar duplicados"
   ]
  },
  {
   "cell_type": "markdown",
   "id": "a271b29c",
   "metadata": {},
   "source": [
    "#### [pd.drop_duplicates](https://pandas.pydata.org/docs/reference/api/pandas.DataFrame.drop_duplicates.html)"
   ]
  },
  {
   "cell_type": "code",
   "execution_count": 94,
   "id": "45f9e426",
   "metadata": {},
   "outputs": [
    {
     "data": {
      "text/html": [
       "<div>\n",
       "<style scoped>\n",
       "    .dataframe tbody tr th:only-of-type {\n",
       "        vertical-align: middle;\n",
       "    }\n",
       "\n",
       "    .dataframe tbody tr th {\n",
       "        vertical-align: top;\n",
       "    }\n",
       "\n",
       "    .dataframe thead th {\n",
       "        text-align: right;\n",
       "    }\n",
       "</style>\n",
       "<table border=\"1\" class=\"dataframe\">\n",
       "  <thead>\n",
       "    <tr style=\"text-align: right;\">\n",
       "      <th></th>\n",
       "      <th>ciudades</th>\n",
       "      <th>n_churrerias</th>\n",
       "      <th>poblacion</th>\n",
       "      <th>rios</th>\n",
       "    </tr>\n",
       "  </thead>\n",
       "  <tbody>\n",
       "    <tr>\n",
       "      <th>M</th>\n",
       "      <td>Madrid</td>\n",
       "      <td>100</td>\n",
       "      <td>3223000</td>\n",
       "      <td>1.0</td>\n",
       "    </tr>\n",
       "    <tr>\n",
       "      <th>HU</th>\n",
       "      <td>Huelva</td>\n",
       "      <td>20</td>\n",
       "      <td>144258</td>\n",
       "      <td>2.0</td>\n",
       "    </tr>\n",
       "    <tr>\n",
       "      <th>SE</th>\n",
       "      <td>Sevilla</td>\n",
       "      <td>50</td>\n",
       "      <td>688711</td>\n",
       "      <td>1.0</td>\n",
       "    </tr>\n",
       "    <tr>\n",
       "      <th>B</th>\n",
       "      <td>Barcelona</td>\n",
       "      <td>80</td>\n",
       "      <td>1620000</td>\n",
       "      <td>0.0</td>\n",
       "    </tr>\n",
       "    <tr>\n",
       "      <th>BI</th>\n",
       "      <td>Bilbao</td>\n",
       "      <td>44</td>\n",
       "      <td>345821</td>\n",
       "      <td>NaN</td>\n",
       "    </tr>\n",
       "    <tr>\n",
       "      <th>CO</th>\n",
       "      <td>Cordoba</td>\n",
       "      <td>10</td>\n",
       "      <td>325708</td>\n",
       "      <td>1.0</td>\n",
       "    </tr>\n",
       "    <tr>\n",
       "      <th>V</th>\n",
       "      <td>Valencia</td>\n",
       "      <td>67</td>\n",
       "      <td>791413</td>\n",
       "      <td>1.0</td>\n",
       "    </tr>\n",
       "    <tr>\n",
       "      <th>M</th>\n",
       "      <td>Madrid</td>\n",
       "      <td>100</td>\n",
       "      <td>3223000</td>\n",
       "      <td>1.0</td>\n",
       "    </tr>\n",
       "    <tr>\n",
       "      <th>HU</th>\n",
       "      <td>Huelva</td>\n",
       "      <td>20</td>\n",
       "      <td>144258</td>\n",
       "      <td>2.0</td>\n",
       "    </tr>\n",
       "    <tr>\n",
       "      <th>SE</th>\n",
       "      <td>Sevilla</td>\n",
       "      <td>50</td>\n",
       "      <td>688711</td>\n",
       "      <td>1.0</td>\n",
       "    </tr>\n",
       "    <tr>\n",
       "      <th>B</th>\n",
       "      <td>Barcelona</td>\n",
       "      <td>80</td>\n",
       "      <td>1620000</td>\n",
       "      <td>0.0</td>\n",
       "    </tr>\n",
       "    <tr>\n",
       "      <th>BI</th>\n",
       "      <td>Bilbao</td>\n",
       "      <td>44</td>\n",
       "      <td>345821</td>\n",
       "      <td>NaN</td>\n",
       "    </tr>\n",
       "    <tr>\n",
       "      <th>CO</th>\n",
       "      <td>Cordoba</td>\n",
       "      <td>10</td>\n",
       "      <td>325708</td>\n",
       "      <td>1.0</td>\n",
       "    </tr>\n",
       "    <tr>\n",
       "      <th>V</th>\n",
       "      <td>Valencia</td>\n",
       "      <td>67</td>\n",
       "      <td>791413</td>\n",
       "      <td>1.0</td>\n",
       "    </tr>\n",
       "  </tbody>\n",
       "</table>\n",
       "</div>"
      ],
      "text/plain": [
       "     ciudades  n_churrerias  poblacion  rios\n",
       "M      Madrid           100    3223000   1.0\n",
       "HU     Huelva            20     144258   2.0\n",
       "SE    Sevilla            50     688711   1.0\n",
       "B   Barcelona            80    1620000   0.0\n",
       "BI     Bilbao            44     345821   NaN\n",
       "CO    Cordoba            10     325708   1.0\n",
       "V    Valencia            67     791413   1.0\n",
       "M      Madrid           100    3223000   1.0\n",
       "HU     Huelva            20     144258   2.0\n",
       "SE    Sevilla            50     688711   1.0\n",
       "B   Barcelona            80    1620000   0.0\n",
       "BI     Bilbao            44     345821   NaN\n",
       "CO    Cordoba            10     325708   1.0\n",
       "V    Valencia            67     791413   1.0"
      ]
     },
     "execution_count": 94,
     "metadata": {},
     "output_type": "execute_result"
    }
   ],
   "source": [
    "df_dup = pd.concat([df_c, df_c])\n",
    "df_dup"
   ]
  },
  {
   "cell_type": "code",
   "execution_count": 95,
   "id": "d48a9d74",
   "metadata": {},
   "outputs": [
    {
     "data": {
      "text/html": [
       "<div>\n",
       "<style scoped>\n",
       "    .dataframe tbody tr th:only-of-type {\n",
       "        vertical-align: middle;\n",
       "    }\n",
       "\n",
       "    .dataframe tbody tr th {\n",
       "        vertical-align: top;\n",
       "    }\n",
       "\n",
       "    .dataframe thead th {\n",
       "        text-align: right;\n",
       "    }\n",
       "</style>\n",
       "<table border=\"1\" class=\"dataframe\">\n",
       "  <thead>\n",
       "    <tr style=\"text-align: right;\">\n",
       "      <th></th>\n",
       "      <th>ciudades</th>\n",
       "      <th>n_churrerias</th>\n",
       "      <th>poblacion</th>\n",
       "      <th>rios</th>\n",
       "    </tr>\n",
       "  </thead>\n",
       "  <tbody>\n",
       "    <tr>\n",
       "      <th>M</th>\n",
       "      <td>Madrid</td>\n",
       "      <td>100</td>\n",
       "      <td>3223000</td>\n",
       "      <td>1.0</td>\n",
       "    </tr>\n",
       "    <tr>\n",
       "      <th>HU</th>\n",
       "      <td>Huelva</td>\n",
       "      <td>20</td>\n",
       "      <td>144258</td>\n",
       "      <td>2.0</td>\n",
       "    </tr>\n",
       "    <tr>\n",
       "      <th>SE</th>\n",
       "      <td>Sevilla</td>\n",
       "      <td>50</td>\n",
       "      <td>688711</td>\n",
       "      <td>1.0</td>\n",
       "    </tr>\n",
       "    <tr>\n",
       "      <th>B</th>\n",
       "      <td>Barcelona</td>\n",
       "      <td>80</td>\n",
       "      <td>1620000</td>\n",
       "      <td>0.0</td>\n",
       "    </tr>\n",
       "    <tr>\n",
       "      <th>BI</th>\n",
       "      <td>Bilbao</td>\n",
       "      <td>44</td>\n",
       "      <td>345821</td>\n",
       "      <td>NaN</td>\n",
       "    </tr>\n",
       "    <tr>\n",
       "      <th>CO</th>\n",
       "      <td>Cordoba</td>\n",
       "      <td>10</td>\n",
       "      <td>325708</td>\n",
       "      <td>1.0</td>\n",
       "    </tr>\n",
       "    <tr>\n",
       "      <th>V</th>\n",
       "      <td>Valencia</td>\n",
       "      <td>67</td>\n",
       "      <td>791413</td>\n",
       "      <td>1.0</td>\n",
       "    </tr>\n",
       "  </tbody>\n",
       "</table>\n",
       "</div>"
      ],
      "text/plain": [
       "     ciudades  n_churrerias  poblacion  rios\n",
       "M      Madrid           100    3223000   1.0\n",
       "HU     Huelva            20     144258   2.0\n",
       "SE    Sevilla            50     688711   1.0\n",
       "B   Barcelona            80    1620000   0.0\n",
       "BI     Bilbao            44     345821   NaN\n",
       "CO    Cordoba            10     325708   1.0\n",
       "V    Valencia            67     791413   1.0"
      ]
     },
     "execution_count": 95,
     "metadata": {},
     "output_type": "execute_result"
    }
   ],
   "source": [
    "df_dup.drop_duplicates()"
   ]
  },
  {
   "cell_type": "code",
   "execution_count": 96,
   "id": "87756290",
   "metadata": {},
   "outputs": [
    {
     "data": {
      "text/html": [
       "<div>\n",
       "<style scoped>\n",
       "    .dataframe tbody tr th:only-of-type {\n",
       "        vertical-align: middle;\n",
       "    }\n",
       "\n",
       "    .dataframe tbody tr th {\n",
       "        vertical-align: top;\n",
       "    }\n",
       "\n",
       "    .dataframe thead th {\n",
       "        text-align: right;\n",
       "    }\n",
       "</style>\n",
       "<table border=\"1\" class=\"dataframe\">\n",
       "  <thead>\n",
       "    <tr style=\"text-align: right;\">\n",
       "      <th></th>\n",
       "      <th>ciudades</th>\n",
       "      <th>n_churrerias</th>\n",
       "      <th>poblacion</th>\n",
       "      <th>rios</th>\n",
       "    </tr>\n",
       "  </thead>\n",
       "  <tbody>\n",
       "    <tr>\n",
       "      <th>M</th>\n",
       "      <td>Madrid</td>\n",
       "      <td>100</td>\n",
       "      <td>3223000</td>\n",
       "      <td>1.0</td>\n",
       "    </tr>\n",
       "    <tr>\n",
       "      <th>HU</th>\n",
       "      <td>Huelva</td>\n",
       "      <td>20</td>\n",
       "      <td>144258</td>\n",
       "      <td>2.0</td>\n",
       "    </tr>\n",
       "    <tr>\n",
       "      <th>B</th>\n",
       "      <td>Barcelona</td>\n",
       "      <td>80</td>\n",
       "      <td>1620000</td>\n",
       "      <td>0.0</td>\n",
       "    </tr>\n",
       "    <tr>\n",
       "      <th>BI</th>\n",
       "      <td>Bilbao</td>\n",
       "      <td>44</td>\n",
       "      <td>345821</td>\n",
       "      <td>NaN</td>\n",
       "    </tr>\n",
       "  </tbody>\n",
       "</table>\n",
       "</div>"
      ],
      "text/plain": [
       "     ciudades  n_churrerias  poblacion  rios\n",
       "M      Madrid           100    3223000   1.0\n",
       "HU     Huelva            20     144258   2.0\n",
       "B   Barcelona            80    1620000   0.0\n",
       "BI     Bilbao            44     345821   NaN"
      ]
     },
     "execution_count": 96,
     "metadata": {},
     "output_type": "execute_result"
    }
   ],
   "source": [
    "df_dup.drop_duplicates(subset=[\"rios\"])"
   ]
  },
  {
   "cell_type": "markdown",
   "id": "573ccaee",
   "metadata": {},
   "source": [
    "### Cambiar tipo de dato"
   ]
  },
  {
   "cell_type": "code",
   "execution_count": 97,
   "id": "5e6a8e04",
   "metadata": {},
   "outputs": [
    {
     "data": {
      "text/plain": [
       "M     1\n",
       "HU    2\n",
       "SE    1\n",
       "B     0\n",
       "BI    0\n",
       "CO    1\n",
       "V     1\n",
       "Name: rios, dtype: int32"
      ]
     },
     "execution_count": 97,
     "metadata": {},
     "output_type": "execute_result"
    }
   ],
   "source": [
    "df_c[\"rios\"].fillna(0).astype(\"int32\")"
   ]
  },
  {
   "cell_type": "markdown",
   "id": "26da28b9",
   "metadata": {},
   "source": [
    "### Iterar por filas"
   ]
  },
  {
   "cell_type": "code",
   "execution_count": 98,
   "id": "b5035d63",
   "metadata": {},
   "outputs": [
    {
     "name": "stdout",
     "output_type": "stream",
     "text": [
      "M \t Madrid\n",
      "HU \t Huelva\n",
      "SE \t Sevilla\n",
      "B \t Barcelona\n",
      "BI \t Bilbao\n",
      "CO \t Cordoba\n",
      "V \t Valencia\n"
     ]
    }
   ],
   "source": [
    "for idx, row in df_c.iterrows():\n",
    "    print(idx, \"\\t\", row[\"ciudades\"])"
   ]
  },
  {
   "cell_type": "markdown",
   "id": "da45a60c",
   "metadata": {},
   "source": [
    "### Trasponer DataFrame"
   ]
  },
  {
   "cell_type": "code",
   "execution_count": 99,
   "id": "09197570",
   "metadata": {},
   "outputs": [
    {
     "data": {
      "text/html": [
       "<div>\n",
       "<style scoped>\n",
       "    .dataframe tbody tr th:only-of-type {\n",
       "        vertical-align: middle;\n",
       "    }\n",
       "\n",
       "    .dataframe tbody tr th {\n",
       "        vertical-align: top;\n",
       "    }\n",
       "\n",
       "    .dataframe thead th {\n",
       "        text-align: right;\n",
       "    }\n",
       "</style>\n",
       "<table border=\"1\" class=\"dataframe\">\n",
       "  <thead>\n",
       "    <tr style=\"text-align: right;\">\n",
       "      <th></th>\n",
       "      <th>M</th>\n",
       "      <th>HU</th>\n",
       "      <th>SE</th>\n",
       "      <th>B</th>\n",
       "      <th>BI</th>\n",
       "      <th>CO</th>\n",
       "      <th>V</th>\n",
       "    </tr>\n",
       "  </thead>\n",
       "  <tbody>\n",
       "    <tr>\n",
       "      <th>ciudades</th>\n",
       "      <td>Madrid</td>\n",
       "      <td>Huelva</td>\n",
       "      <td>Sevilla</td>\n",
       "      <td>Barcelona</td>\n",
       "      <td>Bilbao</td>\n",
       "      <td>Cordoba</td>\n",
       "      <td>Valencia</td>\n",
       "    </tr>\n",
       "    <tr>\n",
       "      <th>n_churrerias</th>\n",
       "      <td>100</td>\n",
       "      <td>20</td>\n",
       "      <td>50</td>\n",
       "      <td>80</td>\n",
       "      <td>44</td>\n",
       "      <td>10</td>\n",
       "      <td>67</td>\n",
       "    </tr>\n",
       "    <tr>\n",
       "      <th>poblacion</th>\n",
       "      <td>3223000</td>\n",
       "      <td>144258</td>\n",
       "      <td>688711</td>\n",
       "      <td>1620000</td>\n",
       "      <td>345821</td>\n",
       "      <td>325708</td>\n",
       "      <td>791413</td>\n",
       "    </tr>\n",
       "    <tr>\n",
       "      <th>rios</th>\n",
       "      <td>1.0</td>\n",
       "      <td>2.0</td>\n",
       "      <td>1.0</td>\n",
       "      <td>0.0</td>\n",
       "      <td>NaN</td>\n",
       "      <td>1.0</td>\n",
       "      <td>1.0</td>\n",
       "    </tr>\n",
       "  </tbody>\n",
       "</table>\n",
       "</div>"
      ],
      "text/plain": [
       "                    M      HU       SE          B      BI       CO         V\n",
       "ciudades       Madrid  Huelva  Sevilla  Barcelona  Bilbao  Cordoba  Valencia\n",
       "n_churrerias      100      20       50         80      44       10        67\n",
       "poblacion     3223000  144258   688711    1620000  345821   325708    791413\n",
       "rios              1.0     2.0      1.0        0.0     NaN      1.0       1.0"
      ]
     },
     "execution_count": 99,
     "metadata": {},
     "output_type": "execute_result"
    }
   ],
   "source": [
    "df_c.T"
   ]
  },
  {
   "cell_type": "markdown",
   "id": "4eaa857c",
   "metadata": {},
   "source": [
    "### Sustituir valores"
   ]
  },
  {
   "cell_type": "markdown",
   "id": "450a0fdb",
   "metadata": {},
   "source": [
    "#### [pd.replace](https://pandas.pydata.org/docs/reference/api/pandas.DataFrame.replace.html)\n",
    "Sirve para sustituir un valor o conjunto de valores por otros. Acepta como entradas un valor o lista de valores y como valor de sustitución un valor o lista de valores. Puede usarse un diccionario. También puede especificarse que se sustituyan los valores por los anteriores o posteriores."
   ]
  },
  {
   "cell_type": "code",
   "execution_count": 100,
   "id": "0da22c2e",
   "metadata": {},
   "outputs": [],
   "source": [
    "df_c[\"ccaa\"] = [\"C.Madrid\", \"Andalucía\", \"Andalucía\", \"Cataluña\", \"País Vasco\", \"Andalucía\", \"C.Valenciana\"]"
   ]
  },
  {
   "cell_type": "code",
   "execution_count": 101,
   "id": "60de0ca7",
   "metadata": {},
   "outputs": [
    {
     "data": {
      "text/plain": [
       "M     13\n",
       "HU    01\n",
       "SE    01\n",
       "B     09\n",
       "BI    16\n",
       "CO    01\n",
       "V     10\n",
       "Name: ccaa, dtype: object"
      ]
     },
     "execution_count": 101,
     "metadata": {},
     "output_type": "execute_result"
    }
   ],
   "source": [
    "df_c[\"ccaa\"].replace({\"Andalucía\": \"01\", \n",
    "                      \"C.Madrid\": \"13\", \n",
    "                      \"Cataluña\": \"09\", \n",
    "                      \"C.Valenciana\": \"10\",\n",
    "                      \"País Vasco\": \"16\"})"
   ]
  },
  {
   "cell_type": "code",
   "execution_count": 102,
   "id": "4679a47d",
   "metadata": {},
   "outputs": [
    {
     "data": {
      "text/plain": [
       "M        Madrid\n",
       "HU       Huelva\n",
       "SE      Sevilla\n",
       "B     Barcelona\n",
       "BI       Bilbao\n",
       "CO      Córdoba\n",
       "V      Valencia\n",
       "Name: ciudades, dtype: object"
      ]
     },
     "execution_count": 102,
     "metadata": {},
     "output_type": "execute_result"
    }
   ],
   "source": [
    "df_c[\"ciudades\"].replace(\"Cordoba\", \"Córdoba\")"
   ]
  },
  {
   "cell_type": "code",
   "execution_count": 103,
   "id": "05aacdd7",
   "metadata": {},
   "outputs": [
    {
     "data": {
      "text/plain": [
       "M             M\n",
       "HU       Huelva\n",
       "SE      Sevilla\n",
       "B     Barcelona\n",
       "BI           BI\n",
       "CO      Cordoba\n",
       "V      Valencia\n",
       "Name: ciudades, dtype: object"
      ]
     },
     "execution_count": 103,
     "metadata": {},
     "output_type": "execute_result"
    }
   ],
   "source": [
    "df_c[\"ciudades\"].replace([\"Madrid\", \"Bilbao\"], [\"M\", \"BI\"])"
   ]
  },
  {
   "cell_type": "markdown",
   "id": "2970a36d",
   "metadata": {},
   "source": [
    "#### Sustituir valores de forma condicional"
   ]
  },
  {
   "cell_type": "code",
   "execution_count": 104,
   "id": "3252fa04",
   "metadata": {},
   "outputs": [
    {
     "data": {
      "text/html": [
       "<div>\n",
       "<style scoped>\n",
       "    .dataframe tbody tr th:only-of-type {\n",
       "        vertical-align: middle;\n",
       "    }\n",
       "\n",
       "    .dataframe tbody tr th {\n",
       "        vertical-align: top;\n",
       "    }\n",
       "\n",
       "    .dataframe thead th {\n",
       "        text-align: right;\n",
       "    }\n",
       "</style>\n",
       "<table border=\"1\" class=\"dataframe\">\n",
       "  <thead>\n",
       "    <tr style=\"text-align: right;\">\n",
       "      <th></th>\n",
       "      <th>ciudades</th>\n",
       "      <th>n_churrerias</th>\n",
       "      <th>poblacion</th>\n",
       "      <th>rios</th>\n",
       "      <th>ccaa</th>\n",
       "    </tr>\n",
       "  </thead>\n",
       "  <tbody>\n",
       "    <tr>\n",
       "      <th>M</th>\n",
       "      <td>M</td>\n",
       "      <td>100</td>\n",
       "      <td>3223000</td>\n",
       "      <td>1.0</td>\n",
       "      <td>C.Madrid</td>\n",
       "    </tr>\n",
       "    <tr>\n",
       "      <th>HU</th>\n",
       "      <td>Huelva</td>\n",
       "      <td>20</td>\n",
       "      <td>144258</td>\n",
       "      <td>2.0</td>\n",
       "      <td>Andalucía</td>\n",
       "    </tr>\n",
       "    <tr>\n",
       "      <th>SE</th>\n",
       "      <td>Sevilla</td>\n",
       "      <td>50</td>\n",
       "      <td>688711</td>\n",
       "      <td>1.0</td>\n",
       "      <td>Andalucía</td>\n",
       "    </tr>\n",
       "    <tr>\n",
       "      <th>B</th>\n",
       "      <td>Barcelona</td>\n",
       "      <td>80</td>\n",
       "      <td>1620000</td>\n",
       "      <td>0.0</td>\n",
       "      <td>Cataluña</td>\n",
       "    </tr>\n",
       "    <tr>\n",
       "      <th>BI</th>\n",
       "      <td>Bilbao</td>\n",
       "      <td>44</td>\n",
       "      <td>345821</td>\n",
       "      <td>NaN</td>\n",
       "      <td>País Vasco</td>\n",
       "    </tr>\n",
       "    <tr>\n",
       "      <th>CO</th>\n",
       "      <td>Cordoba</td>\n",
       "      <td>10</td>\n",
       "      <td>325708</td>\n",
       "      <td>1.0</td>\n",
       "      <td>Andalucía</td>\n",
       "    </tr>\n",
       "    <tr>\n",
       "      <th>V</th>\n",
       "      <td>Valencia</td>\n",
       "      <td>67</td>\n",
       "      <td>791413</td>\n",
       "      <td>1.0</td>\n",
       "      <td>C.Valenciana</td>\n",
       "    </tr>\n",
       "  </tbody>\n",
       "</table>\n",
       "</div>"
      ],
      "text/plain": [
       "     ciudades  n_churrerias  poblacion  rios          ccaa\n",
       "M           M           100    3223000   1.0      C.Madrid\n",
       "HU     Huelva            20     144258   2.0     Andalucía\n",
       "SE    Sevilla            50     688711   1.0     Andalucía\n",
       "B   Barcelona            80    1620000   0.0      Cataluña\n",
       "BI     Bilbao            44     345821   NaN    País Vasco\n",
       "CO    Cordoba            10     325708   1.0     Andalucía\n",
       "V    Valencia            67     791413   1.0  C.Valenciana"
      ]
     },
     "execution_count": 104,
     "metadata": {},
     "output_type": "execute_result"
    }
   ],
   "source": [
    "df_c.iloc[0,0] = \"M\"\n",
    "df_c"
   ]
  },
  {
   "cell_type": "code",
   "execution_count": 105,
   "id": "aa09a361",
   "metadata": {},
   "outputs": [
    {
     "data": {
      "text/html": [
       "<div>\n",
       "<style scoped>\n",
       "    .dataframe tbody tr th:only-of-type {\n",
       "        vertical-align: middle;\n",
       "    }\n",
       "\n",
       "    .dataframe tbody tr th {\n",
       "        vertical-align: top;\n",
       "    }\n",
       "\n",
       "    .dataframe thead th {\n",
       "        text-align: right;\n",
       "    }\n",
       "</style>\n",
       "<table border=\"1\" class=\"dataframe\">\n",
       "  <thead>\n",
       "    <tr style=\"text-align: right;\">\n",
       "      <th></th>\n",
       "      <th>ciudades</th>\n",
       "      <th>n_churrerias</th>\n",
       "      <th>poblacion</th>\n",
       "      <th>rios</th>\n",
       "      <th>ccaa</th>\n",
       "    </tr>\n",
       "  </thead>\n",
       "  <tbody>\n",
       "    <tr>\n",
       "      <th>M</th>\n",
       "      <td>Madrid</td>\n",
       "      <td>100</td>\n",
       "      <td>3223000</td>\n",
       "      <td>1.0</td>\n",
       "      <td>C.Madrid</td>\n",
       "    </tr>\n",
       "    <tr>\n",
       "      <th>HU</th>\n",
       "      <td>Huelva</td>\n",
       "      <td>20</td>\n",
       "      <td>144258</td>\n",
       "      <td>2.0</td>\n",
       "      <td>Andalucía</td>\n",
       "    </tr>\n",
       "    <tr>\n",
       "      <th>SE</th>\n",
       "      <td>Sevilla</td>\n",
       "      <td>50</td>\n",
       "      <td>688711</td>\n",
       "      <td>1.0</td>\n",
       "      <td>Andalucía</td>\n",
       "    </tr>\n",
       "    <tr>\n",
       "      <th>B</th>\n",
       "      <td>Barcelona</td>\n",
       "      <td>80</td>\n",
       "      <td>1620000</td>\n",
       "      <td>0.0</td>\n",
       "      <td>Cataluña</td>\n",
       "    </tr>\n",
       "    <tr>\n",
       "      <th>BI</th>\n",
       "      <td>Bilbao</td>\n",
       "      <td>44</td>\n",
       "      <td>345821</td>\n",
       "      <td>NaN</td>\n",
       "      <td>País Vasco</td>\n",
       "    </tr>\n",
       "    <tr>\n",
       "      <th>CO</th>\n",
       "      <td>Cordoba</td>\n",
       "      <td>10</td>\n",
       "      <td>325708</td>\n",
       "      <td>1.0</td>\n",
       "      <td>Andalucía</td>\n",
       "    </tr>\n",
       "    <tr>\n",
       "      <th>V</th>\n",
       "      <td>Valencia</td>\n",
       "      <td>67</td>\n",
       "      <td>791413</td>\n",
       "      <td>1.0</td>\n",
       "      <td>C.Valenciana</td>\n",
       "    </tr>\n",
       "  </tbody>\n",
       "</table>\n",
       "</div>"
      ],
      "text/plain": [
       "     ciudades  n_churrerias  poblacion  rios          ccaa\n",
       "M      Madrid           100    3223000   1.0      C.Madrid\n",
       "HU     Huelva            20     144258   2.0     Andalucía\n",
       "SE    Sevilla            50     688711   1.0     Andalucía\n",
       "B   Barcelona            80    1620000   0.0      Cataluña\n",
       "BI     Bilbao            44     345821   NaN    País Vasco\n",
       "CO    Cordoba            10     325708   1.0     Andalucía\n",
       "V    Valencia            67     791413   1.0  C.Valenciana"
      ]
     },
     "execution_count": 105,
     "metadata": {},
     "output_type": "execute_result"
    }
   ],
   "source": [
    "df_c.loc[df_c[\"ciudades\"].str.len() < 2, \"ciudades\"] = \"Madrid\"\n",
    "df_c"
   ]
  },
  {
   "cell_type": "markdown",
   "id": "dec1428c",
   "metadata": {},
   "source": [
    "### Uniendo DataFrames"
   ]
  },
  {
   "cell_type": "markdown",
   "id": "6fcb8fa2",
   "metadata": {},
   "source": [
    "#### [pd.merge](https://pandas.pydata.org/docs/reference/api/pandas.DataFrame.merge.html)\n",
    "El merge sirve para unir DataFrames o Series con nombres con un join al estilo de los lenguajes de bases de datos como SQL. El join se hace en columnas o índices y se pueden hacer left joins, right joins, productos cartesianos..."
   ]
  },
  {
   "cell_type": "code",
   "execution_count": 106,
   "id": "89ca0c79",
   "metadata": {},
   "outputs": [
    {
     "data": {
      "text/html": [
       "<div>\n",
       "<style scoped>\n",
       "    .dataframe tbody tr th:only-of-type {\n",
       "        vertical-align: middle;\n",
       "    }\n",
       "\n",
       "    .dataframe tbody tr th {\n",
       "        vertical-align: top;\n",
       "    }\n",
       "\n",
       "    .dataframe thead th {\n",
       "        text-align: right;\n",
       "    }\n",
       "</style>\n",
       "<table border=\"1\" class=\"dataframe\">\n",
       "  <thead>\n",
       "    <tr style=\"text-align: right;\">\n",
       "      <th></th>\n",
       "      <th>Código</th>\n",
       "      <th>Literal</th>\n",
       "    </tr>\n",
       "  </thead>\n",
       "  <tbody>\n",
       "    <tr>\n",
       "      <th>0</th>\n",
       "      <td>01</td>\n",
       "      <td>Andalucía</td>\n",
       "    </tr>\n",
       "    <tr>\n",
       "      <th>1</th>\n",
       "      <td>02</td>\n",
       "      <td>Aragón</td>\n",
       "    </tr>\n",
       "    <tr>\n",
       "      <th>2</th>\n",
       "      <td>03</td>\n",
       "      <td>Asturias, Principado de</td>\n",
       "    </tr>\n",
       "    <tr>\n",
       "      <th>3</th>\n",
       "      <td>04</td>\n",
       "      <td>Balears, Illes</td>\n",
       "    </tr>\n",
       "    <tr>\n",
       "      <th>4</th>\n",
       "      <td>05</td>\n",
       "      <td>Canarias</td>\n",
       "    </tr>\n",
       "    <tr>\n",
       "      <th>5</th>\n",
       "      <td>06</td>\n",
       "      <td>Cantabria</td>\n",
       "    </tr>\n",
       "    <tr>\n",
       "      <th>6</th>\n",
       "      <td>07</td>\n",
       "      <td>Castilla y León</td>\n",
       "    </tr>\n",
       "    <tr>\n",
       "      <th>7</th>\n",
       "      <td>08</td>\n",
       "      <td>Castilla - La Mancha</td>\n",
       "    </tr>\n",
       "    <tr>\n",
       "      <th>8</th>\n",
       "      <td>09</td>\n",
       "      <td>Cataluña</td>\n",
       "    </tr>\n",
       "    <tr>\n",
       "      <th>9</th>\n",
       "      <td>10</td>\n",
       "      <td>Comunitat Valenciana</td>\n",
       "    </tr>\n",
       "    <tr>\n",
       "      <th>10</th>\n",
       "      <td>11</td>\n",
       "      <td>Extremadura</td>\n",
       "    </tr>\n",
       "    <tr>\n",
       "      <th>11</th>\n",
       "      <td>12</td>\n",
       "      <td>Galicia</td>\n",
       "    </tr>\n",
       "    <tr>\n",
       "      <th>12</th>\n",
       "      <td>13</td>\n",
       "      <td>Madrid, Comunidad de</td>\n",
       "    </tr>\n",
       "    <tr>\n",
       "      <th>13</th>\n",
       "      <td>14</td>\n",
       "      <td>Murcia, Región de</td>\n",
       "    </tr>\n",
       "    <tr>\n",
       "      <th>14</th>\n",
       "      <td>15</td>\n",
       "      <td>Navarra, Comunidad Foral de</td>\n",
       "    </tr>\n",
       "    <tr>\n",
       "      <th>15</th>\n",
       "      <td>16</td>\n",
       "      <td>País Vasco</td>\n",
       "    </tr>\n",
       "    <tr>\n",
       "      <th>16</th>\n",
       "      <td>17</td>\n",
       "      <td>Rioja, La</td>\n",
       "    </tr>\n",
       "    <tr>\n",
       "      <th>17</th>\n",
       "      <td>18</td>\n",
       "      <td>Ceuta</td>\n",
       "    </tr>\n",
       "    <tr>\n",
       "      <th>18</th>\n",
       "      <td>19</td>\n",
       "      <td>Melilla</td>\n",
       "    </tr>\n",
       "  </tbody>\n",
       "</table>\n",
       "</div>"
      ],
      "text/plain": [
       "   Código                      Literal\n",
       "0      01                    Andalucía\n",
       "1      02                       Aragón\n",
       "2      03      Asturias, Principado de\n",
       "3      04               Balears, Illes\n",
       "4      05                     Canarias\n",
       "5      06                    Cantabria\n",
       "6      07              Castilla y León\n",
       "7      08         Castilla - La Mancha\n",
       "8      09                     Cataluña\n",
       "9      10         Comunitat Valenciana\n",
       "10     11                  Extremadura\n",
       "11     12                      Galicia\n",
       "12     13         Madrid, Comunidad de\n",
       "13     14            Murcia, Región de\n",
       "14     15  Navarra, Comunidad Foral de\n",
       "15     16                   País Vasco\n",
       "16     17                    Rioja, La\n",
       "17     18                        Ceuta\n",
       "18     19                      Melilla"
      ]
     },
     "execution_count": 106,
     "metadata": {},
     "output_type": "execute_result"
    }
   ],
   "source": [
    "df_ccaa = pd.read_csv(\"recursos/05_ccaa_ine_catalog.csv\", sep=\";\", dtype={\"Código\": str})\n",
    "df_ccaa"
   ]
  },
  {
   "cell_type": "code",
   "execution_count": 107,
   "id": "df7627d9",
   "metadata": {},
   "outputs": [
    {
     "data": {
      "text/html": [
       "<div>\n",
       "<style scoped>\n",
       "    .dataframe tbody tr th:only-of-type {\n",
       "        vertical-align: middle;\n",
       "    }\n",
       "\n",
       "    .dataframe tbody tr th {\n",
       "        vertical-align: top;\n",
       "    }\n",
       "\n",
       "    .dataframe thead th {\n",
       "        text-align: right;\n",
       "    }\n",
       "</style>\n",
       "<table border=\"1\" class=\"dataframe\">\n",
       "  <thead>\n",
       "    <tr style=\"text-align: right;\">\n",
       "      <th></th>\n",
       "      <th>ciudades</th>\n",
       "      <th>n_churrerias</th>\n",
       "      <th>poblacion</th>\n",
       "      <th>rios</th>\n",
       "      <th>ccaa</th>\n",
       "      <th>Código</th>\n",
       "      <th>Literal</th>\n",
       "    </tr>\n",
       "  </thead>\n",
       "  <tbody>\n",
       "    <tr>\n",
       "      <th>0</th>\n",
       "      <td>Huelva</td>\n",
       "      <td>20</td>\n",
       "      <td>144258</td>\n",
       "      <td>2.0</td>\n",
       "      <td>Andalucía</td>\n",
       "      <td>01</td>\n",
       "      <td>Andalucía</td>\n",
       "    </tr>\n",
       "    <tr>\n",
       "      <th>1</th>\n",
       "      <td>Sevilla</td>\n",
       "      <td>50</td>\n",
       "      <td>688711</td>\n",
       "      <td>1.0</td>\n",
       "      <td>Andalucía</td>\n",
       "      <td>01</td>\n",
       "      <td>Andalucía</td>\n",
       "    </tr>\n",
       "    <tr>\n",
       "      <th>2</th>\n",
       "      <td>Barcelona</td>\n",
       "      <td>80</td>\n",
       "      <td>1620000</td>\n",
       "      <td>0.0</td>\n",
       "      <td>Cataluña</td>\n",
       "      <td>09</td>\n",
       "      <td>Cataluña</td>\n",
       "    </tr>\n",
       "    <tr>\n",
       "      <th>3</th>\n",
       "      <td>Bilbao</td>\n",
       "      <td>44</td>\n",
       "      <td>345821</td>\n",
       "      <td>NaN</td>\n",
       "      <td>País Vasco</td>\n",
       "      <td>16</td>\n",
       "      <td>País Vasco</td>\n",
       "    </tr>\n",
       "    <tr>\n",
       "      <th>4</th>\n",
       "      <td>Cordoba</td>\n",
       "      <td>10</td>\n",
       "      <td>325708</td>\n",
       "      <td>1.0</td>\n",
       "      <td>Andalucía</td>\n",
       "      <td>01</td>\n",
       "      <td>Andalucía</td>\n",
       "    </tr>\n",
       "  </tbody>\n",
       "</table>\n",
       "</div>"
      ],
      "text/plain": [
       "    ciudades  n_churrerias  poblacion  rios        ccaa Código     Literal\n",
       "0     Huelva            20     144258   2.0   Andalucía     01   Andalucía\n",
       "1    Sevilla            50     688711   1.0   Andalucía     01   Andalucía\n",
       "2  Barcelona            80    1620000   0.0    Cataluña     09    Cataluña\n",
       "3     Bilbao            44     345821   NaN  País Vasco     16  País Vasco\n",
       "4    Cordoba            10     325708   1.0   Andalucía     01   Andalucía"
      ]
     },
     "execution_count": 107,
     "metadata": {},
     "output_type": "execute_result"
    }
   ],
   "source": [
    "df_c.merge(df_ccaa, how=\"inner\", left_on=\"ccaa\", right_on=\"Literal\")"
   ]
  },
  {
   "cell_type": "markdown",
   "id": "65296fd4",
   "metadata": {},
   "source": [
    "### Pivot / Unpivot tables"
   ]
  },
  {
   "cell_type": "markdown",
   "id": "e5e986d0",
   "metadata": {},
   "source": [
    "#### [pd.melt](https://pandas.pydata.org/docs/reference/api/pandas.melt.html)\n",
    "Despivota un DataFrame convirtiéndolo de formato ancho a largo"
   ]
  },
  {
   "cell_type": "code",
   "execution_count": 108,
   "id": "379cb4bd",
   "metadata": {},
   "outputs": [
    {
     "data": {
      "text/html": [
       "<div>\n",
       "<style scoped>\n",
       "    .dataframe tbody tr th:only-of-type {\n",
       "        vertical-align: middle;\n",
       "    }\n",
       "\n",
       "    .dataframe tbody tr th {\n",
       "        vertical-align: top;\n",
       "    }\n",
       "\n",
       "    .dataframe thead th {\n",
       "        text-align: right;\n",
       "    }\n",
       "</style>\n",
       "<table border=\"1\" class=\"dataframe\">\n",
       "  <thead>\n",
       "    <tr style=\"text-align: right;\">\n",
       "      <th></th>\n",
       "      <th>variable</th>\n",
       "      <th>value</th>\n",
       "    </tr>\n",
       "  </thead>\n",
       "  <tbody>\n",
       "    <tr>\n",
       "      <th>0</th>\n",
       "      <td>ciudades</td>\n",
       "      <td>Madrid</td>\n",
       "    </tr>\n",
       "    <tr>\n",
       "      <th>1</th>\n",
       "      <td>ciudades</td>\n",
       "      <td>Huelva</td>\n",
       "    </tr>\n",
       "    <tr>\n",
       "      <th>2</th>\n",
       "      <td>ciudades</td>\n",
       "      <td>Sevilla</td>\n",
       "    </tr>\n",
       "    <tr>\n",
       "      <th>3</th>\n",
       "      <td>ciudades</td>\n",
       "      <td>Barcelona</td>\n",
       "    </tr>\n",
       "    <tr>\n",
       "      <th>4</th>\n",
       "      <td>ciudades</td>\n",
       "      <td>Bilbao</td>\n",
       "    </tr>\n",
       "    <tr>\n",
       "      <th>5</th>\n",
       "      <td>ciudades</td>\n",
       "      <td>Cordoba</td>\n",
       "    </tr>\n",
       "    <tr>\n",
       "      <th>6</th>\n",
       "      <td>ciudades</td>\n",
       "      <td>Valencia</td>\n",
       "    </tr>\n",
       "    <tr>\n",
       "      <th>7</th>\n",
       "      <td>n_churrerias</td>\n",
       "      <td>100</td>\n",
       "    </tr>\n",
       "    <tr>\n",
       "      <th>8</th>\n",
       "      <td>n_churrerias</td>\n",
       "      <td>20</td>\n",
       "    </tr>\n",
       "    <tr>\n",
       "      <th>9</th>\n",
       "      <td>n_churrerias</td>\n",
       "      <td>50</td>\n",
       "    </tr>\n",
       "    <tr>\n",
       "      <th>10</th>\n",
       "      <td>n_churrerias</td>\n",
       "      <td>80</td>\n",
       "    </tr>\n",
       "    <tr>\n",
       "      <th>11</th>\n",
       "      <td>n_churrerias</td>\n",
       "      <td>44</td>\n",
       "    </tr>\n",
       "    <tr>\n",
       "      <th>12</th>\n",
       "      <td>n_churrerias</td>\n",
       "      <td>10</td>\n",
       "    </tr>\n",
       "    <tr>\n",
       "      <th>13</th>\n",
       "      <td>n_churrerias</td>\n",
       "      <td>67</td>\n",
       "    </tr>\n",
       "    <tr>\n",
       "      <th>14</th>\n",
       "      <td>poblacion</td>\n",
       "      <td>3223000</td>\n",
       "    </tr>\n",
       "    <tr>\n",
       "      <th>15</th>\n",
       "      <td>poblacion</td>\n",
       "      <td>144258</td>\n",
       "    </tr>\n",
       "    <tr>\n",
       "      <th>16</th>\n",
       "      <td>poblacion</td>\n",
       "      <td>688711</td>\n",
       "    </tr>\n",
       "    <tr>\n",
       "      <th>17</th>\n",
       "      <td>poblacion</td>\n",
       "      <td>1620000</td>\n",
       "    </tr>\n",
       "    <tr>\n",
       "      <th>18</th>\n",
       "      <td>poblacion</td>\n",
       "      <td>345821</td>\n",
       "    </tr>\n",
       "    <tr>\n",
       "      <th>19</th>\n",
       "      <td>poblacion</td>\n",
       "      <td>325708</td>\n",
       "    </tr>\n",
       "    <tr>\n",
       "      <th>20</th>\n",
       "      <td>poblacion</td>\n",
       "      <td>791413</td>\n",
       "    </tr>\n",
       "    <tr>\n",
       "      <th>21</th>\n",
       "      <td>rios</td>\n",
       "      <td>1.0</td>\n",
       "    </tr>\n",
       "    <tr>\n",
       "      <th>22</th>\n",
       "      <td>rios</td>\n",
       "      <td>2.0</td>\n",
       "    </tr>\n",
       "    <tr>\n",
       "      <th>23</th>\n",
       "      <td>rios</td>\n",
       "      <td>1.0</td>\n",
       "    </tr>\n",
       "    <tr>\n",
       "      <th>24</th>\n",
       "      <td>rios</td>\n",
       "      <td>0.0</td>\n",
       "    </tr>\n",
       "    <tr>\n",
       "      <th>25</th>\n",
       "      <td>rios</td>\n",
       "      <td>NaN</td>\n",
       "    </tr>\n",
       "    <tr>\n",
       "      <th>26</th>\n",
       "      <td>rios</td>\n",
       "      <td>1.0</td>\n",
       "    </tr>\n",
       "    <tr>\n",
       "      <th>27</th>\n",
       "      <td>rios</td>\n",
       "      <td>1.0</td>\n",
       "    </tr>\n",
       "    <tr>\n",
       "      <th>28</th>\n",
       "      <td>ccaa</td>\n",
       "      <td>C.Madrid</td>\n",
       "    </tr>\n",
       "    <tr>\n",
       "      <th>29</th>\n",
       "      <td>ccaa</td>\n",
       "      <td>Andalucía</td>\n",
       "    </tr>\n",
       "    <tr>\n",
       "      <th>30</th>\n",
       "      <td>ccaa</td>\n",
       "      <td>Andalucía</td>\n",
       "    </tr>\n",
       "    <tr>\n",
       "      <th>31</th>\n",
       "      <td>ccaa</td>\n",
       "      <td>Cataluña</td>\n",
       "    </tr>\n",
       "    <tr>\n",
       "      <th>32</th>\n",
       "      <td>ccaa</td>\n",
       "      <td>País Vasco</td>\n",
       "    </tr>\n",
       "    <tr>\n",
       "      <th>33</th>\n",
       "      <td>ccaa</td>\n",
       "      <td>Andalucía</td>\n",
       "    </tr>\n",
       "    <tr>\n",
       "      <th>34</th>\n",
       "      <td>ccaa</td>\n",
       "      <td>C.Valenciana</td>\n",
       "    </tr>\n",
       "  </tbody>\n",
       "</table>\n",
       "</div>"
      ],
      "text/plain": [
       "        variable         value\n",
       "0       ciudades        Madrid\n",
       "1       ciudades        Huelva\n",
       "2       ciudades       Sevilla\n",
       "3       ciudades     Barcelona\n",
       "4       ciudades        Bilbao\n",
       "5       ciudades       Cordoba\n",
       "6       ciudades      Valencia\n",
       "7   n_churrerias           100\n",
       "8   n_churrerias            20\n",
       "9   n_churrerias            50\n",
       "10  n_churrerias            80\n",
       "11  n_churrerias            44\n",
       "12  n_churrerias            10\n",
       "13  n_churrerias            67\n",
       "14     poblacion       3223000\n",
       "15     poblacion        144258\n",
       "16     poblacion        688711\n",
       "17     poblacion       1620000\n",
       "18     poblacion        345821\n",
       "19     poblacion        325708\n",
       "20     poblacion        791413\n",
       "21          rios           1.0\n",
       "22          rios           2.0\n",
       "23          rios           1.0\n",
       "24          rios           0.0\n",
       "25          rios           NaN\n",
       "26          rios           1.0\n",
       "27          rios           1.0\n",
       "28          ccaa      C.Madrid\n",
       "29          ccaa     Andalucía\n",
       "30          ccaa     Andalucía\n",
       "31          ccaa      Cataluña\n",
       "32          ccaa    País Vasco\n",
       "33          ccaa     Andalucía\n",
       "34          ccaa  C.Valenciana"
      ]
     },
     "execution_count": 108,
     "metadata": {},
     "output_type": "execute_result"
    }
   ],
   "source": [
    "pd.melt(df_c)"
   ]
  },
  {
   "cell_type": "code",
   "execution_count": 109,
   "id": "b8dab34d",
   "metadata": {},
   "outputs": [
    {
     "data": {
      "text/html": [
       "<div>\n",
       "<style scoped>\n",
       "    .dataframe tbody tr th:only-of-type {\n",
       "        vertical-align: middle;\n",
       "    }\n",
       "\n",
       "    .dataframe tbody tr th {\n",
       "        vertical-align: top;\n",
       "    }\n",
       "\n",
       "    .dataframe thead th {\n",
       "        text-align: right;\n",
       "    }\n",
       "</style>\n",
       "<table border=\"1\" class=\"dataframe\">\n",
       "  <thead>\n",
       "    <tr style=\"text-align: right;\">\n",
       "      <th></th>\n",
       "      <th>ccaa</th>\n",
       "      <th>ciudades</th>\n",
       "      <th>variable</th>\n",
       "      <th>value</th>\n",
       "    </tr>\n",
       "  </thead>\n",
       "  <tbody>\n",
       "    <tr>\n",
       "      <th>0</th>\n",
       "      <td>C.Madrid</td>\n",
       "      <td>Madrid</td>\n",
       "      <td>n_churrerias</td>\n",
       "      <td>100.0</td>\n",
       "    </tr>\n",
       "    <tr>\n",
       "      <th>1</th>\n",
       "      <td>Andalucía</td>\n",
       "      <td>Huelva</td>\n",
       "      <td>n_churrerias</td>\n",
       "      <td>20.0</td>\n",
       "    </tr>\n",
       "    <tr>\n",
       "      <th>2</th>\n",
       "      <td>Andalucía</td>\n",
       "      <td>Sevilla</td>\n",
       "      <td>n_churrerias</td>\n",
       "      <td>50.0</td>\n",
       "    </tr>\n",
       "    <tr>\n",
       "      <th>3</th>\n",
       "      <td>Cataluña</td>\n",
       "      <td>Barcelona</td>\n",
       "      <td>n_churrerias</td>\n",
       "      <td>80.0</td>\n",
       "    </tr>\n",
       "    <tr>\n",
       "      <th>4</th>\n",
       "      <td>País Vasco</td>\n",
       "      <td>Bilbao</td>\n",
       "      <td>n_churrerias</td>\n",
       "      <td>44.0</td>\n",
       "    </tr>\n",
       "    <tr>\n",
       "      <th>5</th>\n",
       "      <td>Andalucía</td>\n",
       "      <td>Cordoba</td>\n",
       "      <td>n_churrerias</td>\n",
       "      <td>10.0</td>\n",
       "    </tr>\n",
       "    <tr>\n",
       "      <th>6</th>\n",
       "      <td>C.Valenciana</td>\n",
       "      <td>Valencia</td>\n",
       "      <td>n_churrerias</td>\n",
       "      <td>67.0</td>\n",
       "    </tr>\n",
       "    <tr>\n",
       "      <th>7</th>\n",
       "      <td>C.Madrid</td>\n",
       "      <td>Madrid</td>\n",
       "      <td>poblacion</td>\n",
       "      <td>3223000.0</td>\n",
       "    </tr>\n",
       "    <tr>\n",
       "      <th>8</th>\n",
       "      <td>Andalucía</td>\n",
       "      <td>Huelva</td>\n",
       "      <td>poblacion</td>\n",
       "      <td>144258.0</td>\n",
       "    </tr>\n",
       "    <tr>\n",
       "      <th>9</th>\n",
       "      <td>Andalucía</td>\n",
       "      <td>Sevilla</td>\n",
       "      <td>poblacion</td>\n",
       "      <td>688711.0</td>\n",
       "    </tr>\n",
       "    <tr>\n",
       "      <th>10</th>\n",
       "      <td>Cataluña</td>\n",
       "      <td>Barcelona</td>\n",
       "      <td>poblacion</td>\n",
       "      <td>1620000.0</td>\n",
       "    </tr>\n",
       "    <tr>\n",
       "      <th>11</th>\n",
       "      <td>País Vasco</td>\n",
       "      <td>Bilbao</td>\n",
       "      <td>poblacion</td>\n",
       "      <td>345821.0</td>\n",
       "    </tr>\n",
       "    <tr>\n",
       "      <th>12</th>\n",
       "      <td>Andalucía</td>\n",
       "      <td>Cordoba</td>\n",
       "      <td>poblacion</td>\n",
       "      <td>325708.0</td>\n",
       "    </tr>\n",
       "    <tr>\n",
       "      <th>13</th>\n",
       "      <td>C.Valenciana</td>\n",
       "      <td>Valencia</td>\n",
       "      <td>poblacion</td>\n",
       "      <td>791413.0</td>\n",
       "    </tr>\n",
       "    <tr>\n",
       "      <th>14</th>\n",
       "      <td>C.Madrid</td>\n",
       "      <td>Madrid</td>\n",
       "      <td>rios</td>\n",
       "      <td>1.0</td>\n",
       "    </tr>\n",
       "    <tr>\n",
       "      <th>15</th>\n",
       "      <td>Andalucía</td>\n",
       "      <td>Huelva</td>\n",
       "      <td>rios</td>\n",
       "      <td>2.0</td>\n",
       "    </tr>\n",
       "    <tr>\n",
       "      <th>16</th>\n",
       "      <td>Andalucía</td>\n",
       "      <td>Sevilla</td>\n",
       "      <td>rios</td>\n",
       "      <td>1.0</td>\n",
       "    </tr>\n",
       "    <tr>\n",
       "      <th>17</th>\n",
       "      <td>Cataluña</td>\n",
       "      <td>Barcelona</td>\n",
       "      <td>rios</td>\n",
       "      <td>0.0</td>\n",
       "    </tr>\n",
       "    <tr>\n",
       "      <th>18</th>\n",
       "      <td>País Vasco</td>\n",
       "      <td>Bilbao</td>\n",
       "      <td>rios</td>\n",
       "      <td>NaN</td>\n",
       "    </tr>\n",
       "    <tr>\n",
       "      <th>19</th>\n",
       "      <td>Andalucía</td>\n",
       "      <td>Cordoba</td>\n",
       "      <td>rios</td>\n",
       "      <td>1.0</td>\n",
       "    </tr>\n",
       "    <tr>\n",
       "      <th>20</th>\n",
       "      <td>C.Valenciana</td>\n",
       "      <td>Valencia</td>\n",
       "      <td>rios</td>\n",
       "      <td>1.0</td>\n",
       "    </tr>\n",
       "  </tbody>\n",
       "</table>\n",
       "</div>"
      ],
      "text/plain": [
       "            ccaa   ciudades      variable      value\n",
       "0       C.Madrid     Madrid  n_churrerias      100.0\n",
       "1      Andalucía     Huelva  n_churrerias       20.0\n",
       "2      Andalucía    Sevilla  n_churrerias       50.0\n",
       "3       Cataluña  Barcelona  n_churrerias       80.0\n",
       "4     País Vasco     Bilbao  n_churrerias       44.0\n",
       "5      Andalucía    Cordoba  n_churrerias       10.0\n",
       "6   C.Valenciana   Valencia  n_churrerias       67.0\n",
       "7       C.Madrid     Madrid     poblacion  3223000.0\n",
       "8      Andalucía     Huelva     poblacion   144258.0\n",
       "9      Andalucía    Sevilla     poblacion   688711.0\n",
       "10      Cataluña  Barcelona     poblacion  1620000.0\n",
       "11    País Vasco     Bilbao     poblacion   345821.0\n",
       "12     Andalucía    Cordoba     poblacion   325708.0\n",
       "13  C.Valenciana   Valencia     poblacion   791413.0\n",
       "14      C.Madrid     Madrid          rios        1.0\n",
       "15     Andalucía     Huelva          rios        2.0\n",
       "16     Andalucía    Sevilla          rios        1.0\n",
       "17      Cataluña  Barcelona          rios        0.0\n",
       "18    País Vasco     Bilbao          rios        NaN\n",
       "19     Andalucía    Cordoba          rios        1.0\n",
       "20  C.Valenciana   Valencia          rios        1.0"
      ]
     },
     "execution_count": 109,
     "metadata": {},
     "output_type": "execute_result"
    }
   ],
   "source": [
    "pd.melt(df_c, id_vars=[\"ccaa\", \"ciudades\"])"
   ]
  },
  {
   "cell_type": "code",
   "execution_count": 110,
   "id": "b4e3758a",
   "metadata": {},
   "outputs": [
    {
     "data": {
      "text/html": [
       "<div>\n",
       "<style scoped>\n",
       "    .dataframe tbody tr th:only-of-type {\n",
       "        vertical-align: middle;\n",
       "    }\n",
       "\n",
       "    .dataframe tbody tr th {\n",
       "        vertical-align: top;\n",
       "    }\n",
       "\n",
       "    .dataframe thead th {\n",
       "        text-align: right;\n",
       "    }\n",
       "</style>\n",
       "<table border=\"1\" class=\"dataframe\">\n",
       "  <thead>\n",
       "    <tr style=\"text-align: right;\">\n",
       "      <th></th>\n",
       "      <th>ciudades</th>\n",
       "      <th>variable</th>\n",
       "      <th>value</th>\n",
       "    </tr>\n",
       "  </thead>\n",
       "  <tbody>\n",
       "    <tr>\n",
       "      <th>0</th>\n",
       "      <td>Madrid</td>\n",
       "      <td>n_churrerias</td>\n",
       "      <td>100</td>\n",
       "    </tr>\n",
       "    <tr>\n",
       "      <th>1</th>\n",
       "      <td>Huelva</td>\n",
       "      <td>n_churrerias</td>\n",
       "      <td>20</td>\n",
       "    </tr>\n",
       "    <tr>\n",
       "      <th>2</th>\n",
       "      <td>Sevilla</td>\n",
       "      <td>n_churrerias</td>\n",
       "      <td>50</td>\n",
       "    </tr>\n",
       "    <tr>\n",
       "      <th>3</th>\n",
       "      <td>Barcelona</td>\n",
       "      <td>n_churrerias</td>\n",
       "      <td>80</td>\n",
       "    </tr>\n",
       "    <tr>\n",
       "      <th>4</th>\n",
       "      <td>Bilbao</td>\n",
       "      <td>n_churrerias</td>\n",
       "      <td>44</td>\n",
       "    </tr>\n",
       "    <tr>\n",
       "      <th>5</th>\n",
       "      <td>Cordoba</td>\n",
       "      <td>n_churrerias</td>\n",
       "      <td>10</td>\n",
       "    </tr>\n",
       "    <tr>\n",
       "      <th>6</th>\n",
       "      <td>Valencia</td>\n",
       "      <td>n_churrerias</td>\n",
       "      <td>67</td>\n",
       "    </tr>\n",
       "  </tbody>\n",
       "</table>\n",
       "</div>"
      ],
      "text/plain": [
       "    ciudades      variable  value\n",
       "0     Madrid  n_churrerias    100\n",
       "1     Huelva  n_churrerias     20\n",
       "2    Sevilla  n_churrerias     50\n",
       "3  Barcelona  n_churrerias     80\n",
       "4     Bilbao  n_churrerias     44\n",
       "5    Cordoba  n_churrerias     10\n",
       "6   Valencia  n_churrerias     67"
      ]
     },
     "execution_count": 110,
     "metadata": {},
     "output_type": "execute_result"
    }
   ],
   "source": [
    "pd.melt(df_c, id_vars=[\"ciudades\"], value_vars=[\"n_churrerias\"])"
   ]
  },
  {
   "cell_type": "markdown",
   "id": "8753ef35",
   "metadata": {},
   "source": [
    "#### [pd.pivot_table](https://pandas.pydata.org/docs/reference/api/pandas.pivot_table.html)\n",
    "Crear una tabla pivotante estilo hoja de cálculo como un DataFrame.\n",
    "\n",
    "Los niveles de la tabla pivotante se almacenarán en objetos MultiIndex (índices jerárquicos) sobre el índice y las columnas del DataFrame resultante."
   ]
  },
  {
   "cell_type": "code",
   "execution_count": 111,
   "id": "345819bb",
   "metadata": {},
   "outputs": [
    {
     "data": {
      "text/html": [
       "<div>\n",
       "<style scoped>\n",
       "    .dataframe tbody tr th:only-of-type {\n",
       "        vertical-align: middle;\n",
       "    }\n",
       "\n",
       "    .dataframe tbody tr th {\n",
       "        vertical-align: top;\n",
       "    }\n",
       "\n",
       "    .dataframe thead th {\n",
       "        text-align: right;\n",
       "    }\n",
       "</style>\n",
       "<table border=\"1\" class=\"dataframe\">\n",
       "  <thead>\n",
       "    <tr style=\"text-align: right;\">\n",
       "      <th></th>\n",
       "      <th>n_churrerias</th>\n",
       "      <th>poblacion</th>\n",
       "      <th>rios</th>\n",
       "    </tr>\n",
       "    <tr>\n",
       "      <th>ccaa</th>\n",
       "      <th></th>\n",
       "      <th></th>\n",
       "      <th></th>\n",
       "    </tr>\n",
       "  </thead>\n",
       "  <tbody>\n",
       "    <tr>\n",
       "      <th>Andalucía</th>\n",
       "      <td>80</td>\n",
       "      <td>1158677</td>\n",
       "      <td>4.0</td>\n",
       "    </tr>\n",
       "    <tr>\n",
       "      <th>C.Madrid</th>\n",
       "      <td>100</td>\n",
       "      <td>3223000</td>\n",
       "      <td>1.0</td>\n",
       "    </tr>\n",
       "    <tr>\n",
       "      <th>C.Valenciana</th>\n",
       "      <td>67</td>\n",
       "      <td>791413</td>\n",
       "      <td>1.0</td>\n",
       "    </tr>\n",
       "    <tr>\n",
       "      <th>Cataluña</th>\n",
       "      <td>80</td>\n",
       "      <td>1620000</td>\n",
       "      <td>0.0</td>\n",
       "    </tr>\n",
       "    <tr>\n",
       "      <th>País Vasco</th>\n",
       "      <td>44</td>\n",
       "      <td>345821</td>\n",
       "      <td>0.0</td>\n",
       "    </tr>\n",
       "  </tbody>\n",
       "</table>\n",
       "</div>"
      ],
      "text/plain": [
       "              n_churrerias  poblacion  rios\n",
       "ccaa                                       \n",
       "Andalucía               80    1158677   4.0\n",
       "C.Madrid               100    3223000   1.0\n",
       "C.Valenciana            67     791413   1.0\n",
       "Cataluña                80    1620000   0.0\n",
       "País Vasco              44     345821   0.0"
      ]
     },
     "execution_count": 111,
     "metadata": {},
     "output_type": "execute_result"
    }
   ],
   "source": [
    "pd.pivot_table(df_c, index=\"ccaa\", values=[\"n_churrerias\", \"poblacion\", \"rios\"], aggfunc=\"sum\")"
   ]
  },
  {
   "cell_type": "markdown",
   "id": "a804e4f5",
   "metadata": {},
   "source": [
    "### Agrupar valores de un DataFrame"
   ]
  },
  {
   "cell_type": "markdown",
   "id": "c23c99b9",
   "metadata": {},
   "source": [
    "#### [df.groupby](https://pandas.pydata.org/docs/reference/api/pandas.DataFrame.groupby.html)\n",
    "Una operación groupby implica una combinación de división del objeto, aplicación de una función y combinación de los resultados. Puede utilizarse para agrupar grandes cantidades de datos y calcular operaciones sobre estos grupos.\n",
    "\n",
    "Las funciones de agregación son:\n",
    "\n",
    "* np.min : Devuelve el mínimo de una lista de valores.\n",
    "* np.max : Devuelve el máximo de una lista de valores.\n",
    "* np.count_nonzero : Devuelve el número de valores no nulos de una lista de valores.\n",
    "* np.sum : Devuelve la suma de una lista de valores.\n",
    "* np.mean : Devuelve la media de una lista de valores.\n",
    "* np.std : Devuelve la desviación típica de una lista de valores.\n"
   ]
  },
  {
   "cell_type": "code",
   "execution_count": 112,
   "id": "5756365b",
   "metadata": {},
   "outputs": [
    {
     "name": "stderr",
     "output_type": "stream",
     "text": [
      "/var/folders/3t/d2zbs9zj1nqgx7s3vhrpvbw40000gn/T/ipykernel_4873/238062761.py:1: FutureWarning: The provided callable <function sum at 0x1065322a0> is currently using DataFrameGroupBy.sum. In a future version of pandas, the provided callable will be used directly. To keep current behavior pass the string \"sum\" instead.\n",
      "  df_c[[\"ccaa\", \"n_churrerias\", \"poblacion\", \"rios\"]].groupby([\"ccaa\"]).agg(np.sum)\n"
     ]
    },
    {
     "data": {
      "text/html": [
       "<div>\n",
       "<style scoped>\n",
       "    .dataframe tbody tr th:only-of-type {\n",
       "        vertical-align: middle;\n",
       "    }\n",
       "\n",
       "    .dataframe tbody tr th {\n",
       "        vertical-align: top;\n",
       "    }\n",
       "\n",
       "    .dataframe thead th {\n",
       "        text-align: right;\n",
       "    }\n",
       "</style>\n",
       "<table border=\"1\" class=\"dataframe\">\n",
       "  <thead>\n",
       "    <tr style=\"text-align: right;\">\n",
       "      <th></th>\n",
       "      <th>n_churrerias</th>\n",
       "      <th>poblacion</th>\n",
       "      <th>rios</th>\n",
       "    </tr>\n",
       "    <tr>\n",
       "      <th>ccaa</th>\n",
       "      <th></th>\n",
       "      <th></th>\n",
       "      <th></th>\n",
       "    </tr>\n",
       "  </thead>\n",
       "  <tbody>\n",
       "    <tr>\n",
       "      <th>Andalucía</th>\n",
       "      <td>80</td>\n",
       "      <td>1158677</td>\n",
       "      <td>4.0</td>\n",
       "    </tr>\n",
       "    <tr>\n",
       "      <th>C.Madrid</th>\n",
       "      <td>100</td>\n",
       "      <td>3223000</td>\n",
       "      <td>1.0</td>\n",
       "    </tr>\n",
       "    <tr>\n",
       "      <th>C.Valenciana</th>\n",
       "      <td>67</td>\n",
       "      <td>791413</td>\n",
       "      <td>1.0</td>\n",
       "    </tr>\n",
       "    <tr>\n",
       "      <th>Cataluña</th>\n",
       "      <td>80</td>\n",
       "      <td>1620000</td>\n",
       "      <td>0.0</td>\n",
       "    </tr>\n",
       "    <tr>\n",
       "      <th>País Vasco</th>\n",
       "      <td>44</td>\n",
       "      <td>345821</td>\n",
       "      <td>0.0</td>\n",
       "    </tr>\n",
       "  </tbody>\n",
       "</table>\n",
       "</div>"
      ],
      "text/plain": [
       "              n_churrerias  poblacion  rios\n",
       "ccaa                                       \n",
       "Andalucía               80    1158677   4.0\n",
       "C.Madrid               100    3223000   1.0\n",
       "C.Valenciana            67     791413   1.0\n",
       "Cataluña                80    1620000   0.0\n",
       "País Vasco              44     345821   0.0"
      ]
     },
     "execution_count": 112,
     "metadata": {},
     "output_type": "execute_result"
    }
   ],
   "source": [
    "df_c[[\"ccaa\", \"n_churrerias\", \"poblacion\", \"rios\"]].groupby([\"ccaa\"]).agg(np.sum)"
   ]
  },
  {
   "cell_type": "markdown",
   "id": "77e8786e",
   "metadata": {},
   "source": [
    "### Timeseries\n",
    "\n",
    "Podemos trabajar con series temporales con Pandas. Vamos a utilizar un archivo excel que contiene fechas en diferentes formatos."
   ]
  },
  {
   "cell_type": "code",
   "execution_count": 113,
   "id": "e691d91d",
   "metadata": {},
   "outputs": [
    {
     "data": {
      "text/html": [
       "<div>\n",
       "<style scoped>\n",
       "    .dataframe tbody tr th:only-of-type {\n",
       "        vertical-align: middle;\n",
       "    }\n",
       "\n",
       "    .dataframe tbody tr th {\n",
       "        vertical-align: top;\n",
       "    }\n",
       "\n",
       "    .dataframe thead th {\n",
       "        text-align: right;\n",
       "    }\n",
       "</style>\n",
       "<table border=\"1\" class=\"dataframe\">\n",
       "  <thead>\n",
       "    <tr style=\"text-align: right;\">\n",
       "      <th></th>\n",
       "      <th>fecha1</th>\n",
       "      <th>fecha2</th>\n",
       "      <th>fecha3</th>\n",
       "      <th>fecha4</th>\n",
       "      <th>fecha5</th>\n",
       "      <th>dato</th>\n",
       "    </tr>\n",
       "  </thead>\n",
       "  <tbody>\n",
       "    <tr>\n",
       "      <th>0</th>\n",
       "      <td>2020-01-01</td>\n",
       "      <td>2020-01-01</td>\n",
       "      <td>2020/01/01</td>\n",
       "      <td>1577836800</td>\n",
       "      <td>43831</td>\n",
       "      <td>152.89</td>\n",
       "    </tr>\n",
       "    <tr>\n",
       "      <th>1</th>\n",
       "      <td>2020-01-02</td>\n",
       "      <td>2020-02-01</td>\n",
       "      <td>2020/01/02</td>\n",
       "      <td>1580515200</td>\n",
       "      <td>43862</td>\n",
       "      <td>152.20</td>\n",
       "    </tr>\n",
       "    <tr>\n",
       "      <th>2</th>\n",
       "      <td>2020-01-03</td>\n",
       "      <td>2020-03-01</td>\n",
       "      <td>2020/01/03</td>\n",
       "      <td>1583020800</td>\n",
       "      <td>43891</td>\n",
       "      <td>153.31</td>\n",
       "    </tr>\n",
       "    <tr>\n",
       "      <th>3</th>\n",
       "      <td>2020-01-04</td>\n",
       "      <td>2020-04-01</td>\n",
       "      <td>2020/01/04</td>\n",
       "      <td>1585699200</td>\n",
       "      <td>43922</td>\n",
       "      <td>152.10</td>\n",
       "    </tr>\n",
       "    <tr>\n",
       "      <th>4</th>\n",
       "      <td>2020-01-05</td>\n",
       "      <td>2020-05-01</td>\n",
       "      <td>2020/01/05</td>\n",
       "      <td>1588291200</td>\n",
       "      <td>43952</td>\n",
       "      <td>154.12</td>\n",
       "    </tr>\n",
       "    <tr>\n",
       "      <th>5</th>\n",
       "      <td>2020-01-06</td>\n",
       "      <td>2020-06-01</td>\n",
       "      <td>2020/01/06</td>\n",
       "      <td>1590969600</td>\n",
       "      <td>43983</td>\n",
       "      <td>158.82</td>\n",
       "    </tr>\n",
       "    <tr>\n",
       "      <th>6</th>\n",
       "      <td>2020-01-07</td>\n",
       "      <td>2020-07-01</td>\n",
       "      <td>2020/01/07</td>\n",
       "      <td>1593561600</td>\n",
       "      <td>44013</td>\n",
       "      <td>160.01</td>\n",
       "    </tr>\n",
       "    <tr>\n",
       "      <th>7</th>\n",
       "      <td>2020-01-08</td>\n",
       "      <td>2020-08-01</td>\n",
       "      <td>2020/01/08</td>\n",
       "      <td>1596240000</td>\n",
       "      <td>44044</td>\n",
       "      <td>161.11</td>\n",
       "    </tr>\n",
       "    <tr>\n",
       "      <th>8</th>\n",
       "      <td>2020-01-09</td>\n",
       "      <td>2020-09-01</td>\n",
       "      <td>2020/01/09</td>\n",
       "      <td>1598918400</td>\n",
       "      <td>44075</td>\n",
       "      <td>161.01</td>\n",
       "    </tr>\n",
       "    <tr>\n",
       "      <th>9</th>\n",
       "      <td>2020-01-10</td>\n",
       "      <td>2020-10-01</td>\n",
       "      <td>2020/01/10</td>\n",
       "      <td>1601510400</td>\n",
       "      <td>44105</td>\n",
       "      <td>150.23</td>\n",
       "    </tr>\n",
       "    <tr>\n",
       "      <th>10</th>\n",
       "      <td>2020-01-11</td>\n",
       "      <td>2020-11-01</td>\n",
       "      <td>2020/01/11</td>\n",
       "      <td>1604188800</td>\n",
       "      <td>44136</td>\n",
       "      <td>160.29</td>\n",
       "    </tr>\n",
       "    <tr>\n",
       "      <th>11</th>\n",
       "      <td>2020-01-12</td>\n",
       "      <td>2020-12-01</td>\n",
       "      <td>2020/01/12</td>\n",
       "      <td>1606780800</td>\n",
       "      <td>44166</td>\n",
       "      <td>165.34</td>\n",
       "    </tr>\n",
       "  </tbody>\n",
       "</table>\n",
       "</div>"
      ],
      "text/plain": [
       "        fecha1      fecha2      fecha3      fecha4  fecha5    dato\n",
       "0   2020-01-01  2020-01-01  2020/01/01  1577836800   43831  152.89\n",
       "1   2020-01-02  2020-02-01  2020/01/02  1580515200   43862  152.20\n",
       "2   2020-01-03  2020-03-01  2020/01/03  1583020800   43891  153.31\n",
       "3   2020-01-04  2020-04-01  2020/01/04  1585699200   43922  152.10\n",
       "4   2020-01-05  2020-05-01  2020/01/05  1588291200   43952  154.12\n",
       "5   2020-01-06  2020-06-01  2020/01/06  1590969600   43983  158.82\n",
       "6   2020-01-07  2020-07-01  2020/01/07  1593561600   44013  160.01\n",
       "7   2020-01-08  2020-08-01  2020/01/08  1596240000   44044  161.11\n",
       "8   2020-01-09  2020-09-01  2020/01/09  1598918400   44075  161.01\n",
       "9   2020-01-10  2020-10-01  2020/01/10  1601510400   44105  150.23\n",
       "10  2020-01-11  2020-11-01  2020/01/11  1604188800   44136  160.29\n",
       "11  2020-01-12  2020-12-01  2020/01/12  1606780800   44166  165.34"
      ]
     },
     "execution_count": 113,
     "metadata": {},
     "output_type": "execute_result"
    }
   ],
   "source": [
    "df_ts = pd.read_excel(\"recursos/06_ts.xlsx\")\n",
    "df_ts"
   ]
  },
  {
   "cell_type": "markdown",
   "id": "7a680ca7",
   "metadata": {},
   "source": [
    "### [pd.to_datetime](https://pandas.pydata.org/docs/reference/api/pandas.to_datetime.html)\n",
    "\n",
    "Para convertir valores en fechas utilizamos el comando to_datetime"
   ]
  },
  {
   "cell_type": "code",
   "execution_count": 114,
   "id": "4641c07b",
   "metadata": {},
   "outputs": [
    {
     "data": {
      "text/plain": [
       "Timestamp('2024-12-12 21:59:03.217000+0000', tz='UTC')"
      ]
     },
     "execution_count": 114,
     "metadata": {},
     "output_type": "execute_result"
    }
   ],
   "source": [
    "#Para leer formato UTC\n",
    "pd.to_datetime(\"2024-12-12T21:59:03.217Z\")"
   ]
  },
  {
   "cell_type": "code",
   "execution_count": 115,
   "id": "525161a8",
   "metadata": {},
   "outputs": [
    {
     "data": {
      "text/plain": [
       "0    2020-01-01\n",
       "1    2020-01-02\n",
       "2    2020-01-03\n",
       "3    2020-01-04\n",
       "4    2020-01-05\n",
       "5    2020-01-06\n",
       "6    2020-01-07\n",
       "7    2020-01-08\n",
       "8    2020-01-09\n",
       "9    2020-01-10\n",
       "10   2020-01-11\n",
       "11   2020-01-12\n",
       "Name: fecha1, dtype: datetime64[ns]"
      ]
     },
     "execution_count": 115,
     "metadata": {},
     "output_type": "execute_result"
    }
   ],
   "source": [
    "def fecha1(fecha):\n",
    "    return pd.to_datetime(fecha, format=\"%Y-%d-%m\")\n",
    "\n",
    "df_ts[\"fecha1\"] = df_ts[\"fecha1\"].apply(pd.to_datetime)\n",
    "df_ts[\"fecha1\"] = df_ts[\"fecha1\"].apply(fecha1)\n",
    "df_ts[\"fecha1\"]"
   ]
  },
  {
   "cell_type": "code",
   "execution_count": 116,
   "id": "4943f6c4",
   "metadata": {},
   "outputs": [
    {
     "data": {
      "text/plain": [
       "0    2020-01-01\n",
       "1    2020-02-01\n",
       "2    2020-03-01\n",
       "3    2020-04-01\n",
       "4    2020-05-01\n",
       "5    2020-06-01\n",
       "6    2020-07-01\n",
       "7    2020-08-01\n",
       "8    2020-09-01\n",
       "9    2020-10-01\n",
       "10   2020-11-01\n",
       "11   2020-12-01\n",
       "Name: fecha2, dtype: datetime64[ns]"
      ]
     },
     "execution_count": 116,
     "metadata": {},
     "output_type": "execute_result"
    }
   ],
   "source": [
    "df_ts[\"fecha2\"].apply(pd.to_datetime)"
   ]
  },
  {
   "cell_type": "code",
   "execution_count": 117,
   "id": "25734c3e",
   "metadata": {},
   "outputs": [
    {
     "data": {
      "text/plain": [
       "0    2020-01-01\n",
       "1    2020-01-02\n",
       "2    2020-01-03\n",
       "3    2020-01-04\n",
       "4    2020-01-05\n",
       "5    2020-01-06\n",
       "6    2020-01-07\n",
       "7    2020-01-08\n",
       "8    2020-01-09\n",
       "9    2020-01-10\n",
       "10   2020-01-11\n",
       "11   2020-01-12\n",
       "Name: fecha3, dtype: datetime64[ns]"
      ]
     },
     "execution_count": 117,
     "metadata": {},
     "output_type": "execute_result"
    }
   ],
   "source": [
    "def fecha3(fecha):\n",
    "    return pd.to_datetime(fecha, format=\"%Y/%d/%m\")\n",
    "\n",
    "df_ts[\"fecha3\"] = df_ts[\"fecha3\"].apply(pd.to_datetime)\n",
    "df_ts[\"fecha3\"] = df_ts[\"fecha3\"].apply(fecha3)\n",
    "df_ts[\"fecha3\"]"
   ]
  },
  {
   "cell_type": "code",
   "execution_count": 118,
   "id": "dc67a844",
   "metadata": {},
   "outputs": [
    {
     "data": {
      "text/plain": [
       "0    2020-01-01\n",
       "1    2020-02-01\n",
       "2    2020-03-01\n",
       "3    2020-04-01\n",
       "4    2020-05-01\n",
       "5    2020-06-01\n",
       "6    2020-07-01\n",
       "7    2020-08-01\n",
       "8    2020-09-01\n",
       "9    2020-10-01\n",
       "10   2020-11-01\n",
       "11   2020-12-01\n",
       "Name: fecha4, dtype: datetime64[ns]"
      ]
     },
     "execution_count": 118,
     "metadata": {},
     "output_type": "execute_result"
    }
   ],
   "source": [
    "df_ts['fecha4'] = pd.to_datetime(df_ts['fecha4'], unit='s')\n",
    "df_ts[\"fecha4\"]"
   ]
  },
  {
   "cell_type": "code",
   "execution_count": 119,
   "id": "7f6227f2",
   "metadata": {},
   "outputs": [
    {
     "data": {
      "text/plain": [
       "0    2020-01-01\n",
       "1    2020-02-01\n",
       "2    2020-03-01\n",
       "3    2020-04-01\n",
       "4    2020-05-01\n",
       "5    2020-06-01\n",
       "6    2020-07-01\n",
       "7    2020-08-01\n",
       "8    2020-09-01\n",
       "9    2020-10-01\n",
       "10   2020-11-01\n",
       "11   2020-12-01\n",
       "Name: fecha5, dtype: datetime64[ns]"
      ]
     },
     "execution_count": 119,
     "metadata": {},
     "output_type": "execute_result"
    }
   ],
   "source": [
    "df_ts[\"fecha5\"] = pd.to_datetime(df_ts[\"fecha5\"], unit='D', origin='1899-12-30')\n",
    "df_ts[\"fecha5\"]"
   ]
  },
  {
   "cell_type": "markdown",
   "id": "85ef1598",
   "metadata": {},
   "source": [
    "# 3. Dibujando gráficos con Pandas\n",
    "Pandas integra métodos para poder dibujar gráficos de nuestras series o DataFrames de forma fácil y sencilla. Para ello usa la librería de gráficos de python matplotlib.\n"
   ]
  },
  {
   "cell_type": "code",
   "execution_count": 120,
   "id": "5891941a",
   "metadata": {},
   "outputs": [
    {
     "data": {
      "text/plain": [
       "<Axes: >"
      ]
     },
     "execution_count": 120,
     "metadata": {},
     "output_type": "execute_result"
    },
    {
     "data": {
      "image/png": "[encoded data removed]",
      "text/plain": [
       "<Figure size 640x480 with 1 Axes>"
      ]
     },
     "metadata": {},
     "output_type": "display_data"
    }
   ],
   "source": [
    "df_c.plot.bar()"
   ]
  },
  {
   "cell_type": "code",
   "execution_count": 121,
   "id": "3380b54b",
   "metadata": {
    "scrolled": true
   },
   "outputs": [
    {
     "data": {
      "text/plain": [
       "<Axes: xlabel='poblacion', ylabel='n_churrerias'>"
      ]
     },
     "execution_count": 121,
     "metadata": {},
     "output_type": "execute_result"
    },
    {
     "data": {
      "image/png": "[encoded data removed]",
      "text/plain": [
       "<Figure size 640x480 with 1 Axes>"
      ]
     },
     "metadata": {},
     "output_type": "display_data"
    }
   ],
   "source": [
    "df_c.plot.scatter(x=\"poblacion\", y=\"n_churrerias\", c=\"Blue\")"
   ]
  },
  {
   "cell_type": "code",
   "execution_count": 122,
   "id": "0f527bc2",
   "metadata": {},
   "outputs": [
    {
     "data": {
      "text/plain": [
       "<Axes: ylabel='rios'>"
      ]
     },
     "execution_count": 122,
     "metadata": {},
     "output_type": "execute_result"
    },
    {
     "data": {
      "image/png": "[encoded data removed]",
      "text/plain": [
       "<Figure size 640x480 with 1 Axes>"
      ]
     },
     "metadata": {},
     "output_type": "display_data"
    }
   ],
   "source": [
    "df_c.plot.pie(y=\"rios\")"
   ]
  }
 ],
 "metadata": {
  "kernelspec": {
   "display_name": "venv",
   "language": "python",
   "name": "python3"
  },
  "language_info": {
   "codemirror_mode": {
    "name": "ipython",
    "version": 3
   },
   "file_extension": ".py",
   "mimetype": "text/x-python",
   "name": "python",
   "nbconvert_exporter": "python",
   "pygments_lexer": "ipython3",
   "version": "3.12.7"
  }
 },
 "nbformat": 4,
 "nbformat_minor": 5
}

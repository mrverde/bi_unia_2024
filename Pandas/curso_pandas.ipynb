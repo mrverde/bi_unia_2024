{
 "cells": [
  {
   "cell_type": "markdown",
   "id": "2b18fb17",
   "metadata": {},
   "source": [
    "# 1. ¿Qué es Pandas?\n",
    "\n",
    "Pandas es una librería del lenguaje de programación Python que sirve para la manipulación y el análisis de datos. El nombre proviene de \"panel data\".\n",
    "\n",
    "Pandas tiene numerosas funcionalidades que la hacen una de las mejores opciones para trabajar con datos, entre otras:\n",
    "\n",
    "* Métodos integrados para la manipulación rápida de datos.\n",
    "* Gestión de datos incompletos\n",
    "* Segmentación\n",
    "* Inserción y eliminación de columnas\n",
    "* Mezcla y unión de datos\n",
    "* Series temporales\n",
    "\n",
    "La web del proyecto donde podremos encontrar la documentación es https://pandas.pydata.org/"
   ]
  },
  {
   "cell_type": "code",
   "execution_count": 1,
   "id": "f4b9adec",
   "metadata": {},
   "outputs": [],
   "source": [
    "# Para importar pandas en un proyecto\n",
    "\n"
   ]
  },
  {
   "cell_type": "code",
   "execution_count": 2,
   "id": "cda8557c",
   "metadata": {},
   "outputs": [],
   "source": [
    "# Para importar numpy en un proyecto\n",
    "\n"
   ]
  },
  {
   "cell_type": "markdown",
   "id": "3fe1fb72",
   "metadata": {},
   "source": [
    "# 2. Tipos de datos en Pandas\n",
    "\n",
    "Existen dos tipos de datos dentro de pandas, las series y los dataframes.\n",
    "\n",
    "## [Series](https://pandas.pydata.org/docs/reference/api/pandas.Series.html)\n",
    "\n",
    "Una serie en Pandas es un array unidimensional. Contiene cualquier tipo de dato soportado en Python y utiliza etiquetas para localizar cada valor de datos para su recuperación. Estas etiquetas forman el índice, y pueden ser incluir cadenas o números enteros. Una Serie es la principal estructura de datos en el framework de pandas para almacenar datos unidimensionales."
   ]
  },
  {
   "cell_type": "code",
   "execution_count": 3,
   "id": "9a1cc8f0",
   "metadata": {},
   "outputs": [],
   "source": [
    "# Para crear una serie usamos\n",
    "\n",
    "# Crear serie desde un diccionario\n"
   ]
  },
  {
   "cell_type": "code",
   "execution_count": 4,
   "id": "f7ad6274",
   "metadata": {},
   "outputs": [],
   "source": [
    "# Crear serie desde listas\n"
   ]
  },
  {
   "cell_type": "code",
   "execution_count": null,
   "id": "aba84d64",
   "metadata": {},
   "outputs": [],
   "source": []
  },
  {
   "cell_type": "markdown",
   "id": "eb918d8c",
   "metadata": {},
   "source": [
    "### Atributos de la serie"
   ]
  },
  {
   "cell_type": "code",
   "execution_count": 5,
   "id": "81a53338",
   "metadata": {},
   "outputs": [],
   "source": [
    "# Tipo de dato\n"
   ]
  },
  {
   "cell_type": "code",
   "execution_count": 6,
   "id": "a1ec4626",
   "metadata": {},
   "outputs": [],
   "source": [
    "# Tamaño\n"
   ]
  },
  {
   "cell_type": "code",
   "execution_count": 7,
   "id": "87ff23b3",
   "metadata": {},
   "outputs": [],
   "source": [
    "# Índices\n"
   ]
  },
  {
   "cell_type": "markdown",
   "id": "63e02336",
   "metadata": {},
   "source": [
    "### Acceso a los datos de la serie"
   ]
  },
  {
   "cell_type": "code",
   "execution_count": 8,
   "id": "cf2271a8",
   "metadata": {},
   "outputs": [],
   "source": [
    "# Por número entero\n"
   ]
  },
  {
   "cell_type": "code",
   "execution_count": 9,
   "id": "5348802b",
   "metadata": {},
   "outputs": [],
   "source": [
    "# Varios valores por número entero\n"
   ]
  },
  {
   "cell_type": "code",
   "execution_count": 10,
   "id": "4afc5fe3",
   "metadata": {},
   "outputs": [],
   "source": [
    "# Por valor del índice\n"
   ]
  },
  {
   "cell_type": "code",
   "execution_count": 11,
   "id": "2f413602",
   "metadata": {},
   "outputs": [],
   "source": [
    "# Varios valores por valor del índice\n"
   ]
  },
  {
   "cell_type": "markdown",
   "id": "31d010d4",
   "metadata": {},
   "source": [
    "### Estadísticos descriptivos de una serie"
   ]
  },
  {
   "cell_type": "code",
   "execution_count": 12,
   "id": "760d4c50",
   "metadata": {},
   "outputs": [],
   "source": [
    "# Número de elementos que no son NaN\n"
   ]
  },
  {
   "cell_type": "code",
   "execution_count": 13,
   "id": "0e130aa7",
   "metadata": {},
   "outputs": [],
   "source": [
    "# Suma de los datos (datos numéricos) o concatenación (cadenas)\n"
   ]
  },
  {
   "cell_type": "code",
   "execution_count": 14,
   "id": "23b62e76",
   "metadata": {},
   "outputs": [],
   "source": [
    "# Suma acumulativa (sólo datos numéricos)\n"
   ]
  },
  {
   "cell_type": "code",
   "execution_count": 15,
   "id": "1294f9ef",
   "metadata": {},
   "outputs": [],
   "source": [
    "# Obtener frecuencia de cada valor de la serie\n"
   ]
  },
  {
   "cell_type": "code",
   "execution_count": 16,
   "id": "2df2b8d3",
   "metadata": {},
   "outputs": [],
   "source": [
    "# Obtener el menor valor de los datos de la serie (sólo datos numéricos)\n"
   ]
  },
  {
   "cell_type": "code",
   "execution_count": 17,
   "id": "f4759936",
   "metadata": {},
   "outputs": [],
   "source": [
    "# Obtener el mayor valor de los datos de la serie (sólo datos numéricos)\n"
   ]
  },
  {
   "cell_type": "code",
   "execution_count": 18,
   "id": "751aa752",
   "metadata": {},
   "outputs": [],
   "source": [
    "# Obtener la media del valor de los datos de la serie (sólo datos numéricos)\n"
   ]
  },
  {
   "cell_type": "code",
   "execution_count": 19,
   "id": "9173d1aa",
   "metadata": {},
   "outputs": [],
   "source": [
    "# Obtener la desviación típica de lso datos de la serie (sólo datos numéricos)\n"
   ]
  },
  {
   "cell_type": "code",
   "execution_count": 20,
   "id": "c5d2986c",
   "metadata": {},
   "outputs": [],
   "source": [
    "# Obtener estadísticos descriptivos de la serie\n"
   ]
  },
  {
   "cell_type": "markdown",
   "id": "24e55385",
   "metadata": {},
   "source": [
    "### Operadores\n",
    "\n",
    "Los operadores de python tanto aritméticos (+, -, *, /, **, % , y //) como relacionales (>, <, ==, >=, <= y !=) pueden usarse para hacer operaciones con una serie"
   ]
  },
  {
   "cell_type": "code",
   "execution_count": null,
   "id": "55096ed1",
   "metadata": {},
   "outputs": [],
   "source": []
  },
  {
   "cell_type": "code",
   "execution_count": null,
   "id": "aeb90217",
   "metadata": {},
   "outputs": [],
   "source": []
  },
  {
   "cell_type": "code",
   "execution_count": null,
   "id": "64a499cf",
   "metadata": {},
   "outputs": [],
   "source": []
  },
  {
   "cell_type": "code",
   "execution_count": null,
   "id": "071ad776",
   "metadata": {},
   "outputs": [],
   "source": []
  },
  {
   "cell_type": "code",
   "execution_count": null,
   "id": "0352c9d6",
   "metadata": {},
   "outputs": [],
   "source": []
  },
  {
   "cell_type": "code",
   "execution_count": null,
   "id": "a2072733",
   "metadata": {},
   "outputs": [],
   "source": []
  },
  {
   "cell_type": "markdown",
   "id": "7cbca1a5",
   "metadata": {},
   "source": [
    "### Funciones\n",
    "Se pueden aplicar funciones a cada elemento de la serie utilizando el método apply"
   ]
  },
  {
   "cell_type": "code",
   "execution_count": null,
   "id": "4e3a34b9",
   "metadata": {},
   "outputs": [],
   "source": []
  },
  {
   "cell_type": "markdown",
   "id": "12b0dbb7",
   "metadata": {},
   "source": [
    "También podremos aplicar nuestras propias funciones"
   ]
  },
  {
   "cell_type": "code",
   "execution_count": null,
   "id": "956d0478",
   "metadata": {},
   "outputs": [],
   "source": []
  },
  {
   "cell_type": "code",
   "execution_count": null,
   "id": "83bef919",
   "metadata": {},
   "outputs": [],
   "source": []
  },
  {
   "cell_type": "markdown",
   "id": "122ffa12",
   "metadata": {},
   "source": [
    "### Filtrar series\n",
    "\n",
    "Podemos filtrar los valores de la serie y quedarnos con aquellos que cumplen una determinada condición"
   ]
  },
  {
   "cell_type": "code",
   "execution_count": null,
   "id": "c52110cd",
   "metadata": {},
   "outputs": [],
   "source": []
  },
  {
   "cell_type": "markdown",
   "id": "05603686",
   "metadata": {},
   "source": [
    "### Eliminar NaNs"
   ]
  },
  {
   "cell_type": "code",
   "execution_count": null,
   "id": "9c410fc8",
   "metadata": {},
   "outputs": [],
   "source": []
  },
  {
   "cell_type": "markdown",
   "id": "26f1b094",
   "metadata": {},
   "source": [
    "## [Dataframe](https://pandas.pydata.org/docs/reference/api/pandas.DataFrame.html)\n",
    "\n",
    "Un Dataframe es una estructura de datos bidimensional etiquetada con columnas que pueden ser de tipos diferentes. Es parecido a una hoja de cálculo o una tabla SQL. Cada una de las columnas es una Serie. Es el objeto de la librería pandas más utilizado.\n",
    "\n",
    "![Estructura Dataframe](recursos/01_dataframe.png)\n",
    "\n",
    "[Gráfico extraído del curso de pandas de Juan Barrios](https://www.juanbarrios.com/curso-de-pandas-completo-desde-cero/)"
   ]
  },
  {
   "cell_type": "markdown",
   "id": "ad6cabf6",
   "metadata": {},
   "source": [
    "### Creación de Dataframes\n",
    "\n",
    "Un Dataframe puede crearse a partir de diferentes elementos"
   ]
  },
  {
   "cell_type": "code",
   "execution_count": 21,
   "id": "76fb5026",
   "metadata": {},
   "outputs": [],
   "source": [
    "# Para crear un dataframe usamos\n",
    "\n",
    "# Crear DataFrame desde un diccionario de listas\n"
   ]
  },
  {
   "cell_type": "code",
   "execution_count": 22,
   "id": "339d2c91",
   "metadata": {},
   "outputs": [],
   "source": [
    "# Crear DataFrame desde una lista de listas\n"
   ]
  },
  {
   "cell_type": "code",
   "execution_count": 23,
   "id": "46b8b26e",
   "metadata": {},
   "outputs": [],
   "source": [
    "# Crear DataFrame desde una lista de diccionarios\n"
   ]
  },
  {
   "cell_type": "markdown",
   "id": "9e4bc043",
   "metadata": {},
   "source": [
    "#### [Crear DataFrame a partir de un fichero CSV](https://pandas.pydata.org/docs/reference/api/pandas.read_csv.html)"
   ]
  },
  {
   "cell_type": "code",
   "execution_count": null,
   "id": "41538cf6",
   "metadata": {},
   "outputs": [],
   "source": []
  },
  {
   "cell_type": "markdown",
   "id": "ab723d96",
   "metadata": {},
   "source": [
    "#### [Crear DataFrame a partir de un fichero Excel](https://pandas.pydata.org/docs/reference/api/pandas.read_excel.html)"
   ]
  },
  {
   "cell_type": "code",
   "execution_count": null,
   "id": "afa38e0f",
   "metadata": {},
   "outputs": [],
   "source": []
  },
  {
   "cell_type": "markdown",
   "id": "c46a2195",
   "metadata": {},
   "source": [
    "#### [Crear DataFrame a partir de un fichero JSON](https://pandas.pydata.org/docs/reference/api/pandas.read_json.html)"
   ]
  },
  {
   "cell_type": "code",
   "execution_count": null,
   "id": "bf3b370a",
   "metadata": {},
   "outputs": [],
   "source": []
  },
  {
   "cell_type": "markdown",
   "id": "40227296",
   "metadata": {},
   "source": [
    "#### Exportar ficheros"
   ]
  },
  {
   "cell_type": "markdown",
   "id": "bc0e239f",
   "metadata": {},
   "source": [
    "#### [Exportar a CSV](https://pandas.pydata.org/docs/reference/api/pandas.DataFrame.to_csv.html)"
   ]
  },
  {
   "cell_type": "code",
   "execution_count": null,
   "id": "c202522c",
   "metadata": {},
   "outputs": [],
   "source": []
  },
  {
   "cell_type": "markdown",
   "id": "5a6b0e7a",
   "metadata": {},
   "source": [
    "#### [Exportar a Excel](https://pandas.pydata.org/docs/reference/api/pandas.DataFrame.to_excel.html)"
   ]
  },
  {
   "cell_type": "code",
   "execution_count": null,
   "id": "e450dc6a",
   "metadata": {},
   "outputs": [],
   "source": []
  },
  {
   "cell_type": "markdown",
   "id": "09592eb2",
   "metadata": {},
   "source": [
    "#### [Exportar a JSON](https://pandas.pydata.org/docs/reference/api/pandas.DataFrame.to_json.html)"
   ]
  },
  {
   "cell_type": "code",
   "execution_count": null,
   "id": "4cadf884",
   "metadata": {},
   "outputs": [],
   "source": []
  },
  {
   "cell_type": "markdown",
   "id": "95b97dbe",
   "metadata": {},
   "source": [
    "### Atributos del DataFrame"
   ]
  },
  {
   "cell_type": "code",
   "execution_count": 24,
   "id": "bb3771b1",
   "metadata": {},
   "outputs": [],
   "source": [
    "# Información del DataFrame\n"
   ]
  },
  {
   "cell_type": "code",
   "execution_count": 25,
   "id": "784349a7",
   "metadata": {},
   "outputs": [],
   "source": [
    "# Número de filas y columnas\n"
   ]
  },
  {
   "cell_type": "code",
   "execution_count": 26,
   "id": "5ff463f2",
   "metadata": {},
   "outputs": [],
   "source": [
    "# Número de elementos\n"
   ]
  },
  {
   "cell_type": "code",
   "execution_count": 27,
   "id": "5e3aae94",
   "metadata": {},
   "outputs": [],
   "source": [
    "# Nombre de las columnas\n"
   ]
  },
  {
   "cell_type": "code",
   "execution_count": 28,
   "id": "16b1cb9e",
   "metadata": {},
   "outputs": [],
   "source": [
    "# Nombre de las filas\n"
   ]
  },
  {
   "cell_type": "code",
   "execution_count": 29,
   "id": "7f1f47dd",
   "metadata": {},
   "outputs": [],
   "source": [
    "# Tipos de las columnas\n"
   ]
  },
  {
   "cell_type": "code",
   "execution_count": 30,
   "id": "b5f6ac04",
   "metadata": {},
   "outputs": [],
   "source": [
    "# Devuelve las n primeras filas\n"
   ]
  },
  {
   "cell_type": "code",
   "execution_count": 31,
   "id": "4333f866",
   "metadata": {},
   "outputs": [],
   "source": [
    "# Devuelve las n últimas filas\n"
   ]
  },
  {
   "cell_type": "markdown",
   "id": "54c6a2e9",
   "metadata": {},
   "source": [
    "### Renombrar filas y columnas"
   ]
  },
  {
   "cell_type": "markdown",
   "id": "142e36ce",
   "metadata": {},
   "source": [
    "#### [pd.rename](https://pandas.pydata.org/docs/reference/api/pandas.DataFrame.rename.html)\n",
    "\n",
    "Podemos usar un diccionario y el método de pandas rename para cambiar el nombre de las filas o columnas"
   ]
  },
  {
   "cell_type": "code",
   "execution_count": null,
   "id": "6cd8b6df",
   "metadata": {},
   "outputs": [],
   "source": []
  },
  {
   "cell_type": "code",
   "execution_count": null,
   "id": "1b6fc5fd",
   "metadata": {},
   "outputs": [],
   "source": []
  },
  {
   "cell_type": "code",
   "execution_count": null,
   "id": "4d3284d0",
   "metadata": {},
   "outputs": [],
   "source": []
  },
  {
   "cell_type": "markdown",
   "id": "e89cb242",
   "metadata": {},
   "source": [
    "#### Utilizando una lista para renombrar columnas e indices"
   ]
  },
  {
   "cell_type": "code",
   "execution_count": null,
   "id": "87316d47",
   "metadata": {},
   "outputs": [],
   "source": []
  },
  {
   "cell_type": "code",
   "execution_count": null,
   "id": "a6346db5",
   "metadata": {},
   "outputs": [],
   "source": []
  },
  {
   "cell_type": "markdown",
   "id": "35578eb9",
   "metadata": {},
   "source": [
    "### Acceder a los elementos de un DataFrame"
   ]
  },
  {
   "cell_type": "markdown",
   "id": "1d0f790e",
   "metadata": {},
   "source": [
    "#### Por número entero"
   ]
  },
  {
   "cell_type": "code",
   "execution_count": null,
   "id": "10c16c2b",
   "metadata": {},
   "outputs": [],
   "source": []
  },
  {
   "cell_type": "code",
   "execution_count": null,
   "id": "cc6ffb38",
   "metadata": {},
   "outputs": [],
   "source": []
  },
  {
   "cell_type": "code",
   "execution_count": null,
   "id": "f33573cb",
   "metadata": {},
   "outputs": [],
   "source": []
  },
  {
   "cell_type": "markdown",
   "id": "f42c2215",
   "metadata": {},
   "source": [
    "#### Por nombres"
   ]
  },
  {
   "cell_type": "code",
   "execution_count": null,
   "id": "03f9f199",
   "metadata": {},
   "outputs": [],
   "source": []
  },
  {
   "cell_type": "code",
   "execution_count": null,
   "id": "2fa96a2d",
   "metadata": {},
   "outputs": [],
   "source": []
  },
  {
   "cell_type": "markdown",
   "id": "0d305397",
   "metadata": {},
   "source": [
    "### Añadir columnas"
   ]
  },
  {
   "cell_type": "code",
   "execution_count": null,
   "id": "6ee3c28e",
   "metadata": {},
   "outputs": [],
   "source": []
  },
  {
   "cell_type": "markdown",
   "id": "6dc16d4d",
   "metadata": {},
   "source": [
    "### Operaciones con columnas\n",
    "Como las columnas de un DataFrame son series, podremos aplicar las mismas operaciones que con las series"
   ]
  },
  {
   "cell_type": "code",
   "execution_count": null,
   "id": "140f04b3",
   "metadata": {},
   "outputs": [],
   "source": []
  },
  {
   "cell_type": "code",
   "execution_count": null,
   "id": "3c3ccb86",
   "metadata": {},
   "outputs": [],
   "source": []
  },
  {
   "cell_type": "markdown",
   "id": "bc89ad90",
   "metadata": {},
   "source": [
    "También podremos hacer operaciones con varias columnas"
   ]
  },
  {
   "cell_type": "code",
   "execution_count": 32,
   "id": "69572516",
   "metadata": {},
   "outputs": [],
   "source": [
    "# Obtener churrerías per cápita\n"
   ]
  },
  {
   "cell_type": "markdown",
   "id": "14e84e54",
   "metadata": {},
   "source": [
    "### Funciones\n",
    "Se pueden aplicar funciones a un DataFrame usando las funciones apply y applymap"
   ]
  },
  {
   "cell_type": "markdown",
   "id": "2c524bb1",
   "metadata": {},
   "source": [
    "#### [pd.apply](https://pandas.pydata.org/docs/reference/api/pandas.DataFrame.apply.html)\n",
    "\n",
    "Para aplicar una función a un DataFrame. Tienen varias opciones, como por ejemplo si se quiere aplicar por filas o columnas..."
   ]
  },
  {
   "cell_type": "code",
   "execution_count": null,
   "id": "01fa2fa8",
   "metadata": {},
   "outputs": [],
   "source": []
  },
  {
   "cell_type": "markdown",
   "id": "3a24a666",
   "metadata": {},
   "source": [
    "#### [pd.applymap](https://pandas.pydata.org/docs/reference/api/pandas.DataFrame.apply.html)\n",
    "Para aplicar una función a un DataFrame entero."
   ]
  },
  {
   "cell_type": "code",
   "execution_count": null,
   "id": "1a681a4e",
   "metadata": {},
   "outputs": [],
   "source": []
  },
  {
   "cell_type": "markdown",
   "id": "eed6b71e",
   "metadata": {},
   "source": [
    "### Estadísticos descriptivos de un DataFrame"
   ]
  },
  {
   "cell_type": "code",
   "execution_count": 33,
   "id": "5481ca90",
   "metadata": {},
   "outputs": [],
   "source": [
    "# Número de elementos del df que no son NaN\n"
   ]
  },
  {
   "cell_type": "code",
   "execution_count": 34,
   "id": "e445611f",
   "metadata": {
    "scrolled": true
   },
   "outputs": [],
   "source": [
    "# Suma de los datos del df\n"
   ]
  },
  {
   "cell_type": "code",
   "execution_count": 35,
   "id": "3051d0dd",
   "metadata": {},
   "outputs": [],
   "source": [
    "# Suma acumulativa del df\n"
   ]
  },
  {
   "cell_type": "code",
   "execution_count": 36,
   "id": "f1f39f8f",
   "metadata": {},
   "outputs": [],
   "source": [
    "# Obtener frecuencia de cada valor del df\n"
   ]
  },
  {
   "cell_type": "code",
   "execution_count": 37,
   "id": "1a524e92",
   "metadata": {},
   "outputs": [],
   "source": [
    "# Obtener el menor valor de los datos del df\n"
   ]
  },
  {
   "cell_type": "code",
   "execution_count": 38,
   "id": "43be4ac8",
   "metadata": {},
   "outputs": [],
   "source": [
    "# Obtener el mayor valor de los datos del df\n"
   ]
  },
  {
   "cell_type": "code",
   "execution_count": 39,
   "id": "1345c4ed",
   "metadata": {},
   "outputs": [],
   "source": [
    "# Obtener la media del valor de los datos numéricos del df\n"
   ]
  },
  {
   "cell_type": "code",
   "execution_count": 40,
   "id": "b33b5263",
   "metadata": {},
   "outputs": [],
   "source": [
    "# Obtener la desviación típica de los datos númericos del df\n"
   ]
  },
  {
   "cell_type": "code",
   "execution_count": 41,
   "id": "2fd7d43d",
   "metadata": {},
   "outputs": [],
   "source": [
    "# Obtener estadísticos descriptivos del df\n"
   ]
  },
  {
   "cell_type": "markdown",
   "id": "cf8e3ba0",
   "metadata": {},
   "source": [
    "### Eliminar columnas"
   ]
  },
  {
   "cell_type": "code",
   "execution_count": null,
   "id": "4444ef3b",
   "metadata": {},
   "outputs": [],
   "source": []
  },
  {
   "cell_type": "code",
   "execution_count": null,
   "id": "742d78bb",
   "metadata": {},
   "outputs": [],
   "source": []
  },
  {
   "cell_type": "code",
   "execution_count": null,
   "id": "eb5cb1b2",
   "metadata": {},
   "outputs": [],
   "source": []
  },
  {
   "cell_type": "markdown",
   "id": "7499abb6",
   "metadata": {},
   "source": [
    "### Eliminar filas/Columnas "
   ]
  },
  {
   "cell_type": "markdown",
   "id": "928c08d7",
   "metadata": {},
   "source": [
    "#### [pd.drop](https://pandas.pydata.org/docs/reference/api/pandas.DataFrame.drop.html)"
   ]
  },
  {
   "cell_type": "code",
   "execution_count": null,
   "id": "4005d651",
   "metadata": {},
   "outputs": [],
   "source": []
  },
  {
   "cell_type": "code",
   "execution_count": null,
   "id": "11edcd64",
   "metadata": {},
   "outputs": [],
   "source": []
  },
  {
   "cell_type": "markdown",
   "id": "d0dcdc40",
   "metadata": {},
   "source": [
    "### Filtrar filas\n",
    "\n",
    "Para filtrar filas se le pasa una lista o serie con booleanos al dataframe. También pueden ponerse las condiciones directamente y poner varias condiciones. En este último caso cada condición hay que ponerla entre corchetes."
   ]
  },
  {
   "cell_type": "code",
   "execution_count": null,
   "id": "6fa548c0",
   "metadata": {},
   "outputs": [],
   "source": []
  },
  {
   "cell_type": "code",
   "execution_count": null,
   "id": "201a1c4c",
   "metadata": {},
   "outputs": [],
   "source": []
  },
  {
   "cell_type": "code",
   "execution_count": null,
   "id": "3f66ecd4",
   "metadata": {},
   "outputs": [],
   "source": []
  },
  {
   "cell_type": "markdown",
   "id": "1d542133",
   "metadata": {},
   "source": [
    "### Ordenar filas"
   ]
  },
  {
   "cell_type": "markdown",
   "id": "4e3a53a5",
   "metadata": {},
   "source": [
    "#### [pd.sort_values](https://pandas.pydata.org/docs/reference/api/pandas.DataFrame.sort_values.html)\n",
    "Sirve para ordenar los valores del df en función de una columna"
   ]
  },
  {
   "cell_type": "code",
   "execution_count": null,
   "id": "97b9e9b2",
   "metadata": {},
   "outputs": [],
   "source": []
  },
  {
   "cell_type": "code",
   "execution_count": null,
   "id": "48931997",
   "metadata": {},
   "outputs": [],
   "source": []
  },
  {
   "cell_type": "markdown",
   "id": "dcaa511f",
   "metadata": {},
   "source": [
    "#### [pd.sort_index](https://pandas.pydata.org/docs/reference/api/pandas.DataFrame.sort_index.html)\n",
    "Sirve para ordenar los valores del df en función del índice"
   ]
  },
  {
   "cell_type": "code",
   "execution_count": null,
   "id": "a6241e07",
   "metadata": {},
   "outputs": [],
   "source": []
  },
  {
   "cell_type": "markdown",
   "id": "d70894ee",
   "metadata": {},
   "source": [
    "### Usar una lista para Ordenar/Eliminar columnas \n",
    "\n",
    "Puede ordenarse o eliminarse las columnas de un df pasándole una lista con los nombres de las columnas "
   ]
  },
  {
   "cell_type": "code",
   "execution_count": null,
   "id": "cb37cfe7",
   "metadata": {},
   "outputs": [],
   "source": []
  },
  {
   "cell_type": "markdown",
   "id": "568bf26c",
   "metadata": {},
   "source": [
    "### Eliminar NaNs"
   ]
  },
  {
   "cell_type": "markdown",
   "id": "5360e29a",
   "metadata": {},
   "source": [
    "#### [pd.dropna](https://pandas.pydata.org/docs/reference/api/pandas.DataFrame.dropna.html)"
   ]
  },
  {
   "cell_type": "code",
   "execution_count": null,
   "id": "4521e75d",
   "metadata": {},
   "outputs": [],
   "source": []
  },
  {
   "cell_type": "code",
   "execution_count": null,
   "id": "7c3528df",
   "metadata": {},
   "outputs": [],
   "source": []
  },
  {
   "cell_type": "code",
   "execution_count": null,
   "id": "8e671ef9",
   "metadata": {},
   "outputs": [],
   "source": []
  },
  {
   "cell_type": "markdown",
   "id": "243f4c0d",
   "metadata": {},
   "source": [
    "### Rellenar NaNs"
   ]
  },
  {
   "cell_type": "markdown",
   "id": "055a8229",
   "metadata": {},
   "source": [
    "#### [pd.fillna](https://pandas.pydata.org/docs/reference/api/pandas.DataFrame.fillna.html)"
   ]
  },
  {
   "cell_type": "code",
   "execution_count": null,
   "id": "114043b3",
   "metadata": {},
   "outputs": [],
   "source": []
  },
  {
   "cell_type": "code",
   "execution_count": null,
   "id": "9f8d28f1",
   "metadata": {},
   "outputs": [],
   "source": []
  },
  {
   "cell_type": "code",
   "execution_count": null,
   "id": "6ee543de",
   "metadata": {},
   "outputs": [],
   "source": []
  },
  {
   "cell_type": "markdown",
   "id": "771de010",
   "metadata": {},
   "source": [
    "### Concatenar DataFrames"
   ]
  },
  {
   "cell_type": "markdown",
   "id": "27d36fc5",
   "metadata": {},
   "source": [
    "#### [pd.concat](https://pandas.pydata.org/docs/reference/api/pandas.concat.html)"
   ]
  },
  {
   "cell_type": "code",
   "execution_count": null,
   "id": "d7f8de8d",
   "metadata": {},
   "outputs": [],
   "source": []
  },
  {
   "cell_type": "markdown",
   "id": "c38d412b",
   "metadata": {},
   "source": [
    "### Eliminar duplicados"
   ]
  },
  {
   "cell_type": "markdown",
   "id": "a271b29c",
   "metadata": {},
   "source": [
    "#### [pd.drop_duplicates](https://pandas.pydata.org/docs/reference/api/pandas.DataFrame.drop_duplicates.html)"
   ]
  },
  {
   "cell_type": "code",
   "execution_count": null,
   "id": "45f9e426",
   "metadata": {},
   "outputs": [],
   "source": []
  },
  {
   "cell_type": "code",
   "execution_count": null,
   "id": "d48a9d74",
   "metadata": {},
   "outputs": [],
   "source": []
  },
  {
   "cell_type": "code",
   "execution_count": null,
   "id": "87756290",
   "metadata": {},
   "outputs": [],
   "source": []
  },
  {
   "cell_type": "markdown",
   "id": "573ccaee",
   "metadata": {},
   "source": [
    "### Cambiar tipo de dato"
   ]
  },
  {
   "cell_type": "code",
   "execution_count": null,
   "id": "5e6a8e04",
   "metadata": {},
   "outputs": [],
   "source": []
  },
  {
   "cell_type": "markdown",
   "id": "26da28b9",
   "metadata": {},
   "source": [
    "### Iterar por filas"
   ]
  },
  {
   "cell_type": "code",
   "execution_count": null,
   "id": "b5035d63",
   "metadata": {},
   "outputs": [],
   "source": []
  },
  {
   "cell_type": "markdown",
   "id": "da45a60c",
   "metadata": {},
   "source": [
    "### Trasponer DataFrame"
   ]
  },
  {
   "cell_type": "code",
   "execution_count": null,
   "id": "09197570",
   "metadata": {},
   "outputs": [],
   "source": []
  },
  {
   "cell_type": "markdown",
   "id": "4eaa857c",
   "metadata": {},
   "source": [
    "### Sustituir valores"
   ]
  },
  {
   "cell_type": "markdown",
   "id": "450a0fdb",
   "metadata": {},
   "source": [
    "#### [pd.replace](https://pandas.pydata.org/docs/reference/api/pandas.DataFrame.replace.html)\n",
    "Sirve para sustituir un valor o conjunto de valores por otros. Acepta como entradas un valor o lista de valores y como valor de sustitución un valor o lista de valores. Puede usarse un diccionario. También puede especificarse que se sustituyan los valores por los anteriores o posteriores."
   ]
  },
  {
   "cell_type": "code",
   "execution_count": null,
   "id": "0da22c2e",
   "metadata": {},
   "outputs": [],
   "source": []
  },
  {
   "cell_type": "code",
   "execution_count": null,
   "id": "60de0ca7",
   "metadata": {},
   "outputs": [],
   "source": []
  },
  {
   "cell_type": "code",
   "execution_count": null,
   "id": "4679a47d",
   "metadata": {},
   "outputs": [],
   "source": []
  },
  {
   "cell_type": "code",
   "execution_count": null,
   "id": "05aacdd7",
   "metadata": {},
   "outputs": [],
   "source": []
  },
  {
   "cell_type": "markdown",
   "id": "2970a36d",
   "metadata": {},
   "source": [
    "#### Sustituir valores de forma condicional"
   ]
  },
  {
   "cell_type": "code",
   "execution_count": null,
   "id": "3252fa04",
   "metadata": {},
   "outputs": [],
   "source": []
  },
  {
   "cell_type": "code",
   "execution_count": null,
   "id": "aa09a361",
   "metadata": {},
   "outputs": [],
   "source": []
  },
  {
   "cell_type": "markdown",
   "id": "dec1428c",
   "metadata": {},
   "source": [
    "### Uniendo DataFrames"
   ]
  },
  {
   "cell_type": "markdown",
   "id": "6fcb8fa2",
   "metadata": {},
   "source": [
    "#### [pd.merge](https://pandas.pydata.org/docs/reference/api/pandas.DataFrame.merge.html)\n",
    "El merge sirve para unir DataFrames o Series con nombres con un join al estilo de los lenguajes de bases de datos como SQL. El join se hace en columnas o índices y se pueden hacer left joins, right joins, productos cartesianos..."
   ]
  },
  {
   "cell_type": "code",
   "execution_count": null,
   "id": "89ca0c79",
   "metadata": {},
   "outputs": [],
   "source": []
  },
  {
   "cell_type": "code",
   "execution_count": null,
   "id": "df7627d9",
   "metadata": {},
   "outputs": [],
   "source": []
  },
  {
   "cell_type": "markdown",
   "id": "65296fd4",
   "metadata": {},
   "source": [
    "### Pivot / Unpivot tables"
   ]
  },
  {
   "cell_type": "markdown",
   "id": "e5e986d0",
   "metadata": {},
   "source": [
    "#### [pd.melt](https://pandas.pydata.org/docs/reference/api/pandas.melt.html)\n",
    "Despivota un DataFrame convirtiéndolo de formato ancho a largo"
   ]
  },
  {
   "cell_type": "code",
   "execution_count": null,
   "id": "379cb4bd",
   "metadata": {},
   "outputs": [],
   "source": []
  },
  {
   "cell_type": "code",
   "execution_count": null,
   "id": "b8dab34d",
   "metadata": {},
   "outputs": [],
   "source": []
  },
  {
   "cell_type": "code",
   "execution_count": null,
   "id": "b4e3758a",
   "metadata": {},
   "outputs": [],
   "source": []
  },
  {
   "cell_type": "markdown",
   "id": "8753ef35",
   "metadata": {},
   "source": [
    "#### [pd.pivot_table](https://pandas.pydata.org/docs/reference/api/pandas.pivot_table.html)\n",
    "Crear una tabla pivotante estilo hoja de cálculo como un DataFrame.\n",
    "\n",
    "Los niveles de la tabla pivotante se almacenarán en objetos MultiIndex (índices jerárquicos) sobre el índice y las columnas del DataFrame resultante."
   ]
  },
  {
   "cell_type": "code",
   "execution_count": null,
   "id": "345819bb",
   "metadata": {},
   "outputs": [],
   "source": []
  },
  {
   "cell_type": "markdown",
   "id": "a804e4f5",
   "metadata": {},
   "source": [
    "### Agrupar valores de un DataFrame"
   ]
  },
  {
   "cell_type": "markdown",
   "id": "c23c99b9",
   "metadata": {},
   "source": [
    "#### [df.groupby](https://pandas.pydata.org/docs/reference/api/pandas.DataFrame.groupby.html)\n",
    "Una operación groupby implica una combinación de división del objeto, aplicación de una función y combinación de los resultados. Puede utilizarse para agrupar grandes cantidades de datos y calcular operaciones sobre estos grupos.\n",
    "\n",
    "Las funciones de agregación son:\n",
    "\n",
    "* np.min : Devuelve el mínimo de una lista de valores.\n",
    "* np.max : Devuelve el máximo de una lista de valores.\n",
    "* np.count_nonzero : Devuelve el número de valores no nulos de una lista de valores.\n",
    "* np.sum : Devuelve la suma de una lista de valores.\n",
    "* np.mean : Devuelve la media de una lista de valores.\n",
    "* np.std : Devuelve la desviación típica de una lista de valores.\n"
   ]
  },
  {
   "cell_type": "code",
   "execution_count": null,
   "id": "5756365b",
   "metadata": {},
   "outputs": [],
   "source": []
  },
  {
   "cell_type": "markdown",
   "id": "85ef1598",
   "metadata": {},
   "source": [
    "# 3. Dibujando gráficos con Pandas\n",
    "Pandas integra métodos para poder dibujar gráficos de nuestras series o DataFrames de forma fácil y sencilla. Para ello usa la librería de gráficos de python matplotlib.\n"
   ]
  },
  {
   "cell_type": "code",
   "execution_count": null,
   "id": "5891941a",
   "metadata": {},
   "outputs": [],
   "source": []
  },
  {
   "cell_type": "code",
   "execution_count": null,
   "id": "3380b54b",
   "metadata": {},
   "outputs": [],
   "source": []
  },
  {
   "cell_type": "code",
   "execution_count": null,
   "id": "0f527bc2",
   "metadata": {},
   "outputs": [],
   "source": []
  }
 ],
 "metadata": {
  "kernelspec": {
   "display_name": "Python 3 (ipykernel)",
   "language": "python",
   "name": "python3"
  },
  "language_info": {
   "codemirror_mode": {
    "name": "ipython",
    "version": 3
   },
   "file_extension": ".py",
   "mimetype": "text/x-python",
   "name": "python",
   "nbconvert_exporter": "python",
   "pygments_lexer": "ipython3",
   "version": "3.10.12"
  }
 },
 "nbformat": 4,
 "nbformat_minor": 5
}

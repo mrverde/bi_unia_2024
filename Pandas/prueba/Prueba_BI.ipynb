{
 "cells": [
  {
   "cell_type": "markdown",
   "metadata": {},
   "source": [
    "##### Prueba BI"
   ]
  },
  {
   "cell_type": "markdown",
   "metadata": {},
   "source": [
    "### Objetivo de la prueba"
   ]
  },
  {
   "cell_type": "markdown",
   "metadata": {},
   "source": [
    "El objetivo de la prueba de código es validar tus conocimientos en la extracción, transformación y limpieza de los datos, a la vez que obtienes conclusiones lógicas sobre estos. Para ello, tendrás que realizar el análisis que te comentamos a continuación.\n"
   ]
  },
  {
   "cell_type": "markdown",
   "metadata": {},
   "source": [
    "### Instrucciones de la prueba"
   ]
  },
  {
   "cell_type": "markdown",
   "metadata": {},
   "source": [
    "En la carpeta \"data\" del directorio raíz, encontrarás varias fuentes de datos con las que trabajarás a lo largo de la prueba.\n",
    "\n",
    "- \"finance.db\": Base de datos SQLITE a la que accederás únicamente a través de una librería de python.\n",
    "- \"finance_data_1.csv\" y \"finance_data_2.csv\".\n",
    "- \"finance_data.json\" y \"funny_finance_data.json\"."
   ]
  },
  {
   "cell_type": "markdown",
   "metadata": {},
   "source": [
    "El lenguaje utilizado en la prueba es Python.\n",
    "\n",
    "Añade las celdas que sean necesaria y saca los análisis, conclusiones o explicaciones oportunas. Es de agradecer que vayas añadiendo comentarios en cada paso que realizas durante la prueba. Intenta justificar y mostrar por qué haces las cosas.\n",
    "\n",
    "Recuerda también que este archivo deberá poder ser ejecutado, así que antes de enviarlo comprueba que todas las celdas funcionan.\n",
    "\n",
    "La primera parte de la prueba consiste en un conjunto de consultas de SQL. Esta parte está resuelta y no hay que hacer nada más allá de quizás cambiar las / por \\\\\\\\ en función del sistema operativo que utilices.\n",
    "\n",
    "A continuación, te indicamos los paquetes y conexiones a realizar para comenzar la prueba."
   ]
  },
  {
   "cell_type": "code",
   "execution_count": 1,
   "metadata": {},
   "outputs": [],
   "source": [
    "import sqlite3\n",
    "import pandas as pd"
   ]
  },
  {
   "cell_type": "code",
   "execution_count": 2,
   "metadata": {},
   "outputs": [],
   "source": [
    "conn = sqlite3.connect(\"data/finance.db\")"
   ]
  },
  {
   "cell_type": "markdown",
   "metadata": {},
   "source": [
    "La tabla \"loans_data\" contiene información de las \"particiones\" de Agosto y Septiembre de 2018 de un servicio de contratación de préstamos. Contiene los siguientes campos:\n",
    "\n",
    "- id: identificador de oferta de financiación no nulo.\n",
    "- operationdate: fecha de operación en unix_timestamp_epoch.\n",
    "- userid: identificador de usuario.\n",
    "- tin: tipo de interés nominal\n",
    "- status: status_1 (inicial), status_2 (intermedio), KO (Denegado), OK (Admitido), ABANDONO (Desistido)...\n",
    "- rand_score: puntuación de riesgo. A mayor puntuación, mayor riesgo.\n",
    "- isinasnef: flag de pertenencia a la lista Asnef.\n",
    "- type: tipo de financiación\n",
    "- month_partition: partición de mes\n"
   ]
  },
  {
   "cell_type": "markdown",
   "metadata": {},
   "source": [
    "# Parte 1: Análisis de la tabla \"loans_data\""
   ]
  },
  {
   "cell_type": "markdown",
   "metadata": {},
   "source": [
    "Mediante consultas SQL (añadiendo en las respuestas las queries realizadas) trata de responder a las siguientes preguntas. Añade por favor cualquier comentario adicional."
   ]
  },
  {
   "cell_type": "markdown",
   "metadata": {},
   "source": [
    "#### 1.1. ¿Cuántos usuarios hay?"
   ]
  },
  {
   "cell_type": "code",
   "execution_count": 3,
   "metadata": {},
   "outputs": [
    {
     "name": "stdout",
     "output_type": "stream",
     "text": [
      "Hay un total de 6317 usuarios\n"
     ]
    }
   ],
   "source": [
    "query1 = (\"\"\"\n",
    "          SELECT COUNT(DISTINCT userid) as n_usuarios\n",
    "          FROM loans_data\n",
    "          \"\"\"\n",
    "         )\n",
    "       \n",
    "n_usuarios = pd.read_sql_query(query1, conn)\n",
    "print(f\"Hay un total de {n_usuarios.iloc[0,0]} usuarios\")"
   ]
  },
  {
   "cell_type": "markdown",
   "metadata": {},
   "source": [
    "#### 1.2. ¿Cuál es el tin medio por tipo de financiación?"
   ]
  },
  {
   "cell_type": "code",
   "execution_count": 4,
   "metadata": {},
   "outputs": [
    {
     "name": "stdout",
     "output_type": "stream",
     "text": [
      "El tin_medio por tipo de financiación type_1 es 16.505683371979362\n",
      "El tin_medio por tipo de financiación type_3 es 10.620689655172415\n"
     ]
    }
   ],
   "source": [
    "query2 = (\"\"\"\n",
    "          SELECT type, AVG(tin) as tin_medio\n",
    "          FROM loans_data\n",
    "          GROUP BY type\n",
    "          \"\"\"\n",
    "         )\n",
    "\n",
    "tin_medio = pd.read_sql_query(query2, conn)\n",
    "for _, row in tin_medio.iterrows():\n",
    "    print(f\"El tin_medio por tipo de financiación {row['type']} es {row['tin_medio']}\")"
   ]
  },
  {
   "cell_type": "markdown",
   "metadata": {},
   "source": [
    "#### 1.3. ¿Cuántos usuarios tienen una puntuación entre 0.01 y 0.015?"
   ]
  },
  {
   "cell_type": "code",
   "execution_count": 5,
   "metadata": {},
   "outputs": [
    {
     "name": "stdout",
     "output_type": "stream",
     "text": [
      "Hay un total de 1884 usuarios con una puntuación entre 0,01 y 0,015\n"
     ]
    }
   ],
   "source": [
    "query3 = (\"\"\"\n",
    "          SELECT COUNT(DISTINCT userid)\n",
    "          FROM loans_data\n",
    "          WHERE rand_score BETWEEN 0.01 AND 0.015\n",
    "          \"\"\"\n",
    "         )\n",
    "\n",
    "n_usuarios_001_0015 = pd.read_sql_query(query3, conn)\n",
    "print(f\"Hay un total de {n_usuarios_001_0015.iloc[0,0]} usuarios con una puntuación entre 0,01 y 0,015\")"
   ]
  },
  {
   "cell_type": "markdown",
   "metadata": {},
   "source": [
    "#### 1.4. ¿Cuál es el último estado, tin y tipo de financiación de los siguientes usuarios?\n",
    "- 33bd9523dde697a59905cb31736d75ea \n",
    "- 00014d1ac1ce489bba5f6cdb8d7b6112?"
   ]
  },
  {
   "cell_type": "code",
   "execution_count": 6,
   "metadata": {},
   "outputs": [
    {
     "name": "stdout",
     "output_type": "stream",
     "text": [
      "                             userid           status    tin    type\n",
      "0  00014d1ac1ce489bba5f6cdb8d7b6112        status_KO  26.28  type_1\n",
      "1  33bd9523dde697a59905cb31736d75ea  status_ABANDONO  24.00  type_1\n"
     ]
    }
   ],
   "source": [
    "query4 = (\"\"\"\n",
    "          SELECT T1.userid, status, tin, type\n",
    "          FROM loans_data T1\n",
    "          INNER JOIN (SELECT userid, MAX(operationdate) as operationdate\n",
    "                      FROM loans_data\n",
    "                      WHERE userid = \"33bd9523dde697a59905cb31736d75ea\" OR userid = \"00014d1ac1ce489bba5f6cdb8d7b6112\"\n",
    "                      GROUP BY userid) sq\n",
    "          ON T1.operationdate = sq.operationdate\n",
    "          \"\"\"\n",
    "         )\n",
    "\n",
    "last_state = pd.read_sql_query(query4, conn)\n",
    "print(last_state)"
   ]
  },
  {
   "cell_type": "markdown",
   "metadata": {},
   "source": [
    "#### 1.5. ¿Cuál es la tasa de aprobación en este periodo?"
   ]
  },
  {
   "cell_type": "code",
   "execution_count": 7,
   "metadata": {},
   "outputs": [
    {
     "name": "stdout",
     "output_type": "stream",
     "text": [
      "La tasa de aprobación en el período es: 20.498516320474778\n"
     ]
    }
   ],
   "source": [
    "query5 = (\"\"\"\n",
    "          SELECT status, count(*) * 100.0 / (SELECT count(*)\n",
    "                                             FROM loans_data) AS app_por\n",
    "          FROM loans_data\n",
    "          WHERE status = \"status_OK\"\n",
    "          \"\"\"\n",
    "         )\n",
    "\n",
    "\n",
    "tasa = pd.read_sql_query(query5, conn)\n",
    "print(f\"La tasa de aprobación en el período es: {tasa.iloc[0,1]}\")"
   ]
  },
  {
   "cell_type": "markdown",
   "metadata": {},
   "source": [
    "# Parte 2: Unión y limpieza de datos de los ficheros .csv"
   ]
  },
  {
   "cell_type": "markdown",
   "metadata": {},
   "source": [
    "En el mismo directorio del notebook y la base de datos que has utilizado, se encuentran dos ficheros en formato csv con datos adicionales (\"finance_data_1.csv\" y \"finance_data_2.csv\"). El objetivo de este apartado es que obtengas en un objeto **dataframe de la libreria \"pandas\"** todos los datos de las fuentes mencionadas, en **un solo dataframe**. Es decir, de ambos ficheros csv y de los datos de la parte 1.\n",
    "\n",
    "A tu criterio queda la limpieza de los datos, el tipo de dato de cada variable, la forma de obtener los datos de cada fuente, la forma de unirlos, el resultado final del dataframe...\n",
    "\n",
    "Por favor, añade todos los pasos que realices en el notebook, junto con los comentarios que consideres oportunos."
   ]
  },
  {
   "cell_type": "code",
   "execution_count": null,
   "metadata": {},
   "outputs": [],
   "source": []
  },
  {
   "cell_type": "markdown",
   "metadata": {},
   "source": [
    "# Parte 3: Análisis de ficheros json"
   ]
  },
  {
   "cell_type": "markdown",
   "metadata": {},
   "source": [
    "Una vez tienes todos los datos en la nueva tabla y en un dataframe juntos, tenemos datos adicionales de algunos usuarios en otra fuente de datos distinta. En este caso son dos archivos json. Se llaman \"finance_data.json\" y \"funny_finance_data.json\".\n",
    "\n",
    "Importa los datos de los archivos JSON, únelos entre sí y relacionalo con el dataframe obtenidos en la parte 2. Después responde a las siguientes preguntas."
   ]
  },
  {
   "cell_type": "markdown",
   "metadata": {},
   "source": [
    "#### 3.1. ¿Cuántos usuarios de Valencia han sido denegados?"
   ]
  },
  {
   "cell_type": "code",
   "execution_count": null,
   "metadata": {},
   "outputs": [],
   "source": []
  },
  {
   "cell_type": "markdown",
   "metadata": {},
   "source": [
    "#### 3.2. ¿Cuál es la media de edad para los préstamos aceptados?"
   ]
  },
  {
   "cell_type": "code",
   "execution_count": null,
   "metadata": {},
   "outputs": [],
   "source": []
  },
  {
   "cell_type": "markdown",
   "metadata": {},
   "source": [
    "#### 3.3. Por lo general, ¿Acceden a un TIN más bajo los hombres o las mujeres?"
   ]
  },
  {
   "cell_type": "code",
   "execution_count": null,
   "metadata": {},
   "outputs": [],
   "source": []
  },
  {
   "cell_type": "markdown",
   "metadata": {},
   "source": [
    "#### 3.4. ¿Cual es la tendencia de la tasa de aprobación en el tiempo (por días) y qué factores crees que han influido?"
   ]
  },
  {
   "cell_type": "code",
   "execution_count": null,
   "metadata": {},
   "outputs": [],
   "source": []
  },
  {
   "cell_type": "markdown",
   "metadata": {},
   "source": [
    "# Parte 4: Conclusiones sobre los datos obtenidos "
   ]
  },
  {
   "cell_type": "markdown",
   "metadata": {},
   "source": [
    "Trata de sacar un insight/conclusión de cualquier dataframe de los que has ido sacando o de la tabla con la que has comenzado la prueba y realiza al menos una visualización con cualquier librería de visualización con la que te sientas cómodo (matplotlib, bokeh...). Comenta los pasos que sigues para ello."
   ]
  },
  {
   "cell_type": "code",
   "execution_count": null,
   "metadata": {},
   "outputs": [],
   "source": []
  }
 ],
 "metadata": {
  "kernelspec": {
   "display_name": "Python 3 (ipykernel)",
   "language": "python",
   "name": "python3"
  },
  "language_info": {
   "codemirror_mode": {
    "name": "ipython",
    "version": 3
   },
   "file_extension": ".py",
   "mimetype": "text/x-python",
   "name": "python",
   "nbconvert_exporter": "python",
   "pygments_lexer": "ipython3",
   "version": "3.10.6"
  }
 },
 "nbformat": 4,
 "nbformat_minor": 2
}

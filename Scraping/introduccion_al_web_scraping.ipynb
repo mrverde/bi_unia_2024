{
 "cells": [
  {
   "cell_type": "markdown",
   "id": "a28a302a",
   "metadata": {},
   "source": [
    "# Introducción al webscraping"
   ]
  },
  {
   "cell_type": "markdown",
   "id": "c617fcf9",
   "metadata": {},
   "source": [
    "## Introducción\n",
    "\n",
    "### ¿De qué se compone una web?\n",
    "\n",
    "[HTML](https://developer.mozilla.org/es/docs/Web/HTML), [CSS](https://developer.mozilla.org/es/docs/Web/CSS) y [Javascript](https://developer.mozilla.org/es/docs/Web/JavaScript) \n",
    "\n",
    "### [PETICIONES HTTP](https://developer.mozilla.org/es/docs/Web/HTTP/Methods)\n",
    "\n",
    "GET, POST, PUT, DELETE, PATCH, ... \n",
    "\n",
    "\n",
    "### [HTML](https://developer.mozilla.org/es/docs/Web/HTML)\n",
    "\n",
    "ETIQUETAS, ATRIBUTOS, ...\n",
    "\n",
    "### [SELECTORES CSS](https://www.w3schools.com/cssref/css_selectors.php)\n",
    "\n",
    ". # > +"
   ]
  },
  {
   "cell_type": "markdown",
   "id": "835ef675",
   "metadata": {},
   "source": [
    "## Importamos librerías\n",
    "\n",
    "En primer lugar importamos las librerías sys, csv y statistics, que vienen por defecto en Python."
   ]
  },
  {
   "cell_type": "code",
   "execution_count": 1,
   "id": "784483d7",
   "metadata": {},
   "outputs": [],
   "source": [
    "import sys \n",
    "import csv\n",
    "import statistics"
   ]
  },
  {
   "cell_type": "markdown",
   "id": "c7a40c14",
   "metadata": {},
   "source": [
    "Comprobamos ahora si tenemos instaladas las librerías Beautiful Soup, Request y Pandas. Si no es así las instalamos"
   ]
  },
  {
   "cell_type": "code",
   "execution_count": 2,
   "id": "198e5806",
   "metadata": {},
   "outputs": [],
   "source": [
    "%%capture\n",
    "if 'BeautifulSoup' not in sys.modules:\n",
    "    !{sys.executable} -m pip install beautifulsoup4\n",
    "    \n",
    "if 'requests' not in sys.modules:\n",
    "    !{sys.executable} -m pip install requests\n",
    "    \n",
    "if 'requests' not in sys.modules:\n",
    "    !{sys.executable} -m pip install pandas"
   ]
  },
  {
   "cell_type": "markdown",
   "id": "3273ab4c",
   "metadata": {},
   "source": [
    "Importamos ahora Beautiful Soup, Requests y Pandas"
   ]
  },
  {
   "cell_type": "code",
   "execution_count": 3,
   "id": "2b02f2f1",
   "metadata": {},
   "outputs": [],
   "source": [
    "from bs4 import BeautifulSoup\n",
    "import requests\n",
    "import pandas as pd"
   ]
  },
  {
   "cell_type": "markdown",
   "id": "4af9f4b1",
   "metadata": {},
   "source": [
    "## Funciones auxiliares\n",
    "\n",
    "Ponemos un par de funciones auxiliares que usaremos un poco más adelante"
   ]
  },
  {
   "cell_type": "code",
   "execution_count": 4,
   "id": "07dbecfe",
   "metadata": {},
   "outputs": [],
   "source": [
    "# Para exportar listas a archivos csv\n",
    "def export_list_to_csv(rows, columns=None, filename=\"output\", delimiter=\";\"):\n",
    "\n",
    "    if type(rows[0]) == str:\n",
    "        rows = [[row] for row in rows]\n",
    "\n",
    "    if columns:\n",
    "        assert len(columns) == len(rows[0]), \"There should be the same number of columns and rows elements\"\n",
    " \n",
    "    with open(f\"{filename}.csv\", 'w') as f:\n",
    "        write = csv.writer(f, delimiter=delimiter)\n",
    "\n",
    "        if columns:\n",
    "            write.writerow(columns)\n",
    "\n",
    "        write.writerows(rows)"
   ]
  },
  {
   "cell_type": "code",
   "execution_count": 5,
   "id": "1b847051",
   "metadata": {},
   "outputs": [],
   "source": [
    "# Para dividir una lista en trozos más pequeños\n",
    "def chunks(lst, n):\n",
    "    return [lst[i:i + n] for i in range(0, len(lst), n)]"
   ]
  },
  {
   "cell_type": "markdown",
   "id": "5e4aa31d",
   "metadata": {},
   "source": [
    "## Bloque 1 - Extrayendo los titulares de un periódico"
   ]
  },
  {
   "cell_type": "code",
   "execution_count": null,
   "id": "b2492602",
   "metadata": {},
   "outputs": [],
   "source": []
  },
  {
   "cell_type": "markdown",
   "id": "f538c946",
   "metadata": {},
   "source": [
    "En primer lugar usamos la librería requests para bajarnos el HTML de la web que queremos descargar"
   ]
  },
  {
   "cell_type": "code",
   "execution_count": null,
   "id": "0291f183",
   "metadata": {},
   "outputs": [],
   "source": []
  },
  {
   "cell_type": "markdown",
   "id": "a2b850ff",
   "metadata": {},
   "source": [
    "Podemos ver el [status code de nuestra petición web](https://developer.mozilla.org/es/docs/Web/HTTP/Status). Si el status code es 200, es que todo ha ido bien"
   ]
  },
  {
   "cell_type": "code",
   "execution_count": null,
   "id": "11d1add7",
   "metadata": {},
   "outputs": [],
   "source": []
  },
  {
   "cell_type": "markdown",
   "id": "ae2b3f24",
   "metadata": {},
   "source": [
    "Para consultar el código HTML descargado usamos la propiedad text"
   ]
  },
  {
   "cell_type": "code",
   "execution_count": null,
   "id": "b4015a70",
   "metadata": {},
   "outputs": [],
   "source": []
  },
  {
   "cell_type": "markdown",
   "id": "a78bf69e",
   "metadata": {},
   "source": [
    "El siguiente paso es parsear el documento. El parseo es el proceso de analizar un texto para identificar su estructura y poder extraer información de ella. Existen diferentes parseadores que pueden usarse. En nuestro caso usaremos html.parser"
   ]
  },
  {
   "cell_type": "code",
   "execution_count": null,
   "id": "7867ec64",
   "metadata": {},
   "outputs": [],
   "source": []
  },
  {
   "cell_type": "markdown",
   "id": "90291d92",
   "metadata": {},
   "source": [
    "Tras revisar la web, vemos que los artículos del periódico comparten la clase titleArticleEditable. Utilizamos el selector CSS de clases (el .) para seleccionarlos."
   ]
  },
  {
   "cell_type": "code",
   "execution_count": null,
   "id": "39a41af0",
   "metadata": {},
   "outputs": [],
   "source": []
  },
  {
   "cell_type": "markdown",
   "id": "e9ec140f",
   "metadata": {},
   "source": [
    "Comprobamos que estamos extrayendo el titular"
   ]
  },
  {
   "cell_type": "code",
   "execution_count": null,
   "id": "7fe34083",
   "metadata": {},
   "outputs": [],
   "source": []
  },
  {
   "cell_type": "markdown",
   "id": "312a47e0",
   "metadata": {},
   "source": [
    "Extraemos ahora todos los artículos, reemplazamos los saltos de línea por espacios en blanco y quitamos los espacios en blanco al principio y al final"
   ]
  },
  {
   "cell_type": "code",
   "execution_count": null,
   "id": "4dc6f64a",
   "metadata": {},
   "outputs": [],
   "source": []
  },
  {
   "cell_type": "markdown",
   "id": "d9119ac5",
   "metadata": {},
   "source": [
    "Veamos ahora todos los titulares"
   ]
  },
  {
   "cell_type": "code",
   "execution_count": null,
   "id": "e8905eac",
   "metadata": {},
   "outputs": [],
   "source": []
  },
  {
   "cell_type": "markdown",
   "id": "066c2d54",
   "metadata": {},
   "source": [
    "## Bloque 2 - Descargar los datos diarios de la bolsa"
   ]
  },
  {
   "cell_type": "code",
   "execution_count": null,
   "id": "6f5d978f",
   "metadata": {},
   "outputs": [],
   "source": []
  },
  {
   "cell_type": "markdown",
   "id": "626253d6",
   "metadata": {},
   "source": [
    "Nos bajamos el HTML de la web donde tenemos los datos de la bolsa"
   ]
  },
  {
   "cell_type": "code",
   "execution_count": null,
   "id": "7f763af2",
   "metadata": {},
   "outputs": [],
   "source": []
  },
  {
   "cell_type": "markdown",
   "id": "3a051d4f",
   "metadata": {},
   "source": [
    "Parseamos el documento"
   ]
  },
  {
   "cell_type": "code",
   "execution_count": null,
   "id": "4aa74e35",
   "metadata": {},
   "outputs": [],
   "source": []
  },
  {
   "cell_type": "markdown",
   "id": "61b8660d",
   "metadata": {},
   "source": [
    "Extraemos los nombres de las columnas"
   ]
  },
  {
   "cell_type": "code",
   "execution_count": null,
   "id": "986cc9df",
   "metadata": {},
   "outputs": [],
   "source": []
  },
  {
   "cell_type": "code",
   "execution_count": null,
   "id": "82b0e48f",
   "metadata": {},
   "outputs": [],
   "source": []
  },
  {
   "cell_type": "markdown",
   "id": "c20d4ea2",
   "metadata": {},
   "source": [
    "Extraemos los datos"
   ]
  },
  {
   "cell_type": "code",
   "execution_count": null,
   "id": "0435d19d",
   "metadata": {},
   "outputs": [],
   "source": []
  },
  {
   "cell_type": "code",
   "execution_count": null,
   "id": "03bb8f38",
   "metadata": {},
   "outputs": [],
   "source": []
  },
  {
   "cell_type": "markdown",
   "id": "8cbb5fd0",
   "metadata": {},
   "source": [
    "Dividimos los datos por filas"
   ]
  },
  {
   "cell_type": "code",
   "execution_count": null,
   "id": "0e1355e9",
   "metadata": {},
   "outputs": [],
   "source": []
  },
  {
   "cell_type": "code",
   "execution_count": null,
   "id": "66a1f2fc",
   "metadata": {},
   "outputs": [],
   "source": []
  },
  {
   "cell_type": "code",
   "execution_count": null,
   "id": "03220282",
   "metadata": {},
   "outputs": [],
   "source": []
  },
  {
   "cell_type": "markdown",
   "id": "1b8d810b",
   "metadata": {},
   "source": [
    "## Bloque 3 - ¿Quién utiliza más palabras en sus canciones?"
   ]
  },
  {
   "cell_type": "markdown",
   "id": "70d2af8b",
   "metadata": {},
   "source": [
    "Localizamos en primer lugar una página web con letras de artistas que sea fácilmente parseable y le damos al opción de "
   ]
  },
  {
   "cell_type": "code",
   "execution_count": null,
   "id": "29ea7e22",
   "metadata": {},
   "outputs": [],
   "source": []
  },
  {
   "cell_type": "markdown",
   "id": "7fe5ecc0",
   "metadata": {},
   "source": [
    "Extraemos ahora todos los links con canciones de un artista"
   ]
  },
  {
   "cell_type": "code",
   "execution_count": null,
   "id": "994d1077",
   "metadata": {},
   "outputs": [],
   "source": []
  },
  {
   "cell_type": "code",
   "execution_count": null,
   "id": "a7245d45",
   "metadata": {},
   "outputs": [],
   "source": []
  },
  {
   "cell_type": "code",
   "execution_count": null,
   "id": "a6f0d439",
   "metadata": {
    "scrolled": true
   },
   "outputs": [],
   "source": []
  },
  {
   "cell_type": "markdown",
   "id": "cf011ef1",
   "metadata": {},
   "source": [
    "Con esto y la función que definimos al principio del documento podríamos exportar si quisiéramos todas las letras y sus nombres a un archivo"
   ]
  },
  {
   "cell_type": "code",
   "execution_count": null,
   "id": "242cb69c",
   "metadata": {},
   "outputs": [],
   "source": []
  },
  {
   "cell_type": "code",
   "execution_count": null,
   "id": "159c9119",
   "metadata": {},
   "outputs": [],
   "source": []
  },
  {
   "cell_type": "markdown",
   "id": "2b4787c0",
   "metadata": {},
   "source": [
    "Extraigamos ahora la letra de una canción utilizando su dirección web"
   ]
  },
  {
   "cell_type": "code",
   "execution_count": null,
   "id": "f4870710",
   "metadata": {},
   "outputs": [],
   "source": []
  },
  {
   "cell_type": "markdown",
   "id": "b2a2b20e",
   "metadata": {},
   "source": [
    "Seleccionemos los párrafos con las letras"
   ]
  },
  {
   "cell_type": "code",
   "execution_count": null,
   "id": "271d526b",
   "metadata": {},
   "outputs": [],
   "source": []
  },
  {
   "cell_type": "markdown",
   "id": "026fdb3b",
   "metadata": {},
   "source": [
    "Reemplacemos los saltos de línea de HTML (\\</br>) con espacios en blanco"
   ]
  },
  {
   "cell_type": "code",
   "execution_count": null,
   "id": "a60333d1",
   "metadata": {},
   "outputs": [],
   "source": []
  },
  {
   "cell_type": "markdown",
   "id": "926603b4",
   "metadata": {},
   "source": [
    "Transformemos ahora la canción de un objeto parseado de beautiful soup a texto"
   ]
  },
  {
   "cell_type": "code",
   "execution_count": null,
   "id": "a9c2a4f2",
   "metadata": {},
   "outputs": [],
   "source": []
  },
  {
   "cell_type": "markdown",
   "id": "b4424cbf",
   "metadata": {},
   "source": [
    "Comprobemos como queda la canción"
   ]
  },
  {
   "cell_type": "code",
   "execution_count": null,
   "id": "07423e1b",
   "metadata": {
    "scrolled": true
   },
   "outputs": [],
   "source": []
  },
  {
   "cell_type": "markdown",
   "id": "0dd55e5a",
   "metadata": {},
   "source": [
    "Con esto podemos contar el número de palabras distintas que hay en la letra"
   ]
  },
  {
   "cell_type": "code",
   "execution_count": null,
   "id": "4a79d36e",
   "metadata": {},
   "outputs": [],
   "source": []
  },
  {
   "cell_type": "markdown",
   "id": "23748f95",
   "metadata": {},
   "source": [
    "Definamos ahora una función que haga todos estos pasos"
   ]
  },
  {
   "cell_type": "code",
   "execution_count": null,
   "id": "a1bcdf20",
   "metadata": {},
   "outputs": [],
   "source": []
  },
  {
   "cell_type": "markdown",
   "id": "c16a6926",
   "metadata": {},
   "source": [
    "Podemos ahora ver cuantas palabras distintas tiene cada canción del artista"
   ]
  },
  {
   "cell_type": "code",
   "execution_count": null,
   "id": "5c0d678e",
   "metadata": {
    "scrolled": true
   },
   "outputs": [],
   "source": []
  },
  {
   "cell_type": "markdown",
   "id": "162c0932",
   "metadata": {},
   "source": [
    "Podemos ahora calcular el número medio de palabras distintas de cada artista"
   ]
  },
  {
   "cell_type": "code",
   "execution_count": null,
   "id": "893f0b09",
   "metadata": {},
   "outputs": [],
   "source": []
  }
 ],
 "metadata": {
  "kernelspec": {
   "display_name": "venv_local",
   "language": "python",
   "name": "venv_local"
  },
  "language_info": {
   "codemirror_mode": {
    "name": "ipython",
    "version": 3
   },
   "file_extension": ".py",
   "mimetype": "text/x-python",
   "name": "python",
   "nbconvert_exporter": "python",
   "pygments_lexer": "ipython3",
   "version": "3.11.4"
  }
 },
 "nbformat": 4,
 "nbformat_minor": 5
}

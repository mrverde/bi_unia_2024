{
 "cells": [
  {
   "cell_type": "markdown",
   "id": "a962da59",
   "metadata": {},
   "source": [
    "# Introducción a las APIs\n",
    "\n",
    "Cuando queremos extraer datos de internet la forma más complicada es mediante el scraping y éste debe ser el último recurso.\n",
    "\n",
    "Antes de eso lo ideal es comprobar si la web o servicio del que queremos extraer datos dispone de una API. API significa \"interfaz de programación de aplicaciones\" y son protocolos y mecanismos que permiten a los softwares intercambiar información.\n",
    "\n",
    "Las APIs pueden ser públicas o de pago. Algunas además necesitan registro y autenticación.\n",
    "\n",
    "La información además puede venir en diferentes formatos. El formato mas común actualmente es [JSON](https://developer.mozilla.org/es/docs/Learn/JavaScript/Objects/JSON), aunque antes se usaba más [XML](https://es.wikipedia.org/wiki/Extensible_Markup_Language).\n",
    "\n",
    "En github podemos encontrar el repositorio [public-apis](https://github.com/public-apis/public-apis) donde podremos consultar cientos de APIs donde obtener datos.\n",
    "\n",
    "Existen diferentes tipos de APIs: Soap, WPC, Websocket, REST... Vamos a entrar sólo en las REST que son las más populares.\n",
    "\n",
    "\n",
    "## REST\n",
    "\n",
    "REST significa transferencia de estado representacional y es la forma más popular de comunicación de APIs hoy en día. Esta forma de comunicación consiste en que un cliente realiza una una solicitud a un servidor como datos, el servidor realiza un conjunto de funciones definidas y devuelve unos datos de salida.\n",
    "\n",
    "REST define un conjunto de funciones. Las más importantes son GET, PUT, PATCH, POST y DELETE.\n",
    "\n",
    "Vamos a centrarnos en las peticiones GET.\n",
    "\n",
    "## Peticiones GET\n",
    "\n",
    "Las peticiones GET sirven para pedir información. Si la petición ha ido bien el servidor devuelve un [código 200](https://developer.mozilla.org/es/docs/Web/HTTP/Status) y la información que hemos pedido.\n",
    "\n",
    "Tomemos ahora el ejemplo de un navegador web. Cuando en un navegador le indicamos una dirección web lo que está pasando es que nuestro navegador está haciendo una petición GET a esa página. Si todo va bien, el servidor al que le hacemos la petición devolverá el código HTML que usará el navegador para construir la web.\n",
    "\n",
    "Veamos como hacer esto con Python usando la [librería requests](https://requests.readthedocs.io):"
   ]
  },
  {
   "cell_type": "code",
   "execution_count": 1,
   "id": "0bbda4e6",
   "metadata": {},
   "outputs": [],
   "source": []
  },
  {
   "cell_type": "markdown",
   "id": "bc522c9e",
   "metadata": {},
   "source": [
    "Si hacemos un print de la petición que hemos hecho nos devolverá el código de nuestra petición."
   ]
  },
  {
   "cell_type": "code",
   "execution_count": null,
   "id": "600cd632",
   "metadata": {},
   "outputs": [],
   "source": []
  },
  {
   "cell_type": "markdown",
   "id": "6c5923e9",
   "metadata": {},
   "source": [
    "Y si imprimiemos la propiedad text nos devolverá en formato texto lo que nos ha devuelto el servidor."
   ]
  },
  {
   "cell_type": "code",
   "execution_count": null,
   "id": "a5997f38",
   "metadata": {},
   "outputs": [],
   "source": []
  },
  {
   "cell_type": "markdown",
   "id": "d7db775f",
   "metadata": {},
   "source": [
    "Vamos ahora a ver como trabajar con una API de internet para extraer datos. Tras examinar el repositorio de [public-apis](https://github.com/public-apis/public-apis) vamos a usar por ejemplo la API de [arbeitnow](http://www.arbeitnow.com), un buscador de empleo alemán. \n",
    "\n",
    "La documentación de la API la podemos encontrar en la dirección https://documenter.getpostman.com/view/18545278/UVJbJdKh\n",
    "\n",
    "Vamos ahora a hacer la petición utilizando la librería requests."
   ]
  },
  {
   "cell_type": "code",
   "execution_count": 4,
   "id": "c5632ad7",
   "metadata": {},
   "outputs": [],
   "source": []
  },
  {
   "cell_type": "markdown",
   "id": "cbde8af9",
   "metadata": {},
   "source": [
    "Para ver el JSON con los datos que recibimos tendremos que utilizar el método json."
   ]
  },
  {
   "cell_type": "code",
   "execution_count": null,
   "id": "bf42ba71",
   "metadata": {},
   "outputs": [],
   "source": []
  },
  {
   "cell_type": "markdown",
   "id": "d13f2a69",
   "metadata": {},
   "source": [
    "El método json nos devuelve un diccionario"
   ]
  },
  {
   "cell_type": "code",
   "execution_count": null,
   "id": "840c71ac",
   "metadata": {},
   "outputs": [],
   "source": []
  },
  {
   "cell_type": "markdown",
   "id": "0d709412",
   "metadata": {},
   "source": [
    "Así que podremos usar los métodos de los diccionarios para manipular los datos:"
   ]
  },
  {
   "cell_type": "code",
   "execution_count": null,
   "id": "428e1ff6",
   "metadata": {},
   "outputs": [],
   "source": []
  },
  {
   "cell_type": "code",
   "execution_count": null,
   "id": "386425f2",
   "metadata": {},
   "outputs": [],
   "source": []
  },
  {
   "cell_type": "markdown",
   "id": "e5986b80",
   "metadata": {},
   "source": [
    "La clave \"data\" contiene una lista con los datos de cada uno de los empleos. Hagamos un mini análisis con los datos, veamos en que ciudad surgen más empleos y si el número de habitantes tiene algo que ver.\n",
    "\n",
    "Vamos a iterar por cada uno de los elementos de data, veamos la localización y contemos cuantas veces se repite cada una de ellas."
   ]
  },
  {
   "cell_type": "code",
   "execution_count": 9,
   "id": "a907b7ff",
   "metadata": {},
   "outputs": [],
   "source": []
  },
  {
   "cell_type": "code",
   "execution_count": null,
   "id": "ddebbe60",
   "metadata": {},
   "outputs": [],
   "source": []
  },
  {
   "cell_type": "markdown",
   "id": "e52acac6",
   "metadata": {},
   "source": [
    "Ahora tenemos que ver los habitantes de cada una de las ciudades. Vamos a extraer los datos de población de un [artículo](https://es.wikipedia.org/wiki/Anexo:Ciudades_de_Alemania_por_poblaci%C3%B3n) de la wikipedia, utilizando para ello la librería pandas."
   ]
  },
  {
   "cell_type": "code",
   "execution_count": null,
   "id": "db509e60",
   "metadata": {},
   "outputs": [],
   "source": []
  },
  {
   "cell_type": "markdown",
   "id": "9ed45aac",
   "metadata": {},
   "source": [
    "Podemos ver como son extraídas cada una de las tablas. La que nos interesa es la segunda, que es la que contiene los datos de población."
   ]
  },
  {
   "cell_type": "code",
   "execution_count": null,
   "id": "48c2d803",
   "metadata": {},
   "outputs": [],
   "source": []
  },
  {
   "cell_type": "markdown",
   "id": "802a1be7",
   "metadata": {},
   "source": [
    "Y veamos el nombre de sus columnas"
   ]
  },
  {
   "cell_type": "code",
   "execution_count": null,
   "id": "a591bd2b",
   "metadata": {},
   "outputs": [],
   "source": []
  },
  {
   "cell_type": "markdown",
   "id": "96f1071e",
   "metadata": {},
   "source": [
    "Vamos a quedarnos con la tabla con los datos que queremos y vamos a renombrar las columnas con unos nombres con los que sea más fácil de trabajar."
   ]
  },
  {
   "cell_type": "code",
   "execution_count": 14,
   "id": "dedf993f",
   "metadata": {},
   "outputs": [],
   "source": []
  },
  {
   "cell_type": "code",
   "execution_count": 15,
   "id": "a10a316e",
   "metadata": {},
   "outputs": [],
   "source": []
  },
  {
   "cell_type": "markdown",
   "id": "fdb7fe48",
   "metadata": {},
   "source": [
    "Para poder unir las tablas necesitamos que los nombres de las ciudades de la tabla de wikipedia y los de la API coincidan. Vamos a intentar estandarizar los valores eliminando los caracteres extraños. Para ello utilizaremos la librería unidecode."
   ]
  },
  {
   "cell_type": "code",
   "execution_count": null,
   "id": "fc037297",
   "metadata": {},
   "outputs": [],
   "source": []
  },
  {
   "cell_type": "code",
   "execution_count": null,
   "id": "25377469",
   "metadata": {},
   "outputs": [],
   "source": []
  },
  {
   "cell_type": "markdown",
   "id": "42eba061",
   "metadata": {},
   "source": [
    "Creemos ahora un dataframe con los datos que hemos obtenido de la API."
   ]
  },
  {
   "cell_type": "code",
   "execution_count": null,
   "id": "cd2f5c19",
   "metadata": {},
   "outputs": [],
   "source": []
  },
  {
   "cell_type": "markdown",
   "id": "31d60650",
   "metadata": {},
   "source": [
    "Eliminemos los caracteres raros de los datos de la API."
   ]
  },
  {
   "cell_type": "code",
   "execution_count": 19,
   "id": "04b4da0b",
   "metadata": {},
   "outputs": [],
   "source": []
  },
  {
   "cell_type": "markdown",
   "id": "a0fd610e",
   "metadata": {},
   "source": [
    "Y ahora unamos los dos DFs usando los nombres sin carateres raros"
   ]
  },
  {
   "cell_type": "code",
   "execution_count": null,
   "id": "953802be",
   "metadata": {},
   "outputs": [],
   "source": []
  },
  {
   "cell_type": "code",
   "execution_count": null,
   "id": "5085e33e",
   "metadata": {},
   "outputs": [],
   "source": []
  },
  {
   "cell_type": "code",
   "execution_count": null,
   "id": "f2b92e06",
   "metadata": {},
   "outputs": [],
   "source": []
  },
  {
   "cell_type": "markdown",
   "id": "506c87b4",
   "metadata": {},
   "source": [
    "## Comando para instalar librerías"
   ]
  },
  {
   "cell_type": "code",
   "execution_count": 1,
   "id": "6cb08d25",
   "metadata": {},
   "outputs": [],
   "source": [
    "%%capture\n",
    "import sys\n",
    "\n",
    "if 'lxml' not in sys.modules:\n",
    "    !{sys.executable} -m pip install lxml\n",
    "    \n",
    "if 'html5lib' not in sys.modules:\n",
    "    !{sys.executable} -m pip install html5lib"
   ]
  },
  {
   "cell_type": "markdown",
   "id": "a29c11d9",
   "metadata": {},
   "source": [
    "# Ejercicios\n",
    "\n",
    "1) Extraer las ciudades de las 1200 primeras ofertas de arbeitnow\n",
    "\n",
    "2) Buscar una API en public-apis y hacer un pequeño script que extraiga los datos. Si quieres un reto puedes intentar utilizar una API con contraseña"
   ]
  }
 ],
 "metadata": {
  "kernelspec": {
   "display_name": "venv",
   "language": "python",
   "name": "python3"
  },
  "language_info": {
   "codemirror_mode": {
    "name": "ipython",
    "version": 3
   },
   "file_extension": ".py",
   "mimetype": "text/x-python",
   "name": "python",
   "nbconvert_exporter": "python",
   "pygments_lexer": "ipython3",
   "version": "3.12.7"
  }
 },
 "nbformat": 4,
 "nbformat_minor": 5
}
